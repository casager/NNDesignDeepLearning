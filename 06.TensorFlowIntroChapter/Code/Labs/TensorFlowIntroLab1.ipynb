{
 "cells": [
  {
   "cell_type": "markdown",
   "metadata": {},
   "source": [
    "[![Open In Colab](https://colab.research.google.com/assets/colab-badge.svg)](https://colab.research.google.com/github/NNDesignDeepLearning/NNDesignDeepLearning/blob/master/06.TensorFlowIntroChapter/Code/LabSolutions/TensorFlowIntroLab1_Solution.ipynb)"
   ]
  },
  {
   "cell_type": "markdown",
   "metadata": {},
   "source": [
    "# TensorFlow Introduction Lab 1 -- Getting Started\n",
    "\n",
    "This objective of this TensorFlow lab is to help you become familiar with the basics of using TensorFlow to load data, create multilayer networks, train the networks and display the results. If you haven't already done so, run the cells in the `TensorFlowIntroChapter.ipynb` Jupyter Notebook to prepare for this lab.\n",
    "\n",
    "Some of the cells in this notebook are prefilled with working code. In addition, there will be cells with missing code (labeled `# TODO`), which you will need to complete. If you need additional cells, you can use the `Insert` menu at the top of the page.\n",
    "\n",
    "## Loading Modules\n",
    "\n",
    "We begin by loading some useful modules. "
   ]
  },
  {
   "cell_type": "code",
   "execution_count": 2,
   "metadata": {},
   "outputs": [],
   "source": [
    "%matplotlib inline \n",
    "import matplotlib.pyplot as plt\n",
    "import numpy as np\n",
    "from tensorflow.keras.utils import to_categorical\n",
    "from tensorflow.keras import models\n",
    "from tensorflow.keras import layers\n",
    "from tensorflow.data import Dataset\n",
    "from tensorflow.keras import datasets"
   ]
  },
  {
   "cell_type": "markdown",
   "metadata": {},
   "source": [
    "# Loading Data\n",
    "\n",
    "For this lab we will use a famous data set -- MNIST. This is a large database of handwritten digits. It contains 60,000 training images and 10,000 testing images. Each image consists of arrays of 28x28 pixels. The original website for the data, which describes the dataset in detail, and records accuracies using various machine learning strategies, can be found [here](http://yann.lecun.com/exdb/mnist/). The data set can be accessed easily using `tensorflow.keras.datasets`, as illustrated in the next cell."
   ]
  },
  {
   "cell_type": "code",
   "execution_count": 3,
   "metadata": {},
   "outputs": [],
   "source": [
    "(p_train, t_train), (p_test, t_test) = datasets.mnist.load_data()"
   ]
  },
  {
   "cell_type": "markdown",
   "metadata": {},
   "source": [
    "In the next cell, check the sizes of the arrays."
   ]
  },
  {
   "cell_type": "code",
   "execution_count": 4,
   "metadata": {},
   "outputs": [
    {
     "name": "stdout",
     "output_type": "stream",
     "text": [
      "(60000, 28, 28)\n",
      "(60000,)\n",
      "(10000, 28, 28)\n",
      "(10000,)\n"
     ]
    }
   ],
   "source": [
    "print(p_train.shape)\n",
    "print(t_train.shape)\n",
    "print(p_test.shape)\n",
    "print(t_test.shape)"
   ]
  },
  {
   "cell_type": "markdown",
   "metadata": {},
   "source": [
    "Let's take a look at one of the input images in the training set."
   ]
  },
  {
   "cell_type": "code",
   "execution_count": 5,
   "metadata": {},
   "outputs": [
    {
     "data": {
      "text/plain": [
       "<matplotlib.image.AxesImage at 0x7f18642db7a0>"
      ]
     },
     "execution_count": 5,
     "metadata": {},
     "output_type": "execute_result"
    },
    {
     "data": {
      "image/png": "[encoded data removed]",
      "text/plain": [
       "<Figure size 640x480 with 1 Axes>"
      ]
     },
     "metadata": {},
     "output_type": "display_data"
    }
   ],
   "source": [
    "plt.imshow(p_train[0], cmap='gray')"
   ]
  },
  {
   "cell_type": "markdown",
   "metadata": {},
   "source": [
    "What digit is this supposed to be? Check the corresponding target value in the next cell."
   ]
  },
  {
   "cell_type": "code",
   "execution_count": 6,
   "metadata": {},
   "outputs": [
    {
     "name": "stdout",
     "output_type": "stream",
     "text": [
      "5\n"
     ]
    }
   ],
   "source": [
    "print(t_train[0])"
   ]
  },
  {
   "cell_type": "markdown",
   "metadata": {},
   "source": [
    "The targets are represented as integers 0 through 9. We need to perform a one-hot encoding of the targets, so that they can be used for network training. Use the `to_categorical` method to do the conversion on training and testing targets."
   ]
  },
  {
   "cell_type": "code",
   "execution_count": 7,
   "metadata": {},
   "outputs": [],
   "source": [
    "# print(t_train[7])\n",
    "t_train = to_categorical(t_train)\n",
    "# print(t_train[7])\n",
    "t_test = to_categorical(t_test)"
   ]
  },
  {
   "cell_type": "markdown",
   "metadata": {},
   "source": [
    "Check the conversion."
   ]
  },
  {
   "cell_type": "code",
   "execution_count": 8,
   "metadata": {},
   "outputs": [
    {
     "name": "stdout",
     "output_type": "stream",
     "text": [
      "[0. 0. 0. 0. 0. 1. 0. 0. 0. 0.]\n"
     ]
    }
   ],
   "source": [
    "print(t_train[0])"
   ]
  },
  {
   "cell_type": "markdown",
   "metadata": {},
   "source": [
    "It is also useful to normalize the inputs. In this case, the maximum pixel values in the images is 255, so a simple normalization is to divide all inputs by 255.0, so that inputs will range from 0 to 1. Perform that normalization on the training and testing inputs in the next cell."
   ]
  },
  {
   "cell_type": "code",
   "execution_count": 9,
   "metadata": {},
   "outputs": [],
   "source": [
    "p_train = p_train.astype('float32') / 255.0\n",
    "p_test = p_test.astype('float32') / 255.0"
   ]
  },
  {
   "cell_type": "code",
   "execution_count": 10,
   "metadata": {},
   "outputs": [
    {
     "name": "stdout",
     "output_type": "stream",
     "text": [
      "(60000, 28, 28)\n",
      "(60000, 10)\n",
      "(10000, 28, 28)\n",
      "(10000, 10)\n"
     ]
    }
   ],
   "source": [
    "print(p_train.shape)\n",
    "print(t_train.shape)\n",
    "print(p_test.shape)\n",
    "print(t_test.shape)"
   ]
  },
  {
   "cell_type": "markdown",
   "metadata": {},
   "source": [
    "Put the training and testing data into two TensorFlow Datasets using `Dataset.from_tensor_slices()`."
   ]
  },
  {
   "cell_type": "code",
   "execution_count": 11,
   "metadata": {},
   "outputs": [
    {
     "name": "stderr",
     "output_type": "stream",
     "text": [
      "W0000 00:00:1739944423.066837   29184 gpu_device.cc:2344] Cannot dlopen some GPU libraries. Please make sure the missing libraries mentioned above are installed properly if you would like to use GPU. Follow the guide at https://www.tensorflow.org/install/gpu for how to download and setup the required libraries for your platform.\n",
      "Skipping registering GPU devices...\n",
      "2025-02-18 23:53:43.068074: W external/local_xla/xla/tsl/framework/cpu_allocator_impl.cc:83] Allocation of 188160000 exceeds 10% of free system memory.\n"
     ]
    }
   ],
   "source": [
    "train_dataset = Dataset.from_tensor_slices((p_train, t_train))\n",
    "test_dataset = Dataset.from_tensor_slices((p_test, t_test))"
   ]
  },
  {
   "cell_type": "markdown",
   "metadata": {},
   "source": [
    "Group the data in the training and testing datasets into minibatches of size 100, using the `batch()` method."
   ]
  },
  {
   "cell_type": "code",
   "execution_count": 12,
   "metadata": {},
   "outputs": [],
   "source": [
    "train_dataset = train_dataset.batch(100)\n",
    "test_dataset = test_dataset.batch(100)"
   ]
  },
  {
   "cell_type": "markdown",
   "metadata": {},
   "source": [
    "# Constructing the Model\n",
    "\n",
    "Now that the data is loaded, the next step is to construct the model. Create a method that uses the sequential class to construct a multilayer network with three layers and returns the constructed model. To begin, use 10 neurons in each layer. For the first two `Dense` layers, use the relu activation function, and use the softmax activation function in the third `Dense` layer. Note that because the training inputs are 28x28 arrays, we need to convert them to vectors before going into the first `Dense` layer. This can be done with `layers.Flatten()`. Make this the first component of the network."
   ]
  },
  {
   "cell_type": "code",
   "execution_count": 13,
   "metadata": {},
   "outputs": [],
   "source": [
    "def make_model():\n",
    "    model = models.Sequential()\n",
    "\n",
    "    model.add(layers.Flatten(input_shape=(28, 28))) #Converting 28x28 arrays into vectors\n",
    "\n",
    "    model.add(layers.Dense(10, activation='relu')) #First Dense Layer with 10 neurons, relu\n",
    "\n",
    "    model.add(layers.Dense(10, activation='relu')) #Second Dense Layer with 10 neurons, relu\n",
    "\n",
    "    model.add(layers.Dense(10, activation='softmax')) #Third Dense Layer with 10 neurons, softmax\n",
    "\n",
    "    return model"
   ]
  },
  {
   "cell_type": "markdown",
   "metadata": {},
   "source": [
    "Use the method you just created to construct a model."
   ]
  },
  {
   "cell_type": "code",
   "execution_count": 14,
   "metadata": {},
   "outputs": [
    {
     "name": "stderr",
     "output_type": "stream",
     "text": [
      "/home/casager/DeepLearning/NNDesignDeepLearning/.venv/lib/python3.12/site-packages/keras/src/layers/reshaping/flatten.py:37: UserWarning: Do not pass an `input_shape`/`input_dim` argument to a layer. When using Sequential models, prefer using an `Input(shape)` object as the first layer in the model instead.\n",
      "  super().__init__(**kwargs)\n"
     ]
    }
   ],
   "source": [
    "model1 = make_model()"
   ]
  },
  {
   "cell_type": "markdown",
   "metadata": {},
   "source": [
    "After constructing the model, you can display a summary with the `summary()` method."
   ]
  },
  {
   "cell_type": "code",
   "execution_count": 15,
   "metadata": {},
   "outputs": [
    {
     "data": {
      "text/html": [
       "<pre style=\"white-space:pre;overflow-x:auto;line-height:normal;font-family:Menlo,'DejaVu Sans Mono',consolas,'Courier New',monospace\"><span style=\"font-weight: bold\">Model: \"sequential\"</span>\n",
       "</pre>\n"
      ],
      "text/plain": [
       "\u001b[1mModel: \"sequential\"\u001b[0m\n"
      ]
     },
     "metadata": {},
     "output_type": "display_data"
    },
    {
     "data": {
      "text/html": [
       "<pre style=\"white-space:pre;overflow-x:auto;line-height:normal;font-family:Menlo,'DejaVu Sans Mono',consolas,'Courier New',monospace\">┏━━━━━━━━━━━━━━━━━━━━━━━━━━━━━━━━━┳━━━━━━━━━━━━━━━━━━━━━━━━┳━━━━━━━━━━━━━━━┓\n",
       "┃<span style=\"font-weight: bold\"> Layer (type)                    </span>┃<span style=\"font-weight: bold\"> Output Shape           </span>┃<span style=\"font-weight: bold\">       Param # </span>┃\n",
       "┡━━━━━━━━━━━━━━━━━━━━━━━━━━━━━━━━━╇━━━━━━━━━━━━━━━━━━━━━━━━╇━━━━━━━━━━━━━━━┩\n",
       "│ flatten (<span style=\"color: #0087ff; text-decoration-color: #0087ff\">Flatten</span>)               │ (<span style=\"color: #00d7ff; text-decoration-color: #00d7ff\">None</span>, <span style=\"color: #00af00; text-decoration-color: #00af00\">784</span>)            │             <span style=\"color: #00af00; text-decoration-color: #00af00\">0</span> │\n",
       "├─────────────────────────────────┼────────────────────────┼───────────────┤\n",
       "│ dense (<span style=\"color: #0087ff; text-decoration-color: #0087ff\">Dense</span>)                   │ (<span style=\"color: #00d7ff; text-decoration-color: #00d7ff\">None</span>, <span style=\"color: #00af00; text-decoration-color: #00af00\">10</span>)             │         <span style=\"color: #00af00; text-decoration-color: #00af00\">7,850</span> │\n",
       "├─────────────────────────────────┼────────────────────────┼───────────────┤\n",
       "│ dense_1 (<span style=\"color: #0087ff; text-decoration-color: #0087ff\">Dense</span>)                 │ (<span style=\"color: #00d7ff; text-decoration-color: #00d7ff\">None</span>, <span style=\"color: #00af00; text-decoration-color: #00af00\">10</span>)             │           <span style=\"color: #00af00; text-decoration-color: #00af00\">110</span> │\n",
       "├─────────────────────────────────┼────────────────────────┼───────────────┤\n",
       "│ dense_2 (<span style=\"color: #0087ff; text-decoration-color: #0087ff\">Dense</span>)                 │ (<span style=\"color: #00d7ff; text-decoration-color: #00d7ff\">None</span>, <span style=\"color: #00af00; text-decoration-color: #00af00\">10</span>)             │           <span style=\"color: #00af00; text-decoration-color: #00af00\">110</span> │\n",
       "└─────────────────────────────────┴────────────────────────┴───────────────┘\n",
       "</pre>\n"
      ],
      "text/plain": [
       "┏━━━━━━━━━━━━━━━━━━━━━━━━━━━━━━━━━┳━━━━━━━━━━━━━━━━━━━━━━━━┳━━━━━━━━━━━━━━━┓\n",
       "┃\u001b[1m \u001b[0m\u001b[1mLayer (type)                   \u001b[0m\u001b[1m \u001b[0m┃\u001b[1m \u001b[0m\u001b[1mOutput Shape          \u001b[0m\u001b[1m \u001b[0m┃\u001b[1m \u001b[0m\u001b[1m      Param #\u001b[0m\u001b[1m \u001b[0m┃\n",
       "┡━━━━━━━━━━━━━━━━━━━━━━━━━━━━━━━━━╇━━━━━━━━━━━━━━━━━━━━━━━━╇━━━━━━━━━━━━━━━┩\n",
       "│ flatten (\u001b[38;5;33mFlatten\u001b[0m)               │ (\u001b[38;5;45mNone\u001b[0m, \u001b[38;5;34m784\u001b[0m)            │             \u001b[38;5;34m0\u001b[0m │\n",
       "├─────────────────────────────────┼────────────────────────┼───────────────┤\n",
       "│ dense (\u001b[38;5;33mDense\u001b[0m)                   │ (\u001b[38;5;45mNone\u001b[0m, \u001b[38;5;34m10\u001b[0m)             │         \u001b[38;5;34m7,850\u001b[0m │\n",
       "├─────────────────────────────────┼────────────────────────┼───────────────┤\n",
       "│ dense_1 (\u001b[38;5;33mDense\u001b[0m)                 │ (\u001b[38;5;45mNone\u001b[0m, \u001b[38;5;34m10\u001b[0m)             │           \u001b[38;5;34m110\u001b[0m │\n",
       "├─────────────────────────────────┼────────────────────────┼───────────────┤\n",
       "│ dense_2 (\u001b[38;5;33mDense\u001b[0m)                 │ (\u001b[38;5;45mNone\u001b[0m, \u001b[38;5;34m10\u001b[0m)             │           \u001b[38;5;34m110\u001b[0m │\n",
       "└─────────────────────────────────┴────────────────────────┴───────────────┘\n"
      ]
     },
     "metadata": {},
     "output_type": "display_data"
    },
    {
     "data": {
      "text/html": [
       "<pre style=\"white-space:pre;overflow-x:auto;line-height:normal;font-family:Menlo,'DejaVu Sans Mono',consolas,'Courier New',monospace\"><span style=\"font-weight: bold\"> Total params: </span><span style=\"color: #00af00; text-decoration-color: #00af00\">8,070</span> (31.52 KB)\n",
       "</pre>\n"
      ],
      "text/plain": [
       "\u001b[1m Total params: \u001b[0m\u001b[38;5;34m8,070\u001b[0m (31.52 KB)\n"
      ]
     },
     "metadata": {},
     "output_type": "display_data"
    },
    {
     "data": {
      "text/html": [
       "<pre style=\"white-space:pre;overflow-x:auto;line-height:normal;font-family:Menlo,'DejaVu Sans Mono',consolas,'Courier New',monospace\"><span style=\"font-weight: bold\"> Trainable params: </span><span style=\"color: #00af00; text-decoration-color: #00af00\">8,070</span> (31.52 KB)\n",
       "</pre>\n"
      ],
      "text/plain": [
       "\u001b[1m Trainable params: \u001b[0m\u001b[38;5;34m8,070\u001b[0m (31.52 KB)\n"
      ]
     },
     "metadata": {},
     "output_type": "display_data"
    },
    {
     "data": {
      "text/html": [
       "<pre style=\"white-space:pre;overflow-x:auto;line-height:normal;font-family:Menlo,'DejaVu Sans Mono',consolas,'Courier New',monospace\"><span style=\"font-weight: bold\"> Non-trainable params: </span><span style=\"color: #00af00; text-decoration-color: #00af00\">0</span> (0.00 B)\n",
       "</pre>\n"
      ],
      "text/plain": [
       "\u001b[1m Non-trainable params: \u001b[0m\u001b[38;5;34m0\u001b[0m (0.00 B)\n"
      ]
     },
     "metadata": {},
     "output_type": "display_data"
    }
   ],
   "source": [
    "model1.summary()"
   ]
  },
  {
   "cell_type": "markdown",
   "metadata": {},
   "source": [
    "# Training the Network\n",
    "\n",
    "The first step in training the network is to compile the network. This assigns the training function and the performance (loss) function. Use `adam` as the training function and `categorical_crossentropy` as the loss function. When compiling, you can also specify that certain metrics be saved during training. Metrics are often measures of performance that are not explicitly optimized. Add `metrics=['accuracy']` to the compile step to save accuracy during training.\n",
    "\n",
    "Compile the model."
   ]
  },
  {
   "cell_type": "code",
   "execution_count": 16,
   "metadata": {},
   "outputs": [],
   "source": [
    "model1.compile(\n",
    "    optimizer = 'adam',\n",
    "    loss = 'categorical_crossentropy',\n",
    "    metrics = ['accuracy']\n",
    ")"
   ]
  },
  {
   "cell_type": "markdown",
   "metadata": {},
   "source": [
    "Now use `model.fit` to train the network.  Pass the training Dataset and assign epochs to 100."
   ]
  },
  {
   "cell_type": "code",
   "execution_count": 17,
   "metadata": {},
   "outputs": [
    {
     "name": "stdout",
     "output_type": "stream",
     "text": [
      "Epoch 1/100\n"
     ]
    },
    {
     "name": "stderr",
     "output_type": "stream",
     "text": [
      "2025-02-19 00:03:20.019723: W external/local_xla/xla/tsl/framework/cpu_allocator_impl.cc:83] Allocation of 188160000 exceeds 10% of free system memory.\n"
     ]
    },
    {
     "name": "stdout",
     "output_type": "stream",
     "text": [
      "600/600 - 1s - 2ms/step - accuracy: 0.7710 - loss: 0.7863\n",
      "Epoch 2/100\n",
      "600/600 - 0s - 779us/step - accuracy: 0.8990 - loss: 0.3519\n",
      "Epoch 3/100\n",
      "600/600 - 0s - 765us/step - accuracy: 0.9147 - loss: 0.2958\n",
      "Epoch 4/100\n",
      "600/600 - 0s - 778us/step - accuracy: 0.9223 - loss: 0.2717\n",
      "Epoch 5/100\n",
      "600/600 - 0s - 774us/step - accuracy: 0.9265 - loss: 0.2573\n",
      "Epoch 6/100\n",
      "600/600 - 0s - 775us/step - accuracy: 0.9290 - loss: 0.2469\n",
      "Epoch 7/100\n",
      "600/600 - 0s - 771us/step - accuracy: 0.9309 - loss: 0.2386\n",
      "Epoch 8/100\n",
      "600/600 - 0s - 775us/step - accuracy: 0.9328 - loss: 0.2318\n",
      "Epoch 9/100\n",
      "600/600 - 0s - 785us/step - accuracy: 0.9344 - loss: 0.2262\n",
      "Epoch 10/100\n",
      "600/600 - 0s - 775us/step - accuracy: 0.9361 - loss: 0.2214\n",
      "Epoch 11/100\n",
      "600/600 - 0s - 773us/step - accuracy: 0.9374 - loss: 0.2172\n",
      "Epoch 12/100\n",
      "600/600 - 0s - 786us/step - accuracy: 0.9384 - loss: 0.2135\n",
      "Epoch 13/100\n",
      "600/600 - 0s - 770us/step - accuracy: 0.9391 - loss: 0.2101\n",
      "Epoch 14/100\n",
      "600/600 - 0s - 763us/step - accuracy: 0.9401 - loss: 0.2072\n",
      "Epoch 15/100\n",
      "600/600 - 0s - 784us/step - accuracy: 0.9410 - loss: 0.2044\n",
      "Epoch 16/100\n",
      "600/600 - 0s - 761us/step - accuracy: 0.9417 - loss: 0.2017\n",
      "Epoch 17/100\n",
      "600/600 - 0s - 783us/step - accuracy: 0.9423 - loss: 0.1992\n",
      "Epoch 18/100\n",
      "600/600 - 0s - 762us/step - accuracy: 0.9434 - loss: 0.1969\n",
      "Epoch 19/100\n",
      "600/600 - 0s - 763us/step - accuracy: 0.9439 - loss: 0.1948\n",
      "Epoch 20/100\n",
      "600/600 - 0s - 756us/step - accuracy: 0.9440 - loss: 0.1929\n",
      "Epoch 21/100\n",
      "600/600 - 0s - 759us/step - accuracy: 0.9448 - loss: 0.1910\n",
      "Epoch 22/100\n",
      "600/600 - 0s - 803us/step - accuracy: 0.9452 - loss: 0.1893\n",
      "Epoch 23/100\n",
      "600/600 - 0s - 763us/step - accuracy: 0.9457 - loss: 0.1876\n",
      "Epoch 24/100\n",
      "600/600 - 0s - 768us/step - accuracy: 0.9462 - loss: 0.1860\n",
      "Epoch 25/100\n",
      "600/600 - 0s - 762us/step - accuracy: 0.9465 - loss: 0.1846\n",
      "Epoch 26/100\n",
      "600/600 - 0s - 757us/step - accuracy: 0.9469 - loss: 0.1833\n",
      "Epoch 27/100\n",
      "600/600 - 0s - 771us/step - accuracy: 0.9472 - loss: 0.1819\n",
      "Epoch 28/100\n",
      "600/600 - 0s - 769us/step - accuracy: 0.9474 - loss: 0.1807\n",
      "Epoch 29/100\n",
      "600/600 - 0s - 760us/step - accuracy: 0.9480 - loss: 0.1797\n",
      "Epoch 30/100\n",
      "600/600 - 0s - 773us/step - accuracy: 0.9484 - loss: 0.1784\n",
      "Epoch 31/100\n",
      "600/600 - 0s - 764us/step - accuracy: 0.9486 - loss: 0.1773\n",
      "Epoch 32/100\n",
      "600/600 - 0s - 758us/step - accuracy: 0.9490 - loss: 0.1761\n",
      "Epoch 33/100\n",
      "600/600 - 0s - 764us/step - accuracy: 0.9494 - loss: 0.1750\n",
      "Epoch 34/100\n",
      "600/600 - 0s - 769us/step - accuracy: 0.9497 - loss: 0.1738\n",
      "Epoch 35/100\n",
      "600/600 - 0s - 769us/step - accuracy: 0.9500 - loss: 0.1726\n",
      "Epoch 36/100\n",
      "600/600 - 0s - 762us/step - accuracy: 0.9503 - loss: 0.1716\n",
      "Epoch 37/100\n",
      "600/600 - 0s - 772us/step - accuracy: 0.9508 - loss: 0.1705\n",
      "Epoch 38/100\n",
      "600/600 - 0s - 783us/step - accuracy: 0.9509 - loss: 0.1695\n",
      "Epoch 39/100\n",
      "600/600 - 0s - 771us/step - accuracy: 0.9507 - loss: 0.1685\n",
      "Epoch 40/100\n",
      "600/600 - 0s - 816us/step - accuracy: 0.9509 - loss: 0.1674\n",
      "Epoch 41/100\n",
      "600/600 - 0s - 763us/step - accuracy: 0.9513 - loss: 0.1664\n",
      "Epoch 42/100\n",
      "600/600 - 0s - 774us/step - accuracy: 0.9516 - loss: 0.1655\n",
      "Epoch 43/100\n",
      "600/600 - 0s - 770us/step - accuracy: 0.9518 - loss: 0.1645\n",
      "Epoch 44/100\n",
      "600/600 - 0s - 771us/step - accuracy: 0.9523 - loss: 0.1636\n",
      "Epoch 45/100\n",
      "600/600 - 0s - 762us/step - accuracy: 0.9525 - loss: 0.1628\n",
      "Epoch 46/100\n",
      "600/600 - 0s - 759us/step - accuracy: 0.9528 - loss: 0.1619\n",
      "Epoch 47/100\n",
      "600/600 - 0s - 796us/step - accuracy: 0.9531 - loss: 0.1609\n",
      "Epoch 48/100\n",
      "600/600 - 0s - 812us/step - accuracy: 0.9532 - loss: 0.1601\n",
      "Epoch 49/100\n",
      "600/600 - 0s - 789us/step - accuracy: 0.9534 - loss: 0.1594\n",
      "Epoch 50/100\n",
      "600/600 - 0s - 782us/step - accuracy: 0.9536 - loss: 0.1586\n",
      "Epoch 51/100\n",
      "600/600 - 0s - 782us/step - accuracy: 0.9537 - loss: 0.1577\n",
      "Epoch 52/100\n",
      "600/600 - 0s - 770us/step - accuracy: 0.9541 - loss: 0.1569\n",
      "Epoch 53/100\n",
      "600/600 - 0s - 771us/step - accuracy: 0.9543 - loss: 0.1562\n",
      "Epoch 54/100\n",
      "600/600 - 0s - 762us/step - accuracy: 0.9544 - loss: 0.1554\n",
      "Epoch 55/100\n",
      "600/600 - 0s - 807us/step - accuracy: 0.9547 - loss: 0.1546\n",
      "Epoch 56/100\n",
      "600/600 - 0s - 783us/step - accuracy: 0.9550 - loss: 0.1540\n",
      "Epoch 57/100\n",
      "600/600 - 0s - 768us/step - accuracy: 0.9550 - loss: 0.1533\n",
      "Epoch 58/100\n",
      "600/600 - 0s - 771us/step - accuracy: 0.9555 - loss: 0.1525\n",
      "Epoch 59/100\n",
      "600/600 - 0s - 790us/step - accuracy: 0.9554 - loss: 0.1520\n",
      "Epoch 60/100\n",
      "600/600 - 0s - 790us/step - accuracy: 0.9556 - loss: 0.1513\n",
      "Epoch 61/100\n",
      "600/600 - 0s - 831us/step - accuracy: 0.9559 - loss: 0.1506\n",
      "Epoch 62/100\n",
      "600/600 - 0s - 809us/step - accuracy: 0.9562 - loss: 0.1500\n",
      "Epoch 63/100\n",
      "600/600 - 0s - 791us/step - accuracy: 0.9566 - loss: 0.1493\n",
      "Epoch 64/100\n",
      "600/600 - 0s - 774us/step - accuracy: 0.9567 - loss: 0.1489\n",
      "Epoch 65/100\n",
      "600/600 - 0s - 779us/step - accuracy: 0.9569 - loss: 0.1483\n",
      "Epoch 66/100\n",
      "600/600 - 0s - 773us/step - accuracy: 0.9572 - loss: 0.1478\n",
      "Epoch 67/100\n",
      "600/600 - 0s - 766us/step - accuracy: 0.9571 - loss: 0.1472\n",
      "Epoch 68/100\n",
      "600/600 - 0s - 764us/step - accuracy: 0.9575 - loss: 0.1467\n",
      "Epoch 69/100\n",
      "600/600 - 0s - 766us/step - accuracy: 0.9575 - loss: 0.1462\n",
      "Epoch 70/100\n",
      "600/600 - 0s - 767us/step - accuracy: 0.9576 - loss: 0.1457\n",
      "Epoch 71/100\n",
      "600/600 - 0s - 765us/step - accuracy: 0.9576 - loss: 0.1453\n",
      "Epoch 72/100\n",
      "600/600 - 0s - 763us/step - accuracy: 0.9577 - loss: 0.1447\n",
      "Epoch 73/100\n",
      "600/600 - 0s - 757us/step - accuracy: 0.9577 - loss: 0.1442\n",
      "Epoch 74/100\n",
      "600/600 - 0s - 761us/step - accuracy: 0.9577 - loss: 0.1438\n",
      "Epoch 75/100\n",
      "600/600 - 0s - 761us/step - accuracy: 0.9579 - loss: 0.1433\n",
      "Epoch 76/100\n",
      "600/600 - 0s - 766us/step - accuracy: 0.9580 - loss: 0.1429\n",
      "Epoch 77/100\n",
      "600/600 - 0s - 761us/step - accuracy: 0.9581 - loss: 0.1424\n",
      "Epoch 78/100\n",
      "600/600 - 0s - 757us/step - accuracy: 0.9584 - loss: 0.1420\n",
      "Epoch 79/100\n",
      "600/600 - 0s - 756us/step - accuracy: 0.9584 - loss: 0.1416\n",
      "Epoch 80/100\n",
      "600/600 - 0s - 771us/step - accuracy: 0.9585 - loss: 0.1413\n",
      "Epoch 81/100\n",
      "600/600 - 0s - 760us/step - accuracy: 0.9585 - loss: 0.1409\n",
      "Epoch 82/100\n",
      "600/600 - 0s - 756us/step - accuracy: 0.9587 - loss: 0.1404\n",
      "Epoch 83/100\n",
      "600/600 - 0s - 761us/step - accuracy: 0.9586 - loss: 0.1401\n",
      "Epoch 84/100\n",
      "600/600 - 0s - 769us/step - accuracy: 0.9587 - loss: 0.1397\n",
      "Epoch 85/100\n",
      "600/600 - 0s - 764us/step - accuracy: 0.9588 - loss: 0.1394\n",
      "Epoch 86/100\n",
      "600/600 - 0s - 771us/step - accuracy: 0.9592 - loss: 0.1391\n",
      "Epoch 87/100\n",
      "600/600 - 0s - 756us/step - accuracy: 0.9592 - loss: 0.1387\n",
      "Epoch 88/100\n",
      "600/600 - 0s - 761us/step - accuracy: 0.9596 - loss: 0.1383\n",
      "Epoch 89/100\n",
      "600/600 - 0s - 764us/step - accuracy: 0.9595 - loss: 0.1380\n",
      "Epoch 90/100\n",
      "600/600 - 0s - 765us/step - accuracy: 0.9594 - loss: 0.1378\n",
      "Epoch 91/100\n",
      "600/600 - 0s - 788us/step - accuracy: 0.9596 - loss: 0.1374\n",
      "Epoch 92/100\n",
      "600/600 - 0s - 760us/step - accuracy: 0.9597 - loss: 0.1371\n",
      "Epoch 93/100\n",
      "600/600 - 0s - 769us/step - accuracy: 0.9597 - loss: 0.1368\n",
      "Epoch 94/100\n",
      "600/600 - 0s - 761us/step - accuracy: 0.9598 - loss: 0.1364\n",
      "Epoch 95/100\n",
      "600/600 - 0s - 762us/step - accuracy: 0.9599 - loss: 0.1362\n",
      "Epoch 96/100\n",
      "600/600 - 0s - 769us/step - accuracy: 0.9597 - loss: 0.1359\n",
      "Epoch 97/100\n",
      "600/600 - 0s - 759us/step - accuracy: 0.9600 - loss: 0.1355\n",
      "Epoch 98/100\n",
      "600/600 - 0s - 763us/step - accuracy: 0.9604 - loss: 0.1352\n",
      "Epoch 99/100\n",
      "600/600 - 0s - 760us/step - accuracy: 0.9602 - loss: 0.1350\n",
      "Epoch 100/100\n",
      "600/600 - 0s - 756us/step - accuracy: 0.9604 - loss: 0.1347\n"
     ]
    }
   ],
   "source": [
    "history = model1.fit(\n",
    "    train_dataset,\n",
    "    epochs=100,\n",
    "    verbose=2\n",
    "    )"
   ]
  },
  {
   "cell_type": "markdown",
   "metadata": {},
   "source": [
    "Plot the training accuracy vs. epochs. The accuracy is stored in the `history.history` dictionary with key `'accuracy'`."
   ]
  },
  {
   "cell_type": "code",
   "execution_count": 18,
   "metadata": {},
   "outputs": [
    {
     "data": {
      "image/png": "[encoded data removed]",
      "text/plain": [
       "<Figure size 640x480 with 1 Axes>"
      ]
     },
     "metadata": {},
     "output_type": "display_data"
    }
   ],
   "source": [
    "history_dict = history.history\n",
    "acc = history_dict['accuracy']\n",
    "epochs = history.epoch\n",
    "plt.plot(epochs, acc)\n",
    "plt.title('Training Accuracy')\n",
    "plt.xlabel('Epochs')\n",
    "plt.show()"
   ]
  },
  {
   "cell_type": "markdown",
   "metadata": {},
   "source": [
    "# Evaluate the Trained Model\n",
    "\n",
    "We can use the evaluate method on the testing data to see how well the model will generalize."
   ]
  },
  {
   "cell_type": "code",
   "execution_count": 19,
   "metadata": {},
   "outputs": [
    {
     "name": "stdout",
     "output_type": "stream",
     "text": [
      "Test loss: 0.21034707129001617\n",
      "Test accuracy: 0.942799985408783\n"
     ]
    }
   ],
   "source": [
    "score = model1.evaluate(test_dataset, verbose=0)\n",
    "print(\"Test loss:\", score[0])\n",
    "print(\"Test accuracy:\", score[1])"
   ]
  },
  {
   "cell_type": "markdown",
   "metadata": {},
   "source": [
    "# Using Callbacks\n",
    "\n",
    "When using the fit method, it is possible to assign **callbacks**, which perform certain opertions during the training process. You can find more about callbacks [here](https://keras.io/api/callbacks/) and [here](https://www.tensorflow.org/api_docs/python/tf/keras/callbacks). \n",
    "\n",
    "You will remember from the Python Lab 1 that we built a learning rate method that updated the learning rate during the training process. We can do the same thing in TensorFlow using the `LearningRateScheduler` callback. \n",
    "\n",
    "First, let's define the same learning rate schedule class that we used in the Python Lab 1."
   ]
  },
  {
   "cell_type": "code",
   "execution_count": 20,
   "metadata": {},
   "outputs": [],
   "source": [
    "class lr_inc_dec:\n",
    "    def __init__(self, lr_0=0.001, lr_0_steps=5, lr_max = 0.005, lr_max_steps = 5, lr_min=0.0005, lr_decay=0.9):\n",
    "        self.lr_0         = lr_0\n",
    "        self.lr_max       = lr_max\n",
    "        self.lr_0_steps   = lr_0_steps\n",
    "        self.lr_max_steps = lr_max_steps\n",
    "        self.lr_min       = lr_min\n",
    "        self.lr_decay     = lr_decay\n",
    "        \n",
    "    def __call__(self, epoch):\n",
    "        if epoch < self.lr_0_steps:\n",
    "            self.lr = self.lr_0 + (self.lr_max - self.lr_0)*epoch/self.lr_0_steps\n",
    "        elif epoch < self.lr_0_steps + self.lr_max_steps:\n",
    "            self.lr = self.lr_max\n",
    "        else:\n",
    "            self.lr = self.lr_min + (self.lr_max - self.lr_min)*self.lr_decay**(epoch - self.lr_0_steps - self.lr_max_steps)\n",
    " \n",
    "        return self.lr"
   ]
  },
  {
   "cell_type": "code",
   "execution_count": 21,
   "metadata": {},
   "outputs": [],
   "source": [
    "lr_scheduler = lr_inc_dec(lr_0=0.0005, lr_0_steps=10, lr_max = 0.002, lr_max_steps = 5, lr_min=0.001, lr_decay=0.95)"
   ]
  },
  {
   "cell_type": "markdown",
   "metadata": {},
   "source": [
    "Now import the `LearningRateScheduler` from `tensorflow.keras.callbacks`."
   ]
  },
  {
   "cell_type": "code",
   "execution_count": 22,
   "metadata": {},
   "outputs": [],
   "source": [
    "from tensorflow.keras.callbacks import LearningRateScheduler"
   ]
  },
  {
   "cell_type": "markdown",
   "metadata": {},
   "source": [
    "To access the scheduler during training, we add the following argument to the fit method: `callbacks=[]`, where inside the braces is a list of callbacks. In this case, there is only one callback, which should be `LearningRateScheduler(lr_scheduler, verbose=1)`. Here we have passed the scheduler we defined into the `LearningRateScheduler`. By using `verbose=1`, we can monitor the progress of the learning rate during training.\n",
    "\n",
    "Make a new model."
   ]
  },
  {
   "cell_type": "code",
   "execution_count": 23,
   "metadata": {},
   "outputs": [
    {
     "name": "stderr",
     "output_type": "stream",
     "text": [
      "/home/casager/DeepLearning/NNDesignDeepLearning/.venv/lib/python3.12/site-packages/keras/src/layers/reshaping/flatten.py:37: UserWarning: Do not pass an `input_shape`/`input_dim` argument to a layer. When using Sequential models, prefer using an `Input(shape)` object as the first layer in the model instead.\n",
      "  super().__init__(**kwargs)\n"
     ]
    }
   ],
   "source": [
    "model2 = make_model()"
   ]
  },
  {
   "cell_type": "markdown",
   "metadata": {},
   "source": [
    "Compile the model, with the adam optimizer, categorical_crossentropy loss and accuracy metric."
   ]
  },
  {
   "cell_type": "code",
   "execution_count": 24,
   "metadata": {},
   "outputs": [],
   "source": [
    "model2.compile(\n",
    "    optimizer = 'adam',\n",
    "    loss = 'categorical_crossentropy',\n",
    "    metrics = ['accuracy']\n",
    ")"
   ]
  },
  {
   "cell_type": "markdown",
   "metadata": {},
   "source": [
    "Train the model with the `fit` method for 100 epochs, and use the `LearningRateScheduler` callback."
   ]
  },
  {
   "cell_type": "code",
   "execution_count": 26,
   "metadata": {
    "scrolled": true
   },
   "outputs": [
    {
     "name": "stdout",
     "output_type": "stream",
     "text": [
      "\n",
      "Epoch 1: LearningRateScheduler setting learning rate to 0.0005.\n",
      "Epoch 1/100\n",
      "600/600 - 1s - 2ms/step - accuracy: 0.6234 - loss: 1.1833 - learning_rate: 5.0000e-04\n",
      "\n",
      "Epoch 2: LearningRateScheduler setting learning rate to 0.00065.\n",
      "Epoch 2/100\n",
      "600/600 - 0s - 776us/step - accuracy: 0.8759 - loss: 0.4424 - learning_rate: 6.5000e-04\n",
      "\n",
      "Epoch 3: LearningRateScheduler setting learning rate to 0.0008.\n",
      "Epoch 3/100\n",
      "600/600 - 0s - 764us/step - accuracy: 0.9008 - loss: 0.3508 - learning_rate: 8.0000e-04\n",
      "\n",
      "Epoch 4: LearningRateScheduler setting learning rate to 0.0009500000000000001.\n",
      "Epoch 4/100\n",
      "600/600 - 0s - 776us/step - accuracy: 0.9119 - loss: 0.3111 - learning_rate: 9.5000e-04\n",
      "\n",
      "Epoch 5: LearningRateScheduler setting learning rate to 0.0011.\n",
      "Epoch 5/100\n",
      "600/600 - 0s - 774us/step - accuracy: 0.9189 - loss: 0.2862 - learning_rate: 0.0011\n",
      "\n",
      "Epoch 6: LearningRateScheduler setting learning rate to 0.00125.\n",
      "Epoch 6/100\n",
      "600/600 - 0s - 764us/step - accuracy: 0.9238 - loss: 0.2674 - learning_rate: 0.0012\n",
      "\n",
      "Epoch 7: LearningRateScheduler setting learning rate to 0.0014000000000000002.\n",
      "Epoch 7/100\n",
      "600/600 - 0s - 772us/step - accuracy: 0.9282 - loss: 0.2531 - learning_rate: 0.0014\n",
      "\n",
      "Epoch 8: LearningRateScheduler setting learning rate to 0.0015500000000000002.\n",
      "Epoch 8/100\n",
      "600/600 - 0s - 774us/step - accuracy: 0.9317 - loss: 0.2418 - learning_rate: 0.0016\n",
      "\n",
      "Epoch 9: LearningRateScheduler setting learning rate to 0.0017000000000000001.\n",
      "Epoch 9/100\n",
      "600/600 - 0s - 794us/step - accuracy: 0.9335 - loss: 0.2328 - learning_rate: 0.0017\n",
      "\n",
      "Epoch 10: LearningRateScheduler setting learning rate to 0.00185.\n",
      "Epoch 10/100\n",
      "600/600 - 0s - 793us/step - accuracy: 0.9355 - loss: 0.2256 - learning_rate: 0.0019\n",
      "\n",
      "Epoch 11: LearningRateScheduler setting learning rate to 0.002.\n",
      "Epoch 11/100\n",
      "600/600 - 0s - 783us/step - accuracy: 0.9360 - loss: 0.2196 - learning_rate: 0.0020\n",
      "\n",
      "Epoch 12: LearningRateScheduler setting learning rate to 0.002.\n",
      "Epoch 12/100\n",
      "600/600 - 0s - 827us/step - accuracy: 0.9378 - loss: 0.2129 - learning_rate: 0.0020\n",
      "\n",
      "Epoch 13: LearningRateScheduler setting learning rate to 0.002.\n",
      "Epoch 13/100\n",
      "600/600 - 0s - 779us/step - accuracy: 0.9395 - loss: 0.2071 - learning_rate: 0.0020\n",
      "\n",
      "Epoch 14: LearningRateScheduler setting learning rate to 0.002.\n",
      "Epoch 14/100\n",
      "600/600 - 0s - 769us/step - accuracy: 0.9410 - loss: 0.2020 - learning_rate: 0.0020\n",
      "\n",
      "Epoch 15: LearningRateScheduler setting learning rate to 0.002.\n",
      "Epoch 15/100\n",
      "600/600 - 0s - 775us/step - accuracy: 0.9425 - loss: 0.1969 - learning_rate: 0.0020\n",
      "\n",
      "Epoch 16: LearningRateScheduler setting learning rate to 0.002.\n",
      "Epoch 16/100\n",
      "600/600 - 0s - 769us/step - accuracy: 0.9435 - loss: 0.1929 - learning_rate: 0.0020\n",
      "\n",
      "Epoch 17: LearningRateScheduler setting learning rate to 0.00195.\n",
      "Epoch 17/100\n",
      "600/600 - 0s - 819us/step - accuracy: 0.9446 - loss: 0.1889 - learning_rate: 0.0019\n",
      "\n",
      "Epoch 18: LearningRateScheduler setting learning rate to 0.0019025000000000001.\n",
      "Epoch 18/100\n",
      "600/600 - 0s - 808us/step - accuracy: 0.9453 - loss: 0.1852 - learning_rate: 0.0019\n",
      "\n",
      "Epoch 19: LearningRateScheduler setting learning rate to 0.001857375.\n",
      "Epoch 19/100\n",
      "600/600 - 0s - 814us/step - accuracy: 0.9462 - loss: 0.1821 - learning_rate: 0.0019\n",
      "\n",
      "Epoch 20: LearningRateScheduler setting learning rate to 0.0018145062499999999.\n",
      "Epoch 20/100\n",
      "600/600 - 0s - 829us/step - accuracy: 0.9471 - loss: 0.1791 - learning_rate: 0.0018\n",
      "\n",
      "Epoch 21: LearningRateScheduler setting learning rate to 0.0017737809375.\n",
      "Epoch 21/100\n",
      "600/600 - 1s - 853us/step - accuracy: 0.9480 - loss: 0.1765 - learning_rate: 0.0018\n",
      "\n",
      "Epoch 22: LearningRateScheduler setting learning rate to 0.0017350918906249998.\n",
      "Epoch 22/100\n",
      "600/600 - 0s - 795us/step - accuracy: 0.9483 - loss: 0.1741 - learning_rate: 0.0017\n",
      "\n",
      "Epoch 23: LearningRateScheduler setting learning rate to 0.0016983372960937496.\n",
      "Epoch 23/100\n",
      "600/600 - 0s - 795us/step - accuracy: 0.9490 - loss: 0.1717 - learning_rate: 0.0017\n",
      "\n",
      "Epoch 24: LearningRateScheduler setting learning rate to 0.0016634204312890623.\n",
      "Epoch 24/100\n",
      "600/600 - 0s - 781us/step - accuracy: 0.9499 - loss: 0.1697 - learning_rate: 0.0017\n",
      "\n",
      "Epoch 25: LearningRateScheduler setting learning rate to 0.0016302494097246091.\n",
      "Epoch 25/100\n",
      "600/600 - 0s - 792us/step - accuracy: 0.9504 - loss: 0.1677 - learning_rate: 0.0016\n",
      "\n",
      "Epoch 26: LearningRateScheduler setting learning rate to 0.0015987369392383788.\n",
      "Epoch 26/100\n",
      "600/600 - 0s - 775us/step - accuracy: 0.9510 - loss: 0.1661 - learning_rate: 0.0016\n",
      "\n",
      "Epoch 27: LearningRateScheduler setting learning rate to 0.0015688000922764597.\n",
      "Epoch 27/100\n",
      "600/600 - 0s - 803us/step - accuracy: 0.9513 - loss: 0.1646 - learning_rate: 0.0016\n",
      "\n",
      "Epoch 28: LearningRateScheduler setting learning rate to 0.0015403600876626366.\n",
      "Epoch 28/100\n",
      "600/600 - 0s - 778us/step - accuracy: 0.9521 - loss: 0.1632 - learning_rate: 0.0015\n",
      "\n",
      "Epoch 29: LearningRateScheduler setting learning rate to 0.0015133420832795048.\n",
      "Epoch 29/100\n",
      "600/600 - 0s - 797us/step - accuracy: 0.9522 - loss: 0.1616 - learning_rate: 0.0015\n",
      "\n",
      "Epoch 30: LearningRateScheduler setting learning rate to 0.0014876749791155296.\n",
      "Epoch 30/100\n",
      "600/600 - 0s - 769us/step - accuracy: 0.9526 - loss: 0.1604 - learning_rate: 0.0015\n",
      "\n",
      "Epoch 31: LearningRateScheduler setting learning rate to 0.001463291230159753.\n",
      "Epoch 31/100\n",
      "600/600 - 0s - 769us/step - accuracy: 0.9529 - loss: 0.1591 - learning_rate: 0.0015\n",
      "\n",
      "Epoch 32: LearningRateScheduler setting learning rate to 0.0014401266686517654.\n",
      "Epoch 32/100\n",
      "600/600 - 0s - 764us/step - accuracy: 0.9531 - loss: 0.1578 - learning_rate: 0.0014\n",
      "\n",
      "Epoch 33: LearningRateScheduler setting learning rate to 0.0014181203352191772.\n",
      "Epoch 33/100\n",
      "600/600 - 0s - 767us/step - accuracy: 0.9536 - loss: 0.1568 - learning_rate: 0.0014\n",
      "\n",
      "Epoch 34: LearningRateScheduler setting learning rate to 0.0013972143184582183.\n",
      "Epoch 34/100\n",
      "600/600 - 0s - 759us/step - accuracy: 0.9539 - loss: 0.1556 - learning_rate: 0.0014\n",
      "\n",
      "Epoch 35: LearningRateScheduler setting learning rate to 0.0013773536025353072.\n",
      "Epoch 35/100\n",
      "600/600 - 0s - 762us/step - accuracy: 0.9541 - loss: 0.1546 - learning_rate: 0.0014\n",
      "\n",
      "Epoch 36: LearningRateScheduler setting learning rate to 0.001358485922408542.\n",
      "Epoch 36/100\n",
      "600/600 - 0s - 760us/step - accuracy: 0.9544 - loss: 0.1537 - learning_rate: 0.0014\n",
      "\n",
      "Epoch 37: LearningRateScheduler setting learning rate to 0.0013405616262881148.\n",
      "Epoch 37/100\n",
      "600/600 - 0s - 762us/step - accuracy: 0.9547 - loss: 0.1528 - learning_rate: 0.0013\n",
      "\n",
      "Epoch 38: LearningRateScheduler setting learning rate to 0.001323533544973709.\n",
      "Epoch 38/100\n",
      "600/600 - 0s - 777us/step - accuracy: 0.9552 - loss: 0.1518 - learning_rate: 0.0013\n",
      "\n",
      "Epoch 39: LearningRateScheduler setting learning rate to 0.0013073568677250235.\n",
      "Epoch 39/100\n",
      "600/600 - 0s - 771us/step - accuracy: 0.9552 - loss: 0.1509 - learning_rate: 0.0013\n",
      "\n",
      "Epoch 40: LearningRateScheduler setting learning rate to 0.0012919890243387724.\n",
      "Epoch 40/100\n",
      "600/600 - 0s - 765us/step - accuracy: 0.9555 - loss: 0.1501 - learning_rate: 0.0013\n",
      "\n",
      "Epoch 41: LearningRateScheduler setting learning rate to 0.0012773895731218337.\n",
      "Epoch 41/100\n",
      "600/600 - 0s - 768us/step - accuracy: 0.9558 - loss: 0.1493 - learning_rate: 0.0013\n",
      "\n",
      "Epoch 42: LearningRateScheduler setting learning rate to 0.001263520094465742.\n",
      "Epoch 42/100\n",
      "600/600 - 0s - 761us/step - accuracy: 0.9562 - loss: 0.1485 - learning_rate: 0.0013\n",
      "\n",
      "Epoch 43: LearningRateScheduler setting learning rate to 0.001250344089742455.\n",
      "Epoch 43/100\n",
      "600/600 - 0s - 769us/step - accuracy: 0.9564 - loss: 0.1478 - learning_rate: 0.0013\n",
      "\n",
      "Epoch 44: LearningRateScheduler setting learning rate to 0.0012378268852553322.\n",
      "Epoch 44/100\n",
      "600/600 - 0s - 768us/step - accuracy: 0.9565 - loss: 0.1471 - learning_rate: 0.0012\n",
      "\n",
      "Epoch 45: LearningRateScheduler setting learning rate to 0.0012259355409925655.\n",
      "Epoch 45/100\n",
      "600/600 - 0s - 776us/step - accuracy: 0.9567 - loss: 0.1464 - learning_rate: 0.0012\n",
      "\n",
      "Epoch 46: LearningRateScheduler setting learning rate to 0.0012146387639429372.\n",
      "Epoch 46/100\n",
      "600/600 - 0s - 774us/step - accuracy: 0.9571 - loss: 0.1456 - learning_rate: 0.0012\n",
      "\n",
      "Epoch 47: LearningRateScheduler setting learning rate to 0.0012039068257457904.\n",
      "Epoch 47/100\n",
      "600/600 - 0s - 759us/step - accuracy: 0.9571 - loss: 0.1450 - learning_rate: 0.0012\n",
      "\n",
      "Epoch 48: LearningRateScheduler setting learning rate to 0.001193711484458501.\n",
      "Epoch 48/100\n",
      "600/600 - 0s - 765us/step - accuracy: 0.9574 - loss: 0.1443 - learning_rate: 0.0012\n",
      "\n",
      "Epoch 49: LearningRateScheduler setting learning rate to 0.001184025910235576.\n",
      "Epoch 49/100\n",
      "600/600 - 0s - 815us/step - accuracy: 0.9575 - loss: 0.1437 - learning_rate: 0.0012\n",
      "\n",
      "Epoch 50: LearningRateScheduler setting learning rate to 0.0011748246147237971.\n",
      "Epoch 50/100\n",
      "600/600 - 0s - 774us/step - accuracy: 0.9577 - loss: 0.1431 - learning_rate: 0.0012\n",
      "\n",
      "Epoch 51: LearningRateScheduler setting learning rate to 0.0011660833839876072.\n",
      "Epoch 51/100\n",
      "600/600 - 0s - 782us/step - accuracy: 0.9579 - loss: 0.1426 - learning_rate: 0.0012\n",
      "\n",
      "Epoch 52: LearningRateScheduler setting learning rate to 0.0011577792147882268.\n",
      "Epoch 52/100\n",
      "600/600 - 0s - 776us/step - accuracy: 0.9581 - loss: 0.1420 - learning_rate: 0.0012\n",
      "\n",
      "Epoch 53: LearningRateScheduler setting learning rate to 0.0011498902540488154.\n",
      "Epoch 53/100\n",
      "600/600 - 0s - 776us/step - accuracy: 0.9583 - loss: 0.1416 - learning_rate: 0.0011\n",
      "\n",
      "Epoch 54: LearningRateScheduler setting learning rate to 0.0011423957413463747.\n",
      "Epoch 54/100\n",
      "600/600 - 0s - 778us/step - accuracy: 0.9585 - loss: 0.1411 - learning_rate: 0.0011\n",
      "\n",
      "Epoch 55: LearningRateScheduler setting learning rate to 0.001135275954279056.\n",
      "Epoch 55/100\n",
      "600/600 - 0s - 771us/step - accuracy: 0.9587 - loss: 0.1405 - learning_rate: 0.0011\n",
      "\n",
      "Epoch 56: LearningRateScheduler setting learning rate to 0.0011285121565651032.\n",
      "Epoch 56/100\n",
      "600/600 - 0s - 765us/step - accuracy: 0.9588 - loss: 0.1400 - learning_rate: 0.0011\n",
      "\n",
      "Epoch 57: LearningRateScheduler setting learning rate to 0.001122086548736848.\n",
      "Epoch 57/100\n",
      "600/600 - 0s - 769us/step - accuracy: 0.9589 - loss: 0.1395 - learning_rate: 0.0011\n",
      "\n",
      "Epoch 58: LearningRateScheduler setting learning rate to 0.0011159822213000056.\n",
      "Epoch 58/100\n",
      "600/600 - 0s - 770us/step - accuracy: 0.9591 - loss: 0.1392 - learning_rate: 0.0011\n",
      "\n",
      "Epoch 59: LearningRateScheduler setting learning rate to 0.0011101831102350054.\n",
      "Epoch 59/100\n",
      "600/600 - 0s - 770us/step - accuracy: 0.9590 - loss: 0.1387 - learning_rate: 0.0011\n",
      "\n",
      "Epoch 60: LearningRateScheduler setting learning rate to 0.0011046739547232551.\n",
      "Epoch 60/100\n",
      "600/600 - 0s - 769us/step - accuracy: 0.9594 - loss: 0.1382 - learning_rate: 0.0011\n",
      "\n",
      "Epoch 61: LearningRateScheduler setting learning rate to 0.0010994402569870923.\n",
      "Epoch 61/100\n",
      "600/600 - 0s - 779us/step - accuracy: 0.9595 - loss: 0.1378 - learning_rate: 0.0011\n",
      "\n",
      "Epoch 62: LearningRateScheduler setting learning rate to 0.0010944682441377377.\n",
      "Epoch 62/100\n",
      "600/600 - 0s - 789us/step - accuracy: 0.9596 - loss: 0.1375 - learning_rate: 0.0011\n",
      "\n",
      "Epoch 63: LearningRateScheduler setting learning rate to 0.0010897448319308507.\n",
      "Epoch 63/100\n",
      "600/600 - 0s - 770us/step - accuracy: 0.9596 - loss: 0.1370 - learning_rate: 0.0011\n",
      "\n",
      "Epoch 64: LearningRateScheduler setting learning rate to 0.0010852575903343082.\n",
      "Epoch 64/100\n",
      "600/600 - 0s - 771us/step - accuracy: 0.9597 - loss: 0.1367 - learning_rate: 0.0011\n",
      "\n",
      "Epoch 65: LearningRateScheduler setting learning rate to 0.0010809947108175928.\n",
      "Epoch 65/100\n",
      "600/600 - 0s - 772us/step - accuracy: 0.9597 - loss: 0.1364 - learning_rate: 0.0011\n",
      "\n",
      "Epoch 66: LearningRateScheduler setting learning rate to 0.0010769449752767132.\n",
      "Epoch 66/100\n",
      "600/600 - 0s - 773us/step - accuracy: 0.9597 - loss: 0.1360 - learning_rate: 0.0011\n",
      "\n",
      "Epoch 67: LearningRateScheduler setting learning rate to 0.0010730977265128775.\n",
      "Epoch 67/100\n",
      "600/600 - 0s - 806us/step - accuracy: 0.9601 - loss: 0.1357 - learning_rate: 0.0011\n",
      "\n",
      "Epoch 68: LearningRateScheduler setting learning rate to 0.0010694428401872337.\n",
      "Epoch 68/100\n",
      "600/600 - 0s - 779us/step - accuracy: 0.9602 - loss: 0.1353 - learning_rate: 0.0011\n",
      "\n",
      "Epoch 69: LearningRateScheduler setting learning rate to 0.001065970698177872.\n",
      "Epoch 69/100\n",
      "600/600 - 0s - 787us/step - accuracy: 0.9602 - loss: 0.1349 - learning_rate: 0.0011\n",
      "\n",
      "Epoch 70: LearningRateScheduler setting learning rate to 0.0010626721632689784.\n",
      "Epoch 70/100\n",
      "600/600 - 0s - 780us/step - accuracy: 0.9603 - loss: 0.1346 - learning_rate: 0.0011\n",
      "\n",
      "Epoch 71: LearningRateScheduler setting learning rate to 0.0010595385551055295.\n",
      "Epoch 71/100\n",
      "600/600 - 0s - 773us/step - accuracy: 0.9605 - loss: 0.1343 - learning_rate: 0.0011\n",
      "\n",
      "Epoch 72: LearningRateScheduler setting learning rate to 0.001056561627350253.\n",
      "Epoch 72/100\n",
      "600/600 - 0s - 793us/step - accuracy: 0.9606 - loss: 0.1339 - learning_rate: 0.0011\n",
      "\n",
      "Epoch 73: LearningRateScheduler setting learning rate to 0.0010537335459827404.\n",
      "Epoch 73/100\n",
      "600/600 - 0s - 774us/step - accuracy: 0.9606 - loss: 0.1337 - learning_rate: 0.0011\n",
      "\n",
      "Epoch 74: LearningRateScheduler setting learning rate to 0.0010510468686836033.\n",
      "Epoch 74/100\n",
      "600/600 - 0s - 781us/step - accuracy: 0.9605 - loss: 0.1333 - learning_rate: 0.0011\n",
      "\n",
      "Epoch 75: LearningRateScheduler setting learning rate to 0.001048494525249423.\n",
      "Epoch 75/100\n",
      "600/600 - 0s - 768us/step - accuracy: 0.9606 - loss: 0.1331 - learning_rate: 0.0010\n",
      "\n",
      "Epoch 76: LearningRateScheduler setting learning rate to 0.001046069798986952.\n",
      "Epoch 76/100\n",
      "600/600 - 0s - 775us/step - accuracy: 0.9607 - loss: 0.1328 - learning_rate: 0.0010\n",
      "\n",
      "Epoch 77: LearningRateScheduler setting learning rate to 0.0010437663090376043.\n",
      "Epoch 77/100\n",
      "600/600 - 0s - 777us/step - accuracy: 0.9608 - loss: 0.1325 - learning_rate: 0.0010\n",
      "\n",
      "Epoch 78: LearningRateScheduler setting learning rate to 0.0010415779935857242.\n",
      "Epoch 78/100\n",
      "600/600 - 0s - 774us/step - accuracy: 0.9609 - loss: 0.1322 - learning_rate: 0.0010\n",
      "\n",
      "Epoch 79: LearningRateScheduler setting learning rate to 0.001039499093906438.\n",
      "Epoch 79/100\n",
      "600/600 - 0s - 783us/step - accuracy: 0.9610 - loss: 0.1319 - learning_rate: 0.0010\n",
      "\n",
      "Epoch 80: LearningRateScheduler setting learning rate to 0.0010375241392111161.\n",
      "Epoch 80/100\n",
      "600/600 - 0s - 774us/step - accuracy: 0.9611 - loss: 0.1316 - learning_rate: 0.0010\n",
      "\n",
      "Epoch 81: LearningRateScheduler setting learning rate to 0.0010356479322505602.\n",
      "Epoch 81/100\n",
      "600/600 - 0s - 768us/step - accuracy: 0.9613 - loss: 0.1315 - learning_rate: 0.0010\n",
      "\n",
      "Epoch 82: LearningRateScheduler setting learning rate to 0.0010338655356380323.\n",
      "Epoch 82/100\n",
      "600/600 - 0s - 768us/step - accuracy: 0.9611 - loss: 0.1311 - learning_rate: 0.0010\n",
      "\n",
      "Epoch 83: LearningRateScheduler setting learning rate to 0.0010321722588561306.\n",
      "Epoch 83/100\n",
      "600/600 - 0s - 770us/step - accuracy: 0.9613 - loss: 0.1310 - learning_rate: 0.0010\n",
      "\n",
      "Epoch 84: LearningRateScheduler setting learning rate to 0.001030563645913324.\n",
      "Epoch 84/100\n",
      "600/600 - 0s - 767us/step - accuracy: 0.9614 - loss: 0.1307 - learning_rate: 0.0010\n",
      "\n",
      "Epoch 85: LearningRateScheduler setting learning rate to 0.001029035463617658.\n",
      "Epoch 85/100\n",
      "600/600 - 0s - 762us/step - accuracy: 0.9615 - loss: 0.1304 - learning_rate: 0.0010\n",
      "\n",
      "Epoch 86: LearningRateScheduler setting learning rate to 0.001027583690436775.\n",
      "Epoch 86/100\n",
      "600/600 - 0s - 769us/step - accuracy: 0.9612 - loss: 0.1302 - learning_rate: 0.0010\n",
      "\n",
      "Epoch 87: LearningRateScheduler setting learning rate to 0.0010262045059149362.\n",
      "Epoch 87/100\n",
      "600/600 - 0s - 767us/step - accuracy: 0.9615 - loss: 0.1299 - learning_rate: 0.0010\n",
      "\n",
      "Epoch 88: LearningRateScheduler setting learning rate to 0.0010248942806191895.\n",
      "Epoch 88/100\n",
      "600/600 - 0s - 769us/step - accuracy: 0.9615 - loss: 0.1298 - learning_rate: 0.0010\n",
      "\n",
      "Epoch 89: LearningRateScheduler setting learning rate to 0.0010236495665882298.\n",
      "Epoch 89/100\n",
      "600/600 - 0s - 788us/step - accuracy: 0.9615 - loss: 0.1294 - learning_rate: 0.0010\n",
      "\n",
      "Epoch 90: LearningRateScheduler setting learning rate to 0.0010224670882588184.\n",
      "Epoch 90/100\n",
      "600/600 - 0s - 786us/step - accuracy: 0.9616 - loss: 0.1292 - learning_rate: 0.0010\n",
      "\n",
      "Epoch 91: LearningRateScheduler setting learning rate to 0.0010213437338458776.\n",
      "Epoch 91/100\n",
      "600/600 - 0s - 777us/step - accuracy: 0.9617 - loss: 0.1289 - learning_rate: 0.0010\n",
      "\n",
      "Epoch 92: LearningRateScheduler setting learning rate to 0.0010202765471535836.\n",
      "Epoch 92/100\n",
      "600/600 - 0s - 769us/step - accuracy: 0.9617 - loss: 0.1287 - learning_rate: 0.0010\n",
      "\n",
      "Epoch 93: LearningRateScheduler setting learning rate to 0.0010192627197959045.\n",
      "Epoch 93/100\n",
      "600/600 - 0s - 804us/step - accuracy: 0.9618 - loss: 0.1284 - learning_rate: 0.0010\n",
      "\n",
      "Epoch 94: LearningRateScheduler setting learning rate to 0.0010182995838061092.\n",
      "Epoch 94/100\n",
      "600/600 - 0s - 777us/step - accuracy: 0.9618 - loss: 0.1283 - learning_rate: 0.0010\n",
      "\n",
      "Epoch 95: LearningRateScheduler setting learning rate to 0.0010173846046158037.\n",
      "Epoch 95/100\n",
      "600/600 - 0s - 780us/step - accuracy: 0.9619 - loss: 0.1280 - learning_rate: 0.0010\n",
      "\n",
      "Epoch 96: LearningRateScheduler setting learning rate to 0.0010165153743850136.\n",
      "Epoch 96/100\n",
      "600/600 - 0s - 768us/step - accuracy: 0.9620 - loss: 0.1278 - learning_rate: 0.0010\n",
      "\n",
      "Epoch 97: LearningRateScheduler setting learning rate to 0.001015689605665763.\n",
      "Epoch 97/100\n",
      "600/600 - 0s - 769us/step - accuracy: 0.9622 - loss: 0.1276 - learning_rate: 0.0010\n",
      "\n",
      "Epoch 98: LearningRateScheduler setting learning rate to 0.0010149051253824748.\n",
      "Epoch 98/100\n",
      "600/600 - 0s - 781us/step - accuracy: 0.9621 - loss: 0.1274 - learning_rate: 0.0010\n",
      "\n",
      "Epoch 99: LearningRateScheduler setting learning rate to 0.001014159869113351.\n",
      "Epoch 99/100\n",
      "600/600 - 0s - 774us/step - accuracy: 0.9623 - loss: 0.1271 - learning_rate: 0.0010\n",
      "\n",
      "Epoch 100: LearningRateScheduler setting learning rate to 0.0010134518756576836.\n",
      "Epoch 100/100\n",
      "600/600 - 0s - 771us/step - accuracy: 0.9622 - loss: 0.1270 - learning_rate: 0.0010\n"
     ]
    }
   ],
   "source": [
    "history = model2.fit(\n",
    "    train_dataset,\n",
    "    epochs=100,\n",
    "    verbose=2,\n",
    "    callbacks=[LearningRateScheduler(lr_scheduler, verbose=1)]\n",
    "    )"
   ]
  },
  {
   "cell_type": "markdown",
   "metadata": {},
   "source": [
    "Evaluate the new model on the test set."
   ]
  },
  {
   "cell_type": "code",
   "execution_count": null,
   "metadata": {
    "scrolled": true
   },
   "outputs": [
    {
     "name": "stdout",
     "output_type": "stream",
     "text": [
      "Test loss: 0.2292259782552719\n",
      "Test accuracy: 0.9373999834060669\n"
     ]
    }
   ],
   "source": [
    "score2 = model2.evaluate(test_dataset, verbose=0)\n",
    "print(\"Test loss:\", score2[0])\n",
    "print(\"Test accuracy:\", score2[1]) #Accuracy went down?"
   ]
  },
  {
   "cell_type": "markdown",
   "metadata": {},
   "source": [
    "# Experimenting With Architectures\n",
    "\n",
    "Try different network architectures to see if you can improve the performance. To make this easier, modify the `make_model()` function so that you can vary the number of layers and the number of neurons in each layer. Pass a list into the function that has the number of neurons in each hidden layer. The last (`softmax`) layer always has 10 neurons."
   ]
  },
  {
   "cell_type": "code",
   "execution_count": 29,
   "metadata": {},
   "outputs": [],
   "source": [
    "def make_model(num_neurons):\n",
    "    model = models.Sequential()\n",
    "\n",
    "    model.add(layers.Flatten(input_shape=(28, 28)))\n",
    "    \n",
    "    for neurons in num_neurons:\n",
    "        model.add(layers.Dense(neurons, activation='relu'))\n",
    "    \n",
    "    model.add(layers.Dense(10, activation = 'softmax'))\n",
    "\n",
    "\n",
    "\n",
    "    return model"
   ]
  },
  {
   "cell_type": "markdown",
   "metadata": {},
   "source": [
    "Make a network with five hidden layers of 10 neurons, compile it with the `adam` optimizer, `categorical_crossentropy` loss and `accuracy` metric. Then train it with the default learning rate (no callbacks) for 100 epochs."
   ]
  },
  {
   "cell_type": "code",
   "execution_count": 30,
   "metadata": {},
   "outputs": [
    {
     "name": "stdout",
     "output_type": "stream",
     "text": [
      "Epoch 1/100\n"
     ]
    },
    {
     "name": "stderr",
     "output_type": "stream",
     "text": [
      "/home/casager/DeepLearning/NNDesignDeepLearning/.venv/lib/python3.12/site-packages/keras/src/layers/reshaping/flatten.py:37: UserWarning: Do not pass an `input_shape`/`input_dim` argument to a layer. When using Sequential models, prefer using an `Input(shape)` object as the first layer in the model instead.\n",
      "  super().__init__(**kwargs)\n"
     ]
    },
    {
     "name": "stdout",
     "output_type": "stream",
     "text": [
      "600/600 - 1s - 2ms/step - accuracy: 0.7703 - loss: 0.7484\n",
      "Epoch 2/100\n",
      "600/600 - 0s - 813us/step - accuracy: 0.9199 - loss: 0.2797\n",
      "Epoch 3/100\n",
      "600/600 - 0s - 815us/step - accuracy: 0.9349 - loss: 0.2285\n",
      "Epoch 4/100\n",
      "600/600 - 0s - 830us/step - accuracy: 0.9428 - loss: 0.2003\n",
      "Epoch 5/100\n",
      "600/600 - 0s - 815us/step - accuracy: 0.9484 - loss: 0.1804\n",
      "Epoch 6/100\n",
      "600/600 - 0s - 821us/step - accuracy: 0.9525 - loss: 0.1658\n",
      "Epoch 7/100\n",
      "600/600 - 1s - 839us/step - accuracy: 0.9547 - loss: 0.1547\n",
      "Epoch 8/100\n",
      "600/600 - 1s - 856us/step - accuracy: 0.9573 - loss: 0.1457\n",
      "Epoch 9/100\n",
      "600/600 - 0s - 822us/step - accuracy: 0.9596 - loss: 0.1379\n",
      "Epoch 10/100\n",
      "600/600 - 0s - 811us/step - accuracy: 0.9613 - loss: 0.1317\n",
      "Epoch 11/100\n",
      "600/600 - 0s - 816us/step - accuracy: 0.9628 - loss: 0.1264\n",
      "Epoch 12/100\n",
      "600/600 - 1s - 842us/step - accuracy: 0.9643 - loss: 0.1213\n",
      "Epoch 13/100\n",
      "600/600 - 0s - 821us/step - accuracy: 0.9653 - loss: 0.1174\n",
      "Epoch 14/100\n",
      "600/600 - 0s - 801us/step - accuracy: 0.9667 - loss: 0.1133\n",
      "Epoch 15/100\n",
      "600/600 - 0s - 808us/step - accuracy: 0.9676 - loss: 0.1097\n",
      "Epoch 16/100\n",
      "600/600 - 0s - 815us/step - accuracy: 0.9686 - loss: 0.1066\n",
      "Epoch 17/100\n",
      "600/600 - 0s - 831us/step - accuracy: 0.9693 - loss: 0.1034\n",
      "Epoch 18/100\n",
      "600/600 - 0s - 814us/step - accuracy: 0.9704 - loss: 0.1007\n",
      "Epoch 19/100\n",
      "600/600 - 0s - 812us/step - accuracy: 0.9712 - loss: 0.0978\n",
      "Epoch 20/100\n",
      "600/600 - 0s - 818us/step - accuracy: 0.9717 - loss: 0.0953\n",
      "Epoch 21/100\n",
      "600/600 - 0s - 807us/step - accuracy: 0.9726 - loss: 0.0928\n",
      "Epoch 22/100\n",
      "600/600 - 0s - 804us/step - accuracy: 0.9732 - loss: 0.0905\n",
      "Epoch 23/100\n",
      "600/600 - 0s - 806us/step - accuracy: 0.9739 - loss: 0.0886\n",
      "Epoch 24/100\n",
      "600/600 - 0s - 816us/step - accuracy: 0.9746 - loss: 0.0869\n",
      "Epoch 25/100\n",
      "600/600 - 0s - 810us/step - accuracy: 0.9755 - loss: 0.0846\n",
      "Epoch 26/100\n",
      "600/600 - 0s - 826us/step - accuracy: 0.9759 - loss: 0.0830\n",
      "Epoch 27/100\n",
      "600/600 - 0s - 832us/step - accuracy: 0.9766 - loss: 0.0810\n",
      "Epoch 28/100\n",
      "600/600 - 0s - 820us/step - accuracy: 0.9769 - loss: 0.0793\n",
      "Epoch 29/100\n",
      "600/600 - 0s - 809us/step - accuracy: 0.9776 - loss: 0.0777\n",
      "Epoch 30/100\n",
      "600/600 - 0s - 832us/step - accuracy: 0.9777 - loss: 0.0761\n",
      "Epoch 31/100\n",
      "600/600 - 0s - 814us/step - accuracy: 0.9783 - loss: 0.0748\n",
      "Epoch 32/100\n",
      "600/600 - 0s - 801us/step - accuracy: 0.9790 - loss: 0.0732\n",
      "Epoch 33/100\n",
      "600/600 - 1s - 844us/step - accuracy: 0.9794 - loss: 0.0717\n",
      "Epoch 34/100\n",
      "600/600 - 1s - 850us/step - accuracy: 0.9796 - loss: 0.0705\n",
      "Epoch 35/100\n",
      "600/600 - 0s - 819us/step - accuracy: 0.9804 - loss: 0.0691\n",
      "Epoch 36/100\n",
      "600/600 - 0s - 816us/step - accuracy: 0.9806 - loss: 0.0678\n",
      "Epoch 37/100\n",
      "600/600 - 0s - 792us/step - accuracy: 0.9811 - loss: 0.0664\n",
      "Epoch 38/100\n",
      "600/600 - 0s - 831us/step - accuracy: 0.9814 - loss: 0.0650\n",
      "Epoch 39/100\n",
      "600/600 - 0s - 818us/step - accuracy: 0.9821 - loss: 0.0637\n",
      "Epoch 40/100\n",
      "600/600 - 0s - 825us/step - accuracy: 0.9823 - loss: 0.0625\n",
      "Epoch 41/100\n",
      "600/600 - 0s - 826us/step - accuracy: 0.9829 - loss: 0.0612\n",
      "Epoch 42/100\n",
      "600/600 - 0s - 814us/step - accuracy: 0.9832 - loss: 0.0604\n",
      "Epoch 43/100\n",
      "600/600 - 0s - 806us/step - accuracy: 0.9835 - loss: 0.0590\n",
      "Epoch 44/100\n",
      "600/600 - 0s - 804us/step - accuracy: 0.9836 - loss: 0.0582\n",
      "Epoch 45/100\n",
      "600/600 - 0s - 795us/step - accuracy: 0.9840 - loss: 0.0574\n",
      "Epoch 46/100\n",
      "600/600 - 0s - 801us/step - accuracy: 0.9846 - loss: 0.0564\n",
      "Epoch 47/100\n",
      "600/600 - 0s - 801us/step - accuracy: 0.9849 - loss: 0.0553\n",
      "Epoch 48/100\n",
      "600/600 - 0s - 808us/step - accuracy: 0.9847 - loss: 0.0548\n",
      "Epoch 49/100\n",
      "600/600 - 1s - 842us/step - accuracy: 0.9851 - loss: 0.0535\n",
      "Epoch 50/100\n",
      "600/600 - 0s - 808us/step - accuracy: 0.9854 - loss: 0.0527\n",
      "Epoch 51/100\n",
      "600/600 - 1s - 856us/step - accuracy: 0.9858 - loss: 0.0521\n",
      "Epoch 52/100\n",
      "600/600 - 1s - 845us/step - accuracy: 0.9858 - loss: 0.0511\n",
      "Epoch 53/100\n",
      "600/600 - 0s - 828us/step - accuracy: 0.9863 - loss: 0.0503\n",
      "Epoch 54/100\n",
      "600/600 - 0s - 805us/step - accuracy: 0.9862 - loss: 0.0496\n",
      "Epoch 55/100\n",
      "600/600 - 0s - 815us/step - accuracy: 0.9859 - loss: 0.0497\n",
      "Epoch 56/100\n",
      "600/600 - 1s - 836us/step - accuracy: 0.9862 - loss: 0.0484\n",
      "Epoch 57/100\n",
      "600/600 - 0s - 822us/step - accuracy: 0.9867 - loss: 0.0474\n",
      "Epoch 58/100\n",
      "600/600 - 0s - 805us/step - accuracy: 0.9868 - loss: 0.0465\n",
      "Epoch 59/100\n",
      "600/600 - 0s - 802us/step - accuracy: 0.9867 - loss: 0.0462\n",
      "Epoch 60/100\n",
      "600/600 - 0s - 803us/step - accuracy: 0.9863 - loss: 0.0468\n",
      "Epoch 61/100\n",
      "600/600 - 0s - 800us/step - accuracy: 0.9872 - loss: 0.0445\n",
      "Epoch 62/100\n",
      "600/600 - 0s - 801us/step - accuracy: 0.9877 - loss: 0.0438\n",
      "Epoch 63/100\n",
      "600/600 - 0s - 803us/step - accuracy: 0.9878 - loss: 0.0430\n",
      "Epoch 64/100\n",
      "600/600 - 0s - 806us/step - accuracy: 0.9879 - loss: 0.0429\n",
      "Epoch 65/100\n",
      "600/600 - 0s - 803us/step - accuracy: 0.9882 - loss: 0.0419\n",
      "Epoch 66/100\n",
      "600/600 - 0s - 801us/step - accuracy: 0.9884 - loss: 0.0413\n",
      "Epoch 67/100\n",
      "600/600 - 0s - 800us/step - accuracy: 0.9883 - loss: 0.0411\n",
      "Epoch 68/100\n",
      "600/600 - 0s - 808us/step - accuracy: 0.9889 - loss: 0.0402\n",
      "Epoch 69/100\n",
      "600/600 - 0s - 807us/step - accuracy: 0.9893 - loss: 0.0390\n",
      "Epoch 70/100\n",
      "600/600 - 0s - 811us/step - accuracy: 0.9888 - loss: 0.0392\n",
      "Epoch 71/100\n",
      "600/600 - 0s - 802us/step - accuracy: 0.9896 - loss: 0.0381\n",
      "Epoch 72/100\n",
      "600/600 - 0s - 806us/step - accuracy: 0.9890 - loss: 0.0381\n",
      "Epoch 73/100\n",
      "600/600 - 0s - 809us/step - accuracy: 0.9890 - loss: 0.0386\n",
      "Epoch 74/100\n",
      "600/600 - 0s - 809us/step - accuracy: 0.9882 - loss: 0.0386\n",
      "Epoch 75/100\n",
      "600/600 - 0s - 802us/step - accuracy: 0.9888 - loss: 0.0377\n",
      "Epoch 76/100\n",
      "600/600 - 0s - 801us/step - accuracy: 0.9890 - loss: 0.0375\n",
      "Epoch 77/100\n",
      "600/600 - 1s - 846us/step - accuracy: 0.9892 - loss: 0.0370\n",
      "Epoch 78/100\n",
      "600/600 - 1s - 835us/step - accuracy: 0.9894 - loss: 0.0363\n",
      "Epoch 79/100\n",
      "600/600 - 0s - 828us/step - accuracy: 0.9896 - loss: 0.0359\n",
      "Epoch 80/100\n",
      "600/600 - 0s - 803us/step - accuracy: 0.9883 - loss: 0.0371\n",
      "Epoch 81/100\n",
      "600/600 - 0s - 811us/step - accuracy: 0.9901 - loss: 0.0338\n",
      "Epoch 82/100\n",
      "600/600 - 1s - 839us/step - accuracy: 0.9902 - loss: 0.0334\n",
      "Epoch 83/100\n",
      "600/600 - 0s - 821us/step - accuracy: 0.9895 - loss: 0.0347\n",
      "Epoch 84/100\n",
      "600/600 - 0s - 830us/step - accuracy: 0.9903 - loss: 0.0335\n",
      "Epoch 85/100\n",
      "600/600 - 0s - 814us/step - accuracy: 0.9890 - loss: 0.0358\n",
      "Epoch 86/100\n",
      "600/600 - 0s - 806us/step - accuracy: 0.9897 - loss: 0.0331\n",
      "Epoch 87/100\n",
      "600/600 - 0s - 812us/step - accuracy: 0.9899 - loss: 0.0331\n",
      "Epoch 88/100\n",
      "600/600 - 0s - 806us/step - accuracy: 0.9903 - loss: 0.0326\n",
      "Epoch 89/100\n",
      "600/600 - 0s - 803us/step - accuracy: 0.9898 - loss: 0.0333\n",
      "Epoch 90/100\n",
      "600/600 - 0s - 797us/step - accuracy: 0.9905 - loss: 0.0317\n",
      "Epoch 91/100\n",
      "600/600 - 0s - 797us/step - accuracy: 0.9905 - loss: 0.0313\n",
      "Epoch 92/100\n",
      "600/600 - 0s - 805us/step - accuracy: 0.9891 - loss: 0.0338\n",
      "Epoch 93/100\n",
      "600/600 - 1s - 835us/step - accuracy: 0.9904 - loss: 0.0315\n",
      "Epoch 94/100\n",
      "600/600 - 1s - 849us/step - accuracy: 0.9900 - loss: 0.0313\n",
      "Epoch 95/100\n",
      "600/600 - 0s - 807us/step - accuracy: 0.9903 - loss: 0.0318\n",
      "Epoch 96/100\n",
      "600/600 - 0s - 804us/step - accuracy: 0.9903 - loss: 0.0309\n",
      "Epoch 97/100\n",
      "600/600 - 0s - 804us/step - accuracy: 0.9912 - loss: 0.0302\n",
      "Epoch 98/100\n",
      "600/600 - 0s - 804us/step - accuracy: 0.9903 - loss: 0.0308\n",
      "Epoch 99/100\n",
      "600/600 - 0s - 830us/step - accuracy: 0.9910 - loss: 0.0295\n",
      "Epoch 100/100\n",
      "600/600 - 0s - 807us/step - accuracy: 0.9916 - loss: 0.0286\n"
     ]
    }
   ],
   "source": [
    "model3 = make_model([20, 15, 10])\n",
    "model3.compile(\n",
    "    optimizer = 'adam',\n",
    "    loss = 'categorical_crossentropy',\n",
    "    metrics = ['accuracy']    \n",
    ")\n",
    "history = model3.fit(\n",
    "    train_dataset,\n",
    "    epochs=100,\n",
    "    verbose=2\n",
    "    )"
   ]
  },
  {
   "cell_type": "markdown",
   "metadata": {},
   "source": [
    "Plot the training accuracy vs epochs."
   ]
  },
  {
   "cell_type": "code",
   "execution_count": 31,
   "metadata": {},
   "outputs": [
    {
     "data": {
      "image/png": "[encoded data removed]",
      "text/plain": [
       "<Figure size 640x480 with 1 Axes>"
      ]
     },
     "metadata": {},
     "output_type": "display_data"
    }
   ],
   "source": [
    "history_dict = history.history\n",
    "acc = history_dict['accuracy']\n",
    "epochs = history.epoch\n",
    "plt.plot(epochs, acc)\n",
    "plt.title('Training Accuracy')\n",
    "plt.xlabel('Epochs')\n",
    "plt.show()"
   ]
  },
  {
   "cell_type": "markdown",
   "metadata": {},
   "source": [
    "Based on your plot, do you think the accuracy will increase, if you  train the network longer?"
   ]
  },
  {
   "cell_type": "markdown",
   "metadata": {},
   "source": [
    "Now evaluate the model on the test set. "
   ]
  },
  {
   "cell_type": "code",
   "execution_count": 32,
   "metadata": {},
   "outputs": [
    {
     "name": "stdout",
     "output_type": "stream",
     "text": [
      "Test loss: 0.3789522349834442\n",
      "Test accuracy: 0.953000009059906\n"
     ]
    }
   ],
   "source": [
    "score3 = model3.evaluate(test_dataset, verbose=0)\n",
    "print(\"Test loss:\", score3[0])\n",
    "print(\"Test accuracy:\", score3[1])"
   ]
  },
  {
   "cell_type": "markdown",
   "metadata": {},
   "source": [
    "How does the test accuracy compare to the training accuracy? Is the network overfitting, or can you improve the accuracy by adding neurons or layers to the network?"
   ]
  },
  {
   "cell_type": "markdown",
   "metadata": {},
   "source": [
    "## Explore Further\n",
    "\n",
    "Experiment with different network architectures. Try to find the architecture that gives you the best accuracy. Investigate the following.\n",
    "\n",
    "1. Increase the number of neurons in each layer. How do training and testing accuracy change?\n",
    "1. Increase the number of layers. Does the training (testing) accuracy continue to decrease? How high can you make the testing accuracy? Do you get better results increasing the number of neurons in each layer, or the number of layers (assuming the overal number of weights stays the same)?\n",
    "1. Train a network twice without changing the architecture. (Be sure to remake the network each time.) Do you acheive the same accuracy? If not, explain why the accuracy is different.\n",
    "1. Experiment with different optimizers and different learning rates.\n",
    "1. Experiment with different batch sizes.\n",
    "1. Increase the number of epochs, and plot the training accuracy. Use the plot to determine whether or not you should  increase the number of epochs further."
   ]
  }
 ],
 "metadata": {
  "kernelspec": {
   "display_name": ".venv",
   "language": "python",
   "name": "python3"
  },
  "language_info": {
   "codemirror_mode": {
    "name": "ipython",
    "version": 3
   },
   "file_extension": ".py",
   "mimetype": "text/x-python",
   "name": "python",
   "nbconvert_exporter": "python",
   "pygments_lexer": "ipython3",
   "version": "3.12.3"
  }
 },
 "nbformat": 4,
 "nbformat_minor": 4
}
