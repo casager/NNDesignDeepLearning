{
 "cells": [
  {
   "cell_type": "markdown",
   "metadata": {},
   "source": [
    "[![Open In Colab](https://colab.research.google.com/assets/colab-badge.svg)](https://colab.research.google.com/github/NNDesignDeepLearning/NNDesignDeepLearning/blob/master/06.TensorFlowIntroChapter/Code/LabSolutions/TensorFlowIntroLab2_Solution.ipynb)"
   ]
  },
  {
   "cell_type": "markdown",
   "metadata": {},
   "source": [
    "# TensorFlow Introduction Lab 2  -- Preventing Overfitting\n",
    "\n",
    "This objective of this second TensorFlow lab is to test methods to help prevent the neural network models from overfitting. This is based on topics covered in Chapter 4 -- Supplemental Training Procedures, which you may want to review before running this lab. In particular, you will test the effects of using batch normalization and early stopping. In addition, you will use **data augmentation**. This is a way of increasing the size of the dataset by adding images that are realistic modifications of the original images. The larger a dataset is, the less likely the network will overfit.\n",
    "\n",
    "When working on this lab, you may find it useful to consult websites related to [tf.data.Dataset](https://www.tensorflow.org/api_docs/python/tf/data/Dataset), which describes all of the methods that can be used with TensorFlow Datasets, and [TensorFlow Input Pipelines](https://www.tensorflow.org/guide/data).\n",
    "\n",
    "In this lab we will use a dataset that is contained in the [TensorFlow Datasets](https://www.tensorflow.org/datasets). The datasets here can be loaded directly into the `tf.data.Datasets` format.\n",
    "\n",
    "Another model from keras that we use in this lab is [preprocssing](https://www.tensorflow.org/api_docs/python/tf/keras/layers/experimental/preprocessing). We will use methods from this library for normalizing and augmenting data.\n",
    "\n",
    "## Loading Modules\n",
    "\n",
    "We begin by loading some useful modules. "
   ]
  },
  {
   "cell_type": "code",
   "execution_count": null,
   "metadata": {},
   "outputs": [
    {
     "name": "stdout",
     "output_type": "stream",
     "text": [
      "Requirement already satisfied: tensorflow-datasets in /home/casager/DeepLearning/NNDesignDeepLearning/.venv/lib/python3.12/site-packages (4.9.7)\n",
      "Requirement already satisfied: absl-py in /home/casager/DeepLearning/NNDesignDeepLearning/.venv/lib/python3.12/site-packages (from tensorflow-datasets) (2.1.0)\n",
      "Requirement already satisfied: click in /home/casager/DeepLearning/NNDesignDeepLearning/.venv/lib/python3.12/site-packages (from tensorflow-datasets) (8.1.8)\n",
      "Requirement already satisfied: dm-tree in /home/casager/DeepLearning/NNDesignDeepLearning/.venv/lib/python3.12/site-packages (from tensorflow-datasets) (0.1.9)\n",
      "Requirement already satisfied: immutabledict in /home/casager/DeepLearning/NNDesignDeepLearning/.venv/lib/python3.12/site-packages (from tensorflow-datasets) (4.2.1)\n",
      "Requirement already satisfied: numpy in /home/casager/DeepLearning/NNDesignDeepLearning/.venv/lib/python3.12/site-packages (from tensorflow-datasets) (2.0.2)\n",
      "Requirement already satisfied: promise in /home/casager/DeepLearning/NNDesignDeepLearning/.venv/lib/python3.12/site-packages (from tensorflow-datasets) (2.3)\n",
      "Requirement already satisfied: protobuf>=3.20 in /home/casager/DeepLearning/NNDesignDeepLearning/.venv/lib/python3.12/site-packages (from tensorflow-datasets) (5.29.3)\n",
      "Requirement already satisfied: psutil in /home/casager/DeepLearning/NNDesignDeepLearning/.venv/lib/python3.12/site-packages (from tensorflow-datasets) (6.1.1)\n",
      "Requirement already satisfied: pyarrow in /home/casager/DeepLearning/NNDesignDeepLearning/.venv/lib/python3.12/site-packages (from tensorflow-datasets) (19.0.1)\n",
      "Requirement already satisfied: requests>=2.19.0 in /home/casager/DeepLearning/NNDesignDeepLearning/.venv/lib/python3.12/site-packages (from tensorflow-datasets) (2.32.3)\n",
      "Requirement already satisfied: simple-parsing in /home/casager/DeepLearning/NNDesignDeepLearning/.venv/lib/python3.12/site-packages (from tensorflow-datasets) (0.1.7)\n",
      "Requirement already satisfied: tensorflow-metadata in /home/casager/DeepLearning/NNDesignDeepLearning/.venv/lib/python3.12/site-packages (from tensorflow-datasets) (1.16.1)\n",
      "Requirement already satisfied: termcolor in /home/casager/DeepLearning/NNDesignDeepLearning/.venv/lib/python3.12/site-packages (from tensorflow-datasets) (2.5.0)\n",
      "Requirement already satisfied: toml in /home/casager/DeepLearning/NNDesignDeepLearning/.venv/lib/python3.12/site-packages (from tensorflow-datasets) (0.10.2)\n",
      "Requirement already satisfied: tqdm in /home/casager/DeepLearning/NNDesignDeepLearning/.venv/lib/python3.12/site-packages (from tensorflow-datasets) (4.67.1)\n",
      "Requirement already satisfied: wrapt in /home/casager/DeepLearning/NNDesignDeepLearning/.venv/lib/python3.12/site-packages (from tensorflow-datasets) (1.17.2)\n",
      "Requirement already satisfied: array-record>=0.5.0 in /home/casager/DeepLearning/NNDesignDeepLearning/.venv/lib/python3.12/site-packages (from tensorflow-datasets) (0.6.0)\n",
      "Requirement already satisfied: etils>=1.9.1 in /home/casager/DeepLearning/NNDesignDeepLearning/.venv/lib/python3.12/site-packages (from etils[edc,enp,epath,epy,etree]>=1.9.1; python_version >= \"3.11\"->tensorflow-datasets) (1.12.0)\n",
      "Requirement already satisfied: fsspec in /home/casager/DeepLearning/NNDesignDeepLearning/.venv/lib/python3.12/site-packages (from etils[edc,enp,epath,epy,etree]>=1.9.1; python_version >= \"3.11\"->tensorflow-datasets) (2025.2.0)\n",
      "Requirement already satisfied: importlib_resources in /home/casager/DeepLearning/NNDesignDeepLearning/.venv/lib/python3.12/site-packages (from etils[edc,enp,epath,epy,etree]>=1.9.1; python_version >= \"3.11\"->tensorflow-datasets) (6.5.2)\n",
      "Requirement already satisfied: typing_extensions in /home/casager/DeepLearning/NNDesignDeepLearning/.venv/lib/python3.12/site-packages (from etils[edc,enp,epath,epy,etree]>=1.9.1; python_version >= \"3.11\"->tensorflow-datasets) (4.12.2)\n",
      "Requirement already satisfied: zipp in /home/casager/DeepLearning/NNDesignDeepLearning/.venv/lib/python3.12/site-packages (from etils[edc,enp,epath,epy,etree]>=1.9.1; python_version >= \"3.11\"->tensorflow-datasets) (3.21.0)\n",
      "Requirement already satisfied: charset-normalizer<4,>=2 in /home/casager/DeepLearning/NNDesignDeepLearning/.venv/lib/python3.12/site-packages (from requests>=2.19.0->tensorflow-datasets) (3.4.1)\n",
      "Requirement already satisfied: idna<4,>=2.5 in /home/casager/DeepLearning/NNDesignDeepLearning/.venv/lib/python3.12/site-packages (from requests>=2.19.0->tensorflow-datasets) (3.10)\n",
      "Requirement already satisfied: urllib3<3,>=1.21.1 in /home/casager/DeepLearning/NNDesignDeepLearning/.venv/lib/python3.12/site-packages (from requests>=2.19.0->tensorflow-datasets) (2.3.0)\n",
      "Requirement already satisfied: certifi>=2017.4.17 in /home/casager/DeepLearning/NNDesignDeepLearning/.venv/lib/python3.12/site-packages (from requests>=2.19.0->tensorflow-datasets) (2025.1.31)\n",
      "Requirement already satisfied: attrs>=18.2.0 in /home/casager/DeepLearning/NNDesignDeepLearning/.venv/lib/python3.12/site-packages (from dm-tree->tensorflow-datasets) (25.1.0)\n",
      "Requirement already satisfied: six in /home/casager/DeepLearning/NNDesignDeepLearning/.venv/lib/python3.12/site-packages (from promise->tensorflow-datasets) (1.17.0)\n",
      "Requirement already satisfied: docstring-parser<1.0,>=0.15 in /home/casager/DeepLearning/NNDesignDeepLearning/.venv/lib/python3.12/site-packages (from simple-parsing->tensorflow-datasets) (0.16)\n",
      "Requirement already satisfied: googleapis-common-protos<2,>=1.56.4 in /home/casager/DeepLearning/NNDesignDeepLearning/.venv/lib/python3.12/site-packages (from tensorflow-metadata->tensorflow-datasets) (1.68.0)\n"
     ]
    }
   ],
   "source": [
    "%matplotlib inline \n",
    "!pip3 install tensorflow-datasets\n",
    "import matplotlib.pyplot as plt\n",
    "import numpy as np\n",
    "import pandas as pd\n",
    "from tensorflow.keras.utils import to_categorical\n",
    "from tensorflow.keras import models\n",
    "from tensorflow.keras import layers\n",
    "from tensorflow.data import Dataset\n",
    "from tensorflow.keras import datasets\n",
    "import tensorflow_datasets as tfds\n",
    "#from tensorflow.keras.layers.experimental import preprocessing #this has been upgraded to just tensorflow.keras.layers import Normalization...\n",
    "from tensorflow.keras.losses import SparseCategoricalCrossentropy\n",
    "import tensorflow as tf\n",
    "from tensorflow.keras.layers import Normalization, Rescaling,RandomZoom,RandomTranslation,RandomRotation\n",
    "from tensorflow.keras.losses import SparseCategoricalCrossentropy\n"
   ]
  },
  {
   "cell_type": "markdown",
   "metadata": {},
   "source": [
    "# Loading Data\n",
    "\n",
    "For this lab we will use a variation of the MNIST datset we used in Lab 1. This dataset, referred to as KMNIST, also consists of handwritten charaters, but they are Kanji characters. You can find a description [here](http://codh.rois.ac.jp/kmnist/index.html.en). The data can be loaded directly into a TensorFlow Dataset using the `tfds.load()` method.\n",
    "\n",
    "When loading the data it can be split into several subsets (see [Splits&Slicing](https://www.tensorflow.org/datasets/splits)). Add the following argument to the `tfds.load()` method: `split=['train[:85%]', 'train[85%:]', 'test']`. This will return a list of three different Datasets. The first, which will have 85% of the traning set, will be used for training. The second, which will use 15% of the training set, will be used for validation. The third Dataset will contain the test set. The validation set will be passed to the fit method as `validation_data`. The performance on this set will be displayed during training, and saved in `history`, but it will not be used for weight updates. By monitoring the validation set during training, we can identify when the network is overfitting."
   ]
  },
  {
   "cell_type": "code",
   "execution_count": 9,
   "metadata": {},
   "outputs": [
    {
     "name": "stderr",
     "output_type": "stream",
     "text": [
      "2025-02-21 10:46:56.413212: W external/local_tsl/tsl/platform/cloud/google_auth_provider.cc:184] All attempts to get a Google authentication bearer token failed, returning an empty token. Retrieving token from files failed with \"NOT_FOUND: Could not locate the credentials file.\". Retrieving token from GCE failed with \"FAILED_PRECONDITION: Error executing an HTTP request: libcurl code 6 meaning 'Couldn't resolve host name', error details: Could not resolve host: metadata.google.internal\".\n"
     ]
    },
    {
     "name": "stdout",
     "output_type": "stream",
     "text": [
      "\u001b[1mDownloading and preparing dataset 20.26 MiB (download: 20.26 MiB, generated: 31.76 MiB, total: 52.02 MiB) to /home/casager/tensorflow_datasets/kmnist/3.0.1...\u001b[0m\n"
     ]
    },
    {
     "name": "stderr",
     "output_type": "stream",
     "text": [
      "/home/casager/DeepLearning/NNDesignDeepLearning/.venv/lib/python3.12/site-packages/tqdm/auto.py:21: TqdmWarning: IProgress not found. Please update jupyter and ipywidgets. See https://ipywidgets.readthedocs.io/en/stable/user_install.html\n",
      "  from .autonotebook import tqdm as notebook_tqdm\n",
      "Dl Completed...: 0 url [00:00, ? url/s]\n",
      "Dl Completed...:   0%|          | 0/1 [00:00<?, ? url/s]\n",
      "Dl Completed...:   0%|          | 0/2 [00:00<?, ? url/s]\n",
      "Dl Completed...:   0%|          | 0/3 [00:00<?, ? url/s]\n",
      "Dl Completed...:   0%|          | 0/4 [00:00<?, ? url/s]\n",
      "Dl Completed...:   0%|          | 0/4 [00:01<?, ? url/s]\n",
      "Dl Completed...:   0%|          | 0/4 [00:01<?, ? url/s]\n",
      "Dl Completed...:   0%|          | 0/4 [00:01<?, ? url/s]\n",
      "Dl Completed...:   0%|          | 0/4 [00:01<?, ? url/s]\n",
      "Dl Completed...:  25%|██▌       | 1/4 [00:01<00:03,  1.03s/ url]\n",
      "Dl Completed...:  25%|██▌       | 1/4 [00:01<00:03,  1.03s/ url]\n",
      "\u001b[A\n",
      "Dl Completed...:  25%|██▌       | 1/4 [00:01<00:03,  1.03s/ url]\n",
      "Dl Completed...:  50%|█████     | 2/4 [00:01<00:02,  1.03s/ url]\n",
      "Dl Completed...:  50%|█████     | 2/4 [00:01<00:02,  1.03s/ url]\n",
      "Dl Completed...:  50%|█████     | 2/4 [00:01<00:02,  1.03s/ url]\n",
      "Dl Completed...:  50%|█████     | 2/4 [00:03<00:02,  1.03s/ url]\n",
      "Dl Completed...:  50%|█████     | 2/4 [00:03<00:02,  1.03s/ url]\n",
      "Dl Completed...:  50%|█████     | 2/4 [00:04<00:02,  1.03s/ url]\n",
      "Dl Completed...:  50%|█████     | 2/4 [00:05<00:02,  1.03s/ url]\n",
      "Dl Completed...:  75%|███████▌  | 3/4 [00:06<00:02,  2.12s/ url]\n",
      "Dl Completed...:  75%|███████▌  | 3/4 [00:06<00:02,  2.12s/ url]\n",
      "\u001b[A\n",
      "Dl Completed...:  75%|███████▌  | 3/4 [00:06<00:02,  2.12s/ url]\n",
      "Dl Completed...:  75%|███████▌  | 3/4 [00:07<00:02,  2.12s/ url]\n",
      "Dl Completed...:  75%|███████▌  | 3/4 [00:09<00:02,  2.12s/ url]\n",
      "Dl Completed...:  75%|███████▌  | 3/4 [00:11<00:02,  2.12s/ url]\n",
      "Dl Completed...:  75%|███████▌  | 3/4 [00:12<00:02,  2.12s/ url]\n",
      "Dl Completed...:  75%|███████▌  | 3/4 [00:13<00:02,  2.12s/ url]\n",
      "Dl Completed...:  75%|███████▌  | 3/4 [00:15<00:02,  2.12s/ url]\n",
      "Dl Completed...:  75%|███████▌  | 3/4 [00:16<00:02,  2.12s/ url]\n",
      "Dl Completed...:  75%|███████▌  | 3/4 [00:18<00:02,  2.12s/ url]\n",
      "Dl Completed...:  75%|███████▌  | 3/4 [00:19<00:02,  2.12s/ url]\n",
      "Dl Completed...:  75%|███████▌  | 3/4 [00:20<00:02,  2.12s/ url]\n",
      "Dl Completed...:  75%|███████▌  | 3/4 [00:22<00:02,  2.12s/ url]\n",
      "Dl Completed...:  75%|███████▌  | 3/4 [00:22<00:02,  2.12s/ url]\n",
      "Dl Completed...:  75%|███████▌  | 3/4 [00:24<00:02,  2.12s/ url]\n",
      "Dl Completed...:  75%|███████▌  | 3/4 [00:25<00:02,  2.12s/ url]\n",
      "Dl Completed...:  75%|███████▌  | 3/4 [00:25<00:02,  2.12s/ url]\n",
      "Dl Completed...: 100%|██████████| 4/4 [00:26<00:00,  8.33s/ url]\n",
      "Dl Completed...: 100%|██████████| 4/4 [00:26<00:00,  8.33s/ url]\n",
      "\u001b[A\n",
      "Dl Completed...: 100%|██████████| 4/4 [00:26<00:00,  8.33s/ url]\n",
      "Extraction completed...: 100%|██████████| 4/4 [00:26<00:00,  6.58s/ file]\n",
      "Dl Size...: 100%|██████████| 19/19 [00:26<00:00,  1.39s/ MiB]\n",
      "Dl Completed...: 100%|██████████| 4/4 [00:26<00:00,  6.58s/ url]\n",
      "Generating splits...:   0%|          | 0/2 [00:00<?, ? splits/s]W0000 00:00:1740156447.742680    5336 gpu_device.cc:2344] Cannot dlopen some GPU libraries. Please make sure the missing libraries mentioned above are installed properly if you would like to use GPU. Follow the guide at https://www.tensorflow.org/install/gpu for how to download and setup the required libraries for your platform.\n",
      "Skipping registering GPU devices...\n",
      "                                                                        "
     ]
    },
    {
     "name": "stdout",
     "output_type": "stream",
     "text": [
      "\u001b[1mDataset kmnist downloaded and prepared to /home/casager/tensorflow_datasets/kmnist/3.0.1. Subsequent calls will reuse this data.\u001b[0m\n"
     ]
    },
    {
     "name": "stderr",
     "output_type": "stream",
     "text": [
      "\r"
     ]
    }
   ],
   "source": [
    "ds, ds_info = tfds.load('kmnist', split=['train[:85%]', 'train[85%:]', 'test'], as_supervised=True, with_info=True)\n",
    "dstrain = ds[0]\n",
    "dsval = ds[1]\n",
    "dstest = ds[2]"
   ]
  },
  {
   "cell_type": "markdown",
   "metadata": {},
   "source": [
    "You can see a sample of the dataset with the following command. "
   ]
  },
  {
   "cell_type": "code",
   "execution_count": 10,
   "metadata": {},
   "outputs": [
    {
     "name": "stderr",
     "output_type": "stream",
     "text": [
      "2025-02-21 10:47:46.220159: I tensorflow/core/kernels/data/tf_record_dataset_op.cc:376] The default buffer size is 262144, which is overridden by the user specified `buffer_size` of 8388608\n",
      "2025-02-21 10:47:46.241406: W tensorflow/core/kernels/data/cache_dataset_ops.cc:914] The calling iterator did not fully read the dataset being cached. In order to avoid unexpected truncation of the dataset, the partially cached contents of the dataset  will be discarded. This can happen if you have an input pipeline similar to `dataset.cache().take(k).repeat()`. You should use `dataset.take(k).cache().repeat()` instead.\n",
      "2025-02-21 10:47:46.253178: I tensorflow/core/framework/local_rendezvous.cc:405] Local rendezvous is aborting with status: OUT_OF_RANGE: End of sequence\n"
     ]
    },
    {
     "data": {
      "image/png": "[encoded data removed]",
      "text/plain": [
       "<Figure size 900x900 with 9 Axes>"
      ]
     },
     "metadata": {},
     "output_type": "display_data"
    },
    {
     "data": {
      "image/png": "[encoded data removed]",
      "text/plain": [
       "<Figure size 900x900 with 9 Axes>"
      ]
     },
     "execution_count": 10,
     "metadata": {},
     "output_type": "execute_result"
    }
   ],
   "source": [
    "tfds.visualization.show_examples(dstrain, ds_info)"
   ]
  },
  {
   "cell_type": "markdown",
   "metadata": {},
   "source": [
    "# Normalization\n",
    "\n",
    "As in the first lab, it is helpful to normalize the input images before training. Since the data is in a Dataset, we can create a normalization function and then use the `map()` method to apply it to the Dataset. \n",
    "\n",
    "First, create a normalization model, using `models.Sequential()` and `preprocessing.Rescaling()`. (See [preprocssing](https://www.tensorflow.org/api_docs/python/tf/keras/layers/experimental/preprocessing) for documentation.) As in the first lab, you want to divide the input by 255. "
   ]
  },
  {
   "cell_type": "code",
   "execution_count": 13,
   "metadata": {},
   "outputs": [],
   "source": [
    "# \"preprocessing\" will be replaced by \"layers\" in later versions of TF\n",
    "norm = models.Sequential([\n",
    "    layers.Rescaling(1./255) #ensure float division\n",
    "])"
   ]
  },
  {
   "cell_type": "markdown",
   "metadata": {},
   "source": [
    "Next, use the  `map()` method and a `lambda` function to apply the normalization model to the training, validation and test Datasets. In the `lambda` function there will be two arguments, the network input and the target output. Only the network input is passed through the normalization model."
   ]
  },
  {
   "cell_type": "code",
   "execution_count": 14,
   "metadata": {},
   "outputs": [],
   "source": [
    "dstrain = dstrain.map(lambda x, y: (norm(x), y))\n",
    "dsval = dsval.map(lambda x, y: (norm(x), y))\n",
    "dstest = dstest.map(lambda x, y: (norm(x), y))"
   ]
  },
  {
   "cell_type": "markdown",
   "metadata": {},
   "source": [
    "Group the data in the training, validation and testing Datasets into minibatches of size 100, using the `batch()` method."
   ]
  },
  {
   "cell_type": "code",
   "execution_count": 15,
   "metadata": {},
   "outputs": [],
   "source": [
    "dstrain  = dstrain.batch(100)\n",
    "dsval = dsval.batch(100)\n",
    "dstest = dstest.batch(100)"
   ]
  },
  {
   "cell_type": "markdown",
   "metadata": {},
   "source": [
    "# Create and Train the Network\n",
    "\n",
    "Let's begin by using the make_network method from the first lab."
   ]
  },
  {
   "cell_type": "code",
   "execution_count": 16,
   "metadata": {},
   "outputs": [],
   "source": [
    "def make_model(neurons):\n",
    "    model = models.Sequential()\n",
    "    model.add(layers.Flatten(input_shape=(28, 28)))\n",
    "    for n in neurons:\n",
    "        model.add(layers.Dense(n, activation='relu'))\n",
    "    model.add(layers.Dense(10, activation='softmax'))\n",
    "    return model"
   ]
  },
  {
   "cell_type": "markdown",
   "metadata": {},
   "source": [
    "Make a network with five hidden layers of 10 neurons, compile it with the `adam` optimizer, `SparseCategoricalCrossentropy()` loss and `accuracy` metric. Then train it with the default learning rate (no callbacks) for 100 epochs. (We are using `SparseCategoricalCrossentropy()` so we do not need to convert the targets to  one-hot codes.) Add the argument `validation_data=dsval` to the `model.fit()` command, so that validation loss and accuracy will be computed."
   ]
  },
  {
   "cell_type": "code",
   "execution_count": 17,
   "metadata": {},
   "outputs": [
    {
     "name": "stdout",
     "output_type": "stream",
     "text": [
      "Epoch 1/100\n"
     ]
    },
    {
     "name": "stderr",
     "output_type": "stream",
     "text": [
      "/home/casager/DeepLearning/NNDesignDeepLearning/.venv/lib/python3.12/site-packages/keras/src/layers/reshaping/flatten.py:37: UserWarning: Do not pass an `input_shape`/`input_dim` argument to a layer. When using Sequential models, prefer using an `Input(shape)` object as the first layer in the model instead.\n",
      "  super().__init__(**kwargs)\n"
     ]
    },
    {
     "name": "stdout",
     "output_type": "stream",
     "text": [
      "510/510 - 2s - 4ms/step - accuracy: 0.4801 - loss: 1.4953 - val_accuracy: 0.6594 - val_loss: 1.1126\n",
      "Epoch 2/100\n",
      "510/510 - 1s - 1ms/step - accuracy: 0.6976 - loss: 0.9797 - val_accuracy: 0.7139 - val_loss: 0.9230\n",
      "Epoch 3/100\n",
      "510/510 - 1s - 1ms/step - accuracy: 0.7371 - loss: 0.8458 - val_accuracy: 0.7450 - val_loss: 0.8362\n",
      "Epoch 4/100\n",
      "510/510 - 1s - 1ms/step - accuracy: 0.7691 - loss: 0.7471 - val_accuracy: 0.7707 - val_loss: 0.7592\n",
      "Epoch 5/100\n",
      "510/510 - 1s - 1ms/step - accuracy: 0.7952 - loss: 0.6712 - val_accuracy: 0.7873 - val_loss: 0.7022\n",
      "Epoch 6/100\n",
      "510/510 - 1s - 1ms/step - accuracy: 0.8093 - loss: 0.6236 - val_accuracy: 0.8016 - val_loss: 0.6659\n",
      "Epoch 7/100\n",
      "510/510 - 1s - 1ms/step - accuracy: 0.8179 - loss: 0.5943 - val_accuracy: 0.8081 - val_loss: 0.6451\n",
      "Epoch 8/100\n",
      "510/510 - 1s - 1ms/step - accuracy: 0.8248 - loss: 0.5708 - val_accuracy: 0.8161 - val_loss: 0.6272\n",
      "Epoch 9/100\n",
      "510/510 - 1s - 1ms/step - accuracy: 0.8301 - loss: 0.5533 - val_accuracy: 0.8199 - val_loss: 0.6161\n",
      "Epoch 10/100\n",
      "510/510 - 1s - 1ms/step - accuracy: 0.8338 - loss: 0.5396 - val_accuracy: 0.8236 - val_loss: 0.6081\n",
      "Epoch 11/100\n",
      "510/510 - 1s - 1ms/step - accuracy: 0.8375 - loss: 0.5288 - val_accuracy: 0.8252 - val_loss: 0.6015\n",
      "Epoch 12/100\n",
      "510/510 - 1s - 1ms/step - accuracy: 0.8399 - loss: 0.5201 - val_accuracy: 0.8258 - val_loss: 0.5961\n",
      "Epoch 13/100\n",
      "510/510 - 1s - 1ms/step - accuracy: 0.8423 - loss: 0.5132 - val_accuracy: 0.8269 - val_loss: 0.5922\n",
      "Epoch 14/100\n",
      "510/510 - 1s - 1ms/step - accuracy: 0.8443 - loss: 0.5069 - val_accuracy: 0.8289 - val_loss: 0.5885\n",
      "Epoch 15/100\n",
      "510/510 - 1s - 1ms/step - accuracy: 0.8458 - loss: 0.5006 - val_accuracy: 0.8272 - val_loss: 0.5865\n",
      "Epoch 16/100\n",
      "510/510 - 1s - 1ms/step - accuracy: 0.8473 - loss: 0.4947 - val_accuracy: 0.8281 - val_loss: 0.5840\n",
      "Epoch 17/100\n",
      "510/510 - 1s - 1ms/step - accuracy: 0.8493 - loss: 0.4897 - val_accuracy: 0.8283 - val_loss: 0.5823\n",
      "Epoch 18/100\n",
      "510/510 - 1s - 1ms/step - accuracy: 0.8507 - loss: 0.4847 - val_accuracy: 0.8282 - val_loss: 0.5812\n",
      "Epoch 19/100\n",
      "510/510 - 1s - 1ms/step - accuracy: 0.8522 - loss: 0.4804 - val_accuracy: 0.8289 - val_loss: 0.5812\n",
      "Epoch 20/100\n",
      "510/510 - 1s - 1ms/step - accuracy: 0.8536 - loss: 0.4765 - val_accuracy: 0.8302 - val_loss: 0.5805\n",
      "Epoch 21/100\n",
      "510/510 - 1s - 1ms/step - accuracy: 0.8554 - loss: 0.4734 - val_accuracy: 0.8316 - val_loss: 0.5788\n",
      "Epoch 22/100\n",
      "510/510 - 1s - 1ms/step - accuracy: 0.8566 - loss: 0.4698 - val_accuracy: 0.8316 - val_loss: 0.5791\n",
      "Epoch 23/100\n",
      "510/510 - 1s - 1ms/step - accuracy: 0.8571 - loss: 0.4668 - val_accuracy: 0.8306 - val_loss: 0.5784\n",
      "Epoch 24/100\n",
      "510/510 - 1s - 1ms/step - accuracy: 0.8581 - loss: 0.4640 - val_accuracy: 0.8321 - val_loss: 0.5780\n",
      "Epoch 25/100\n",
      "510/510 - 1s - 1ms/step - accuracy: 0.8585 - loss: 0.4611 - val_accuracy: 0.8320 - val_loss: 0.5782\n",
      "Epoch 26/100\n",
      "510/510 - 1s - 1ms/step - accuracy: 0.8598 - loss: 0.4585 - val_accuracy: 0.8334 - val_loss: 0.5785\n",
      "Epoch 27/100\n",
      "510/510 - 1s - 1ms/step - accuracy: 0.8605 - loss: 0.4564 - val_accuracy: 0.8328 - val_loss: 0.5800\n",
      "Epoch 28/100\n",
      "510/510 - 1s - 1ms/step - accuracy: 0.8610 - loss: 0.4542 - val_accuracy: 0.8330 - val_loss: 0.5803\n",
      "Epoch 29/100\n",
      "510/510 - 1s - 1ms/step - accuracy: 0.8610 - loss: 0.4519 - val_accuracy: 0.8339 - val_loss: 0.5800\n",
      "Epoch 30/100\n",
      "510/510 - 1s - 1ms/step - accuracy: 0.8621 - loss: 0.4498 - val_accuracy: 0.8332 - val_loss: 0.5807\n",
      "Epoch 31/100\n",
      "510/510 - 1s - 1ms/step - accuracy: 0.8625 - loss: 0.4477 - val_accuracy: 0.8338 - val_loss: 0.5796\n",
      "Epoch 32/100\n",
      "510/510 - 1s - 1ms/step - accuracy: 0.8631 - loss: 0.4459 - val_accuracy: 0.8342 - val_loss: 0.5801\n",
      "Epoch 33/100\n",
      "510/510 - 1s - 1ms/step - accuracy: 0.8635 - loss: 0.4436 - val_accuracy: 0.8352 - val_loss: 0.5808\n",
      "Epoch 34/100\n",
      "510/510 - 1s - 1ms/step - accuracy: 0.8641 - loss: 0.4421 - val_accuracy: 0.8357 - val_loss: 0.5822\n",
      "Epoch 35/100\n",
      "510/510 - 1s - 1ms/step - accuracy: 0.8650 - loss: 0.4404 - val_accuracy: 0.8344 - val_loss: 0.5832\n",
      "Epoch 36/100\n",
      "510/510 - 1s - 1ms/step - accuracy: 0.8653 - loss: 0.4389 - val_accuracy: 0.8354 - val_loss: 0.5830\n",
      "Epoch 37/100\n",
      "510/510 - 1s - 1ms/step - accuracy: 0.8657 - loss: 0.4370 - val_accuracy: 0.8341 - val_loss: 0.5843\n",
      "Epoch 38/100\n",
      "510/510 - 1s - 1ms/step - accuracy: 0.8662 - loss: 0.4355 - val_accuracy: 0.8329 - val_loss: 0.5858\n",
      "Epoch 39/100\n",
      "510/510 - 1s - 1ms/step - accuracy: 0.8661 - loss: 0.4344 - val_accuracy: 0.8336 - val_loss: 0.5866\n",
      "Epoch 40/100\n",
      "510/510 - 1s - 1ms/step - accuracy: 0.8669 - loss: 0.4328 - val_accuracy: 0.8339 - val_loss: 0.5866\n",
      "Epoch 41/100\n",
      "510/510 - 1s - 1ms/step - accuracy: 0.8671 - loss: 0.4317 - val_accuracy: 0.8334 - val_loss: 0.5892\n",
      "Epoch 42/100\n",
      "510/510 - 1s - 1ms/step - accuracy: 0.8671 - loss: 0.4303 - val_accuracy: 0.8319 - val_loss: 0.5888\n",
      "Epoch 43/100\n",
      "510/510 - 1s - 1ms/step - accuracy: 0.8676 - loss: 0.4286 - val_accuracy: 0.8320 - val_loss: 0.5922\n",
      "Epoch 44/100\n",
      "510/510 - 1s - 1ms/step - accuracy: 0.8680 - loss: 0.4276 - val_accuracy: 0.8310 - val_loss: 0.5936\n",
      "Epoch 45/100\n",
      "510/510 - 1s - 1ms/step - accuracy: 0.8685 - loss: 0.4261 - val_accuracy: 0.8304 - val_loss: 0.5920\n",
      "Epoch 46/100\n",
      "510/510 - 1s - 1ms/step - accuracy: 0.8686 - loss: 0.4243 - val_accuracy: 0.8308 - val_loss: 0.5933\n",
      "Epoch 47/100\n",
      "510/510 - 1s - 1ms/step - accuracy: 0.8695 - loss: 0.4239 - val_accuracy: 0.8316 - val_loss: 0.5961\n",
      "Epoch 48/100\n",
      "510/510 - 1s - 1ms/step - accuracy: 0.8701 - loss: 0.4221 - val_accuracy: 0.8312 - val_loss: 0.5972\n",
      "Epoch 49/100\n",
      "510/510 - 1s - 1ms/step - accuracy: 0.8699 - loss: 0.4216 - val_accuracy: 0.8306 - val_loss: 0.5975\n",
      "Epoch 50/100\n",
      "510/510 - 1s - 1ms/step - accuracy: 0.8710 - loss: 0.4198 - val_accuracy: 0.8312 - val_loss: 0.5975\n",
      "Epoch 51/100\n",
      "510/510 - 1s - 1ms/step - accuracy: 0.8709 - loss: 0.4190 - val_accuracy: 0.8317 - val_loss: 0.5986\n",
      "Epoch 52/100\n",
      "510/510 - 1s - 1ms/step - accuracy: 0.8713 - loss: 0.4180 - val_accuracy: 0.8293 - val_loss: 0.5987\n",
      "Epoch 53/100\n",
      "510/510 - 1s - 1ms/step - accuracy: 0.8715 - loss: 0.4170 - val_accuracy: 0.8312 - val_loss: 0.6001\n",
      "Epoch 54/100\n",
      "510/510 - 1s - 1ms/step - accuracy: 0.8722 - loss: 0.4161 - val_accuracy: 0.8306 - val_loss: 0.6006\n",
      "Epoch 55/100\n",
      "510/510 - 1s - 1ms/step - accuracy: 0.8727 - loss: 0.4150 - val_accuracy: 0.8310 - val_loss: 0.6003\n",
      "Epoch 56/100\n",
      "510/510 - 1s - 1ms/step - accuracy: 0.8731 - loss: 0.4145 - val_accuracy: 0.8303 - val_loss: 0.5998\n",
      "Epoch 57/100\n",
      "510/510 - 1s - 1ms/step - accuracy: 0.8727 - loss: 0.4132 - val_accuracy: 0.8300 - val_loss: 0.6020\n",
      "Epoch 58/100\n",
      "510/510 - 1s - 1ms/step - accuracy: 0.8735 - loss: 0.4119 - val_accuracy: 0.8306 - val_loss: 0.6009\n",
      "Epoch 59/100\n",
      "510/510 - 1s - 1ms/step - accuracy: 0.8737 - loss: 0.4115 - val_accuracy: 0.8289 - val_loss: 0.6020\n",
      "Epoch 60/100\n",
      "510/510 - 1s - 1ms/step - accuracy: 0.8736 - loss: 0.4109 - val_accuracy: 0.8299 - val_loss: 0.6046\n",
      "Epoch 61/100\n",
      "510/510 - 1s - 1ms/step - accuracy: 0.8742 - loss: 0.4092 - val_accuracy: 0.8283 - val_loss: 0.6060\n",
      "Epoch 62/100\n",
      "510/510 - 1s - 1ms/step - accuracy: 0.8737 - loss: 0.4083 - val_accuracy: 0.8296 - val_loss: 0.6052\n",
      "Epoch 63/100\n",
      "510/510 - 1s - 1ms/step - accuracy: 0.8746 - loss: 0.4074 - val_accuracy: 0.8281 - val_loss: 0.6060\n",
      "Epoch 64/100\n",
      "510/510 - 1s - 1ms/step - accuracy: 0.8739 - loss: 0.4081 - val_accuracy: 0.8299 - val_loss: 0.6045\n",
      "Epoch 65/100\n",
      "510/510 - 1s - 1ms/step - accuracy: 0.8748 - loss: 0.4066 - val_accuracy: 0.8272 - val_loss: 0.6080\n",
      "Epoch 66/100\n",
      "510/510 - 1s - 1ms/step - accuracy: 0.8750 - loss: 0.4056 - val_accuracy: 0.8293 - val_loss: 0.6044\n",
      "Epoch 67/100\n",
      "510/510 - 1s - 1ms/step - accuracy: 0.8754 - loss: 0.4044 - val_accuracy: 0.8280 - val_loss: 0.6084\n",
      "Epoch 68/100\n",
      "510/510 - 1s - 1ms/step - accuracy: 0.8755 - loss: 0.4042 - val_accuracy: 0.8296 - val_loss: 0.6070\n",
      "Epoch 69/100\n",
      "510/510 - 1s - 1ms/step - accuracy: 0.8758 - loss: 0.4030 - val_accuracy: 0.8283 - val_loss: 0.6104\n",
      "Epoch 70/100\n",
      "510/510 - 1s - 1ms/step - accuracy: 0.8762 - loss: 0.4019 - val_accuracy: 0.8271 - val_loss: 0.6112\n",
      "Epoch 71/100\n",
      "510/510 - 1s - 1ms/step - accuracy: 0.8758 - loss: 0.4021 - val_accuracy: 0.8286 - val_loss: 0.6119\n",
      "Epoch 72/100\n",
      "510/510 - 1s - 1ms/step - accuracy: 0.8765 - loss: 0.4006 - val_accuracy: 0.8290 - val_loss: 0.6119\n",
      "Epoch 73/100\n",
      "510/510 - 1s - 1ms/step - accuracy: 0.8768 - loss: 0.4019 - val_accuracy: 0.8272 - val_loss: 0.6137\n",
      "Epoch 74/100\n",
      "510/510 - 1s - 1ms/step - accuracy: 0.8762 - loss: 0.4009 - val_accuracy: 0.8290 - val_loss: 0.6110\n",
      "Epoch 75/100\n",
      "510/510 - 1s - 1ms/step - accuracy: 0.8768 - loss: 0.3992 - val_accuracy: 0.8271 - val_loss: 0.6130\n",
      "Epoch 76/100\n",
      "510/510 - 1s - 1ms/step - accuracy: 0.8765 - loss: 0.3996 - val_accuracy: 0.8279 - val_loss: 0.6137\n",
      "Epoch 77/100\n",
      "510/510 - 1s - 1ms/step - accuracy: 0.8771 - loss: 0.3983 - val_accuracy: 0.8269 - val_loss: 0.6100\n",
      "Epoch 78/100\n",
      "510/510 - 1s - 1ms/step - accuracy: 0.8775 - loss: 0.3975 - val_accuracy: 0.8261 - val_loss: 0.6143\n",
      "Epoch 79/100\n",
      "510/510 - 1s - 1ms/step - accuracy: 0.8771 - loss: 0.3976 - val_accuracy: 0.8262 - val_loss: 0.6127\n",
      "Epoch 80/100\n",
      "510/510 - 1s - 1ms/step - accuracy: 0.8775 - loss: 0.3969 - val_accuracy: 0.8273 - val_loss: 0.6118\n",
      "Epoch 81/100\n",
      "510/510 - 1s - 1ms/step - accuracy: 0.8775 - loss: 0.3959 - val_accuracy: 0.8259 - val_loss: 0.6161\n",
      "Epoch 82/100\n",
      "510/510 - 1s - 1ms/step - accuracy: 0.8781 - loss: 0.3952 - val_accuracy: 0.8258 - val_loss: 0.6194\n",
      "Epoch 83/100\n",
      "510/510 - 1s - 1ms/step - accuracy: 0.8785 - loss: 0.3948 - val_accuracy: 0.8247 - val_loss: 0.6157\n",
      "Epoch 84/100\n",
      "510/510 - 1s - 1ms/step - accuracy: 0.8783 - loss: 0.3936 - val_accuracy: 0.8258 - val_loss: 0.6168\n",
      "Epoch 85/100\n",
      "510/510 - 1s - 1ms/step - accuracy: 0.8785 - loss: 0.3927 - val_accuracy: 0.8266 - val_loss: 0.6205\n",
      "Epoch 86/100\n",
      "510/510 - 1s - 1ms/step - accuracy: 0.8785 - loss: 0.3926 - val_accuracy: 0.8266 - val_loss: 0.6215\n",
      "Epoch 87/100\n",
      "510/510 - 1s - 1ms/step - accuracy: 0.8786 - loss: 0.3924 - val_accuracy: 0.8256 - val_loss: 0.6242\n",
      "Epoch 88/100\n",
      "510/510 - 1s - 1ms/step - accuracy: 0.8791 - loss: 0.3919 - val_accuracy: 0.8250 - val_loss: 0.6238\n",
      "Epoch 89/100\n",
      "510/510 - 1s - 1ms/step - accuracy: 0.8796 - loss: 0.3915 - val_accuracy: 0.8242 - val_loss: 0.6247\n",
      "Epoch 90/100\n",
      "510/510 - 1s - 1ms/step - accuracy: 0.8795 - loss: 0.3919 - val_accuracy: 0.8249 - val_loss: 0.6254\n",
      "Epoch 91/100\n",
      "510/510 - 1s - 1ms/step - accuracy: 0.8799 - loss: 0.3902 - val_accuracy: 0.8262 - val_loss: 0.6254\n",
      "Epoch 92/100\n",
      "510/510 - 1s - 1ms/step - accuracy: 0.8802 - loss: 0.3898 - val_accuracy: 0.8249 - val_loss: 0.6285\n",
      "Epoch 93/100\n",
      "510/510 - 1s - 1ms/step - accuracy: 0.8806 - loss: 0.3890 - val_accuracy: 0.8268 - val_loss: 0.6263\n",
      "Epoch 94/100\n",
      "510/510 - 1s - 1ms/step - accuracy: 0.8801 - loss: 0.3894 - val_accuracy: 0.8260 - val_loss: 0.6263\n",
      "Epoch 95/100\n",
      "510/510 - 1s - 1ms/step - accuracy: 0.8810 - loss: 0.3876 - val_accuracy: 0.8258 - val_loss: 0.6289\n",
      "Epoch 96/100\n",
      "510/510 - 1s - 1ms/step - accuracy: 0.8814 - loss: 0.3862 - val_accuracy: 0.8267 - val_loss: 0.6265\n",
      "Epoch 97/100\n",
      "510/510 - 1s - 1ms/step - accuracy: 0.8816 - loss: 0.3863 - val_accuracy: 0.8259 - val_loss: 0.6293\n",
      "Epoch 98/100\n",
      "510/510 - 1s - 1ms/step - accuracy: 0.8816 - loss: 0.3859 - val_accuracy: 0.8251 - val_loss: 0.6313\n",
      "Epoch 99/100\n",
      "510/510 - 1s - 1ms/step - accuracy: 0.8816 - loss: 0.3855 - val_accuracy: 0.8263 - val_loss: 0.6277\n",
      "Epoch 100/100\n",
      "510/510 - 1s - 1ms/step - accuracy: 0.8811 - loss: 0.3868 - val_accuracy: 0.8268 - val_loss: 0.6283\n"
     ]
    }
   ],
   "source": [
    "model = make_model([10, 10, 10, 10, 10])\n",
    "model.compile(\n",
    "    optimizer = 'adam',\n",
    "    loss = SparseCategoricalCrossentropy(),\n",
    "    metrics = ['accuracy']    \n",
    ")\n",
    "history = model.fit(\n",
    "    dstrain,\n",
    "    epochs=100,\n",
    "    verbose=2,\n",
    "    validation_data=dsval\n",
    ")"
   ]
  },
  {
   "cell_type": "markdown",
   "metadata": {},
   "source": [
    "Plot the training and validation loss and accuracy, as in the first lab. The key for validation loss is `val_loss`, and the key for validation accuracy is `val_accuracy`."
   ]
  },
  {
   "cell_type": "code",
   "execution_count": 21,
   "metadata": {},
   "outputs": [
    {
     "data": {
      "image/png": "[encoded data removed]",
      "text/plain": [
       "<Figure size 640x480 with 1 Axes>"
      ]
     },
     "metadata": {},
     "output_type": "display_data"
    }
   ],
   "source": [
    "history_dict = history.history\n",
    "train_acc = history_dict['accuracy']\n",
    "val_acc = history_dict['val_accuracy']\n",
    "epochs = history.epoch\n",
    "plt.plot(epochs, train_acc, 'b', label='Train_acc')\n",
    "plt.plot(epochs, val_acc, 'r', label='val_acc')\n",
    "plt.legend()\n",
    "plt.title('Training and Validation Accuracy')\n",
    "plt.xlabel('Epochs')\n",
    "plt.show()"
   ]
  },
  {
   "cell_type": "markdown",
   "metadata": {},
   "source": [
    "Do you see any indication of overfitting? What characteristic of the plots would indicate overfitting?\n",
    "- The training set accuracy keeps increasing as validation accuracy keeps decreasing as epochs increase "
   ]
  },
  {
   "cell_type": "markdown",
   "metadata": {},
   "source": [
    "Evaluate the trained model on the test set."
   ]
  },
  {
   "cell_type": "code",
   "execution_count": 22,
   "metadata": {},
   "outputs": [
    {
     "name": "stdout",
     "output_type": "stream",
     "text": [
      "Test loss: 1.1430467367172241\n",
      "Test accuracy: 0.7027999758720398\n"
     ]
    }
   ],
   "source": [
    "score = model.evaluate(dstest, verbose=0)\n",
    "print(\"Test loss:\", score[0])\n",
    "print(\"Test accuracy:\", score[1])"
   ]
  },
  {
   "cell_type": "markdown",
   "metadata": {},
   "source": [
    "Can you improve the accuracy? Experiment with different network architectures, and see how high you can get the accuracy. Keep checking training and validation accuracy to be sure that you are not overfitting."
   ]
  },
  {
   "cell_type": "markdown",
   "metadata": {},
   "source": [
    "## Augmentation\n",
    "\n",
    "One way to improve accuracy, while preventing overfitting, is to augment the dataset. This is a way of increasing the size of the dataset by adding images that are realistic modifications of the original images. There are several different ways to do this. You are going to perform the following steps.\n",
    "1. Create an augmentation model using the `Sequential` class and methods from `preprocessing`. Use the following methods:\n",
    "    1. `RandomZoom` (height_factor=(-0.05, -0.15), width_factor=(-0.05, -0.15))\n",
    "    1. `RandomTranslation` (height_factor=0.02, width_factor=0.02)\n",
    "    1. `RandomRotation(0.1)` (rotate randomly by 10% of 360 degrees)\n",
    "1. Apply the augmentation model by using the `map()` method and a `lambda` function on the training Dataset.\n",
    "1. Create a new model with your chosen architecture.\n",
    "1. Pass the new augmented training Dataset to the `fit` method for training the network."
   ]
  },
  {
   "cell_type": "markdown",
   "metadata": {},
   "source": [
    "First, create the augmentation model, `trainAug`."
   ]
  },
  {
   "cell_type": "code",
   "execution_count": 24,
   "metadata": {},
   "outputs": [],
   "source": [
    "# \"preprocessing\" will be replaced by \"layers\" in later versions of TF\n",
    "trainAug = models.Sequential([\n",
    "   layers.RandomZoom(height_factor=(-0.05, -0.15), width_factor=(-0.05, -0.15)),\n",
    "   layers.RandomTranslation(height_factor=0.02, width_factor=0.02),\n",
    "   layers.RandomRotation(0.1)\n",
    "   #RandAugment?\n",
    "])"
   ]
  },
  {
   "cell_type": "markdown",
   "metadata": {},
   "source": [
    "You can test this augmentation model by trying it on a sample images with the following code. You will see 9 images with different random variations."
   ]
  },
  {
   "cell_type": "code",
   "execution_count": 25,
   "metadata": {},
   "outputs": [
    {
     "data": {
      "image/png": "[encoded data removed]",
      "text/plain": [
       "<Figure size 1000x1000 with 9 Axes>"
      ]
     },
     "metadata": {},
     "output_type": "display_data"
    }
   ],
   "source": [
    "image, label = next(iter(ds[0]))\n",
    "# Add the image to a batch\n",
    "image = tf.expand_dims(image, 0)\n",
    "plt.figure(figsize=(10, 10))\n",
    "for i in range(9):\n",
    "  augmented_image = trainAug(image)\n",
    "  ax = plt.subplot(3, 3, i + 1)\n",
    "  plt.imshow(augmented_image[0])\n",
    "  plt.axis(\"off\")"
   ]
  },
  {
   "cell_type": "markdown",
   "metadata": {},
   "source": [
    "Next, use the  `map()` method and a `lambda` function to apply the augmentation model to the training Dataset. In the `lambda` function there will be two arguments, the network input and the target output. Only the network input is passed through the augmentation model."
   ]
  },
  {
   "cell_type": "code",
   "execution_count": 26,
   "metadata": {},
   "outputs": [],
   "source": [
    "aug_ds = dstrain.map(lambda x, y: (trainAug(x), y))"
   ]
  },
  {
   "cell_type": "markdown",
   "metadata": {},
   "source": [
    "Create a model with make_model(), compile it and train it with the augmented Dataset."
   ]
  },
  {
   "cell_type": "code",
   "execution_count": 27,
   "metadata": {},
   "outputs": [
    {
     "name": "stdout",
     "output_type": "stream",
     "text": [
      "Epoch 1/100\n"
     ]
    },
    {
     "name": "stderr",
     "output_type": "stream",
     "text": [
      "/home/casager/DeepLearning/NNDesignDeepLearning/.venv/lib/python3.12/site-packages/keras/src/layers/reshaping/flatten.py:37: UserWarning: Do not pass an `input_shape`/`input_dim` argument to a layer. When using Sequential models, prefer using an `Input(shape)` object as the first layer in the model instead.\n",
      "  super().__init__(**kwargs)\n"
     ]
    },
    {
     "name": "stdout",
     "output_type": "stream",
     "text": [
      "510/510 - 4s - 7ms/step - accuracy: 0.4222 - loss: 1.6224 - val_accuracy: 0.5652 - val_loss: 1.2272\n",
      "Epoch 2/100\n",
      "510/510 - 3s - 5ms/step - accuracy: 0.5936 - loss: 1.1908 - val_accuracy: 0.6363 - val_loss: 1.0808\n",
      "Epoch 3/100\n",
      "510/510 - 3s - 5ms/step - accuracy: 0.6513 - loss: 1.0632 - val_accuracy: 0.6834 - val_loss: 0.9995\n",
      "Epoch 4/100\n",
      "510/510 - 3s - 5ms/step - accuracy: 0.6794 - loss: 0.9939 - val_accuracy: 0.7018 - val_loss: 0.9553\n",
      "Epoch 5/100\n",
      "510/510 - 3s - 5ms/step - accuracy: 0.6947 - loss: 0.9555 - val_accuracy: 0.7157 - val_loss: 0.9102\n",
      "Epoch 6/100\n",
      "510/510 - 3s - 5ms/step - accuracy: 0.7026 - loss: 0.9314 - val_accuracy: 0.7139 - val_loss: 0.8977\n",
      "Epoch 7/100\n",
      "510/510 - 3s - 5ms/step - accuracy: 0.7060 - loss: 0.9069 - val_accuracy: 0.7219 - val_loss: 0.8822\n",
      "Epoch 8/100\n",
      "510/510 - 3s - 5ms/step - accuracy: 0.7133 - loss: 0.8910 - val_accuracy: 0.7318 - val_loss: 0.8630\n",
      "Epoch 9/100\n",
      "510/510 - 3s - 5ms/step - accuracy: 0.7171 - loss: 0.8798 - val_accuracy: 0.7322 - val_loss: 0.8592\n",
      "Epoch 10/100\n",
      "510/510 - 3s - 5ms/step - accuracy: 0.7197 - loss: 0.8742 - val_accuracy: 0.7256 - val_loss: 0.8788\n",
      "Epoch 11/100\n",
      "510/510 - 3s - 5ms/step - accuracy: 0.7253 - loss: 0.8591 - val_accuracy: 0.7352 - val_loss: 0.8535\n",
      "Epoch 12/100\n",
      "510/510 - 3s - 5ms/step - accuracy: 0.7252 - loss: 0.8566 - val_accuracy: 0.7298 - val_loss: 0.8577\n",
      "Epoch 13/100\n",
      "510/510 - 3s - 5ms/step - accuracy: 0.7282 - loss: 0.8484 - val_accuracy: 0.7383 - val_loss: 0.8472\n",
      "Epoch 14/100\n",
      "510/510 - 3s - 5ms/step - accuracy: 0.7314 - loss: 0.8456 - val_accuracy: 0.7346 - val_loss: 0.8481\n",
      "Epoch 15/100\n",
      "510/510 - 3s - 5ms/step - accuracy: 0.7313 - loss: 0.8492 - val_accuracy: 0.7377 - val_loss: 0.8366\n",
      "Epoch 16/100\n",
      "510/510 - 3s - 5ms/step - accuracy: 0.7324 - loss: 0.8378 - val_accuracy: 0.7373 - val_loss: 0.8402\n",
      "Epoch 17/100\n",
      "510/510 - 3s - 5ms/step - accuracy: 0.7352 - loss: 0.8342 - val_accuracy: 0.7381 - val_loss: 0.8443\n",
      "Epoch 18/100\n",
      "510/510 - 3s - 5ms/step - accuracy: 0.7342 - loss: 0.8345 - val_accuracy: 0.7393 - val_loss: 0.8355\n",
      "Epoch 19/100\n",
      "510/510 - 3s - 5ms/step - accuracy: 0.7361 - loss: 0.8269 - val_accuracy: 0.7396 - val_loss: 0.8424\n",
      "Epoch 20/100\n",
      "510/510 - 3s - 5ms/step - accuracy: 0.7376 - loss: 0.8235 - val_accuracy: 0.7350 - val_loss: 0.8463\n",
      "Epoch 21/100\n",
      "510/510 - 3s - 5ms/step - accuracy: 0.7355 - loss: 0.8278 - val_accuracy: 0.7333 - val_loss: 0.8472\n",
      "Epoch 22/100\n",
      "510/510 - 3s - 5ms/step - accuracy: 0.7395 - loss: 0.8201 - val_accuracy: 0.7346 - val_loss: 0.8488\n",
      "Epoch 23/100\n",
      "510/510 - 3s - 5ms/step - accuracy: 0.7406 - loss: 0.8173 - val_accuracy: 0.7374 - val_loss: 0.8486\n",
      "Epoch 24/100\n",
      "510/510 - 3s - 5ms/step - accuracy: 0.7404 - loss: 0.8158 - val_accuracy: 0.7326 - val_loss: 0.8505\n",
      "Epoch 25/100\n",
      "510/510 - 3s - 5ms/step - accuracy: 0.7420 - loss: 0.8116 - val_accuracy: 0.7356 - val_loss: 0.8447\n",
      "Epoch 26/100\n",
      "510/510 - 3s - 5ms/step - accuracy: 0.7419 - loss: 0.8123 - val_accuracy: 0.7390 - val_loss: 0.8333\n",
      "Epoch 27/100\n",
      "510/510 - 3s - 5ms/step - accuracy: 0.7444 - loss: 0.8057 - val_accuracy: 0.7367 - val_loss: 0.8432\n",
      "Epoch 28/100\n",
      "510/510 - 3s - 5ms/step - accuracy: 0.7437 - loss: 0.8061 - val_accuracy: 0.7402 - val_loss: 0.8229\n",
      "Epoch 29/100\n",
      "510/510 - 3s - 5ms/step - accuracy: 0.7441 - loss: 0.8046 - val_accuracy: 0.7294 - val_loss: 0.8607\n",
      "Epoch 30/100\n",
      "510/510 - 3s - 5ms/step - accuracy: 0.7424 - loss: 0.8052 - val_accuracy: 0.7338 - val_loss: 0.8424\n",
      "Epoch 31/100\n",
      "510/510 - 3s - 5ms/step - accuracy: 0.7451 - loss: 0.8053 - val_accuracy: 0.7313 - val_loss: 0.8540\n",
      "Epoch 32/100\n",
      "510/510 - 3s - 5ms/step - accuracy: 0.7433 - loss: 0.8035 - val_accuracy: 0.7340 - val_loss: 0.8516\n",
      "Epoch 33/100\n",
      "510/510 - 3s - 5ms/step - accuracy: 0.7439 - loss: 0.8054 - val_accuracy: 0.7356 - val_loss: 0.8337\n",
      "Epoch 34/100\n",
      "510/510 - 3s - 5ms/step - accuracy: 0.7476 - loss: 0.7948 - val_accuracy: 0.7330 - val_loss: 0.8457\n",
      "Epoch 35/100\n",
      "510/510 - 3s - 5ms/step - accuracy: 0.7464 - loss: 0.7964 - val_accuracy: 0.7310 - val_loss: 0.8410\n",
      "Epoch 36/100\n",
      "510/510 - 3s - 5ms/step - accuracy: 0.7467 - loss: 0.7960 - val_accuracy: 0.7309 - val_loss: 0.8488\n",
      "Epoch 37/100\n",
      "510/510 - 3s - 5ms/step - accuracy: 0.7470 - loss: 0.7932 - val_accuracy: 0.7284 - val_loss: 0.8616\n",
      "Epoch 38/100\n",
      "510/510 - 3s - 5ms/step - accuracy: 0.7465 - loss: 0.7931 - val_accuracy: 0.7391 - val_loss: 0.8269\n",
      "Epoch 39/100\n",
      "510/510 - 3s - 5ms/step - accuracy: 0.7495 - loss: 0.7875 - val_accuracy: 0.7259 - val_loss: 0.8644\n",
      "Epoch 40/100\n",
      "510/510 - 3s - 5ms/step - accuracy: 0.7467 - loss: 0.7947 - val_accuracy: 0.7242 - val_loss: 0.8618\n",
      "Epoch 41/100\n",
      "510/510 - 3s - 5ms/step - accuracy: 0.7496 - loss: 0.7881 - val_accuracy: 0.7318 - val_loss: 0.8527\n",
      "Epoch 42/100\n",
      "510/510 - 3s - 5ms/step - accuracy: 0.7488 - loss: 0.7896 - val_accuracy: 0.7372 - val_loss: 0.8310\n",
      "Epoch 43/100\n",
      "510/510 - 3s - 5ms/step - accuracy: 0.7487 - loss: 0.7870 - val_accuracy: 0.7299 - val_loss: 0.8607\n",
      "Epoch 44/100\n",
      "510/510 - 3s - 5ms/step - accuracy: 0.7499 - loss: 0.7855 - val_accuracy: 0.7387 - val_loss: 0.8268\n",
      "Epoch 45/100\n",
      "510/510 - 3s - 5ms/step - accuracy: 0.7501 - loss: 0.7836 - val_accuracy: 0.7260 - val_loss: 0.8552\n",
      "Epoch 46/100\n",
      "510/510 - 3s - 5ms/step - accuracy: 0.7493 - loss: 0.7838 - val_accuracy: 0.7364 - val_loss: 0.8342\n",
      "Epoch 47/100\n",
      "510/510 - 3s - 5ms/step - accuracy: 0.7491 - loss: 0.7854 - val_accuracy: 0.7387 - val_loss: 0.8344\n",
      "Epoch 48/100\n",
      "510/510 - 3s - 5ms/step - accuracy: 0.7518 - loss: 0.7773 - val_accuracy: 0.7300 - val_loss: 0.8535\n",
      "Epoch 49/100\n",
      "510/510 - 3s - 5ms/step - accuracy: 0.7507 - loss: 0.7790 - val_accuracy: 0.7317 - val_loss: 0.8442\n",
      "Epoch 50/100\n",
      "510/510 - 3s - 5ms/step - accuracy: 0.7511 - loss: 0.7804 - val_accuracy: 0.7304 - val_loss: 0.8428\n",
      "Epoch 51/100\n",
      "510/510 - 3s - 5ms/step - accuracy: 0.7508 - loss: 0.7815 - val_accuracy: 0.7226 - val_loss: 0.8699\n",
      "Epoch 52/100\n",
      "510/510 - 3s - 5ms/step - accuracy: 0.7523 - loss: 0.7785 - val_accuracy: 0.7353 - val_loss: 0.8289\n",
      "Epoch 53/100\n",
      "510/510 - 3s - 5ms/step - accuracy: 0.7525 - loss: 0.7769 - val_accuracy: 0.7260 - val_loss: 0.8597\n",
      "Epoch 54/100\n",
      "510/510 - 3s - 5ms/step - accuracy: 0.7509 - loss: 0.7793 - val_accuracy: 0.7409 - val_loss: 0.8224\n",
      "Epoch 55/100\n",
      "510/510 - 3s - 5ms/step - accuracy: 0.7515 - loss: 0.7758 - val_accuracy: 0.7218 - val_loss: 0.8695\n",
      "Epoch 56/100\n",
      "510/510 - 3s - 5ms/step - accuracy: 0.7510 - loss: 0.7799 - val_accuracy: 0.7314 - val_loss: 0.8381\n",
      "Epoch 57/100\n",
      "510/510 - 3s - 5ms/step - accuracy: 0.7500 - loss: 0.7781 - val_accuracy: 0.7361 - val_loss: 0.8223\n",
      "Epoch 58/100\n",
      "510/510 - 3s - 5ms/step - accuracy: 0.7501 - loss: 0.7789 - val_accuracy: 0.7337 - val_loss: 0.8351\n",
      "Epoch 59/100\n",
      "510/510 - 3s - 5ms/step - accuracy: 0.7555 - loss: 0.7715 - val_accuracy: 0.7351 - val_loss: 0.8321\n",
      "Epoch 60/100\n",
      "510/510 - 3s - 5ms/step - accuracy: 0.7523 - loss: 0.7705 - val_accuracy: 0.7197 - val_loss: 0.8868\n",
      "Epoch 61/100\n",
      "510/510 - 3s - 5ms/step - accuracy: 0.7529 - loss: 0.7737 - val_accuracy: 0.7300 - val_loss: 0.8455\n",
      "Epoch 62/100\n",
      "510/510 - 3s - 5ms/step - accuracy: 0.7548 - loss: 0.7706 - val_accuracy: 0.7207 - val_loss: 0.8631\n",
      "Epoch 63/100\n",
      "510/510 - 3s - 5ms/step - accuracy: 0.7510 - loss: 0.7775 - val_accuracy: 0.7338 - val_loss: 0.8461\n",
      "Epoch 64/100\n",
      "510/510 - 3s - 5ms/step - accuracy: 0.7552 - loss: 0.7675 - val_accuracy: 0.7384 - val_loss: 0.8287\n",
      "Epoch 65/100\n",
      "510/510 - 3s - 5ms/step - accuracy: 0.7524 - loss: 0.7725 - val_accuracy: 0.7273 - val_loss: 0.8592\n",
      "Epoch 66/100\n",
      "510/510 - 3s - 5ms/step - accuracy: 0.7545 - loss: 0.7686 - val_accuracy: 0.7354 - val_loss: 0.8241\n",
      "Epoch 67/100\n",
      "510/510 - 3s - 5ms/step - accuracy: 0.7547 - loss: 0.7685 - val_accuracy: 0.7224 - val_loss: 0.8737\n",
      "Epoch 68/100\n",
      "510/510 - 3s - 5ms/step - accuracy: 0.7554 - loss: 0.7658 - val_accuracy: 0.7251 - val_loss: 0.8501\n",
      "Epoch 69/100\n",
      "510/510 - 3s - 5ms/step - accuracy: 0.7558 - loss: 0.7657 - val_accuracy: 0.7287 - val_loss: 0.8614\n",
      "Epoch 70/100\n",
      "510/510 - 3s - 5ms/step - accuracy: 0.7582 - loss: 0.7616 - val_accuracy: 0.7292 - val_loss: 0.8480\n",
      "Epoch 71/100\n",
      "510/510 - 3s - 5ms/step - accuracy: 0.7551 - loss: 0.7652 - val_accuracy: 0.7353 - val_loss: 0.8404\n",
      "Epoch 72/100\n",
      "510/510 - 3s - 5ms/step - accuracy: 0.7548 - loss: 0.7644 - val_accuracy: 0.7364 - val_loss: 0.8319\n",
      "Epoch 73/100\n",
      "510/510 - 3s - 5ms/step - accuracy: 0.7540 - loss: 0.7648 - val_accuracy: 0.7333 - val_loss: 0.8420\n",
      "Epoch 74/100\n",
      "510/510 - 3s - 5ms/step - accuracy: 0.7576 - loss: 0.7634 - val_accuracy: 0.7311 - val_loss: 0.8654\n",
      "Epoch 75/100\n",
      "510/510 - 3s - 5ms/step - accuracy: 0.7559 - loss: 0.7620 - val_accuracy: 0.7288 - val_loss: 0.8417\n",
      "Epoch 76/100\n",
      "510/510 - 3s - 5ms/step - accuracy: 0.7547 - loss: 0.7632 - val_accuracy: 0.7252 - val_loss: 0.8712\n",
      "Epoch 77/100\n",
      "510/510 - 3s - 5ms/step - accuracy: 0.7552 - loss: 0.7657 - val_accuracy: 0.7269 - val_loss: 0.8514\n",
      "Epoch 78/100\n",
      "510/510 - 3s - 5ms/step - accuracy: 0.7562 - loss: 0.7604 - val_accuracy: 0.7314 - val_loss: 0.8511\n",
      "Epoch 79/100\n",
      "510/510 - 3s - 5ms/step - accuracy: 0.7564 - loss: 0.7626 - val_accuracy: 0.7333 - val_loss: 0.8372\n",
      "Epoch 80/100\n",
      "510/510 - 3s - 5ms/step - accuracy: 0.7569 - loss: 0.7643 - val_accuracy: 0.7261 - val_loss: 0.8538\n",
      "Epoch 81/100\n",
      "510/510 - 3s - 5ms/step - accuracy: 0.7583 - loss: 0.7570 - val_accuracy: 0.7346 - val_loss: 0.8549\n",
      "Epoch 82/100\n",
      "510/510 - 3s - 5ms/step - accuracy: 0.7552 - loss: 0.7581 - val_accuracy: 0.7346 - val_loss: 0.8530\n",
      "Epoch 83/100\n",
      "510/510 - 3s - 5ms/step - accuracy: 0.7570 - loss: 0.7613 - val_accuracy: 0.7286 - val_loss: 0.8561\n",
      "Epoch 84/100\n",
      "510/510 - 3s - 5ms/step - accuracy: 0.7578 - loss: 0.7609 - val_accuracy: 0.7337 - val_loss: 0.8344\n",
      "Epoch 85/100\n",
      "510/510 - 3s - 5ms/step - accuracy: 0.7573 - loss: 0.7577 - val_accuracy: 0.7307 - val_loss: 0.8453\n",
      "Epoch 86/100\n",
      "510/510 - 3s - 5ms/step - accuracy: 0.7572 - loss: 0.7557 - val_accuracy: 0.7360 - val_loss: 0.8216\n",
      "Epoch 87/100\n",
      "510/510 - 3s - 5ms/step - accuracy: 0.7567 - loss: 0.7595 - val_accuracy: 0.7316 - val_loss: 0.8415\n",
      "Epoch 88/100\n",
      "510/510 - 3s - 5ms/step - accuracy: 0.7593 - loss: 0.7524 - val_accuracy: 0.7250 - val_loss: 0.8763\n",
      "Epoch 89/100\n",
      "510/510 - 3s - 5ms/step - accuracy: 0.7605 - loss: 0.7538 - val_accuracy: 0.7279 - val_loss: 0.8681\n",
      "Epoch 90/100\n",
      "510/510 - 3s - 5ms/step - accuracy: 0.7569 - loss: 0.7560 - val_accuracy: 0.7318 - val_loss: 0.8517\n",
      "Epoch 91/100\n",
      "510/510 - 3s - 5ms/step - accuracy: 0.7593 - loss: 0.7540 - val_accuracy: 0.7328 - val_loss: 0.8376\n",
      "Epoch 92/100\n",
      "510/510 - 3s - 5ms/step - accuracy: 0.7572 - loss: 0.7563 - val_accuracy: 0.7317 - val_loss: 0.8369\n",
      "Epoch 93/100\n",
      "510/510 - 3s - 5ms/step - accuracy: 0.7581 - loss: 0.7545 - val_accuracy: 0.7228 - val_loss: 0.8839\n",
      "Epoch 94/100\n",
      "510/510 - 3s - 5ms/step - accuracy: 0.7587 - loss: 0.7496 - val_accuracy: 0.7362 - val_loss: 0.8311\n",
      "Epoch 95/100\n",
      "510/510 - 3s - 5ms/step - accuracy: 0.7603 - loss: 0.7550 - val_accuracy: 0.7282 - val_loss: 0.8525\n",
      "Epoch 96/100\n",
      "510/510 - 3s - 5ms/step - accuracy: 0.7592 - loss: 0.7533 - val_accuracy: 0.7286 - val_loss: 0.8540\n",
      "Epoch 97/100\n",
      "510/510 - 3s - 5ms/step - accuracy: 0.7593 - loss: 0.7493 - val_accuracy: 0.7279 - val_loss: 0.8564\n",
      "Epoch 98/100\n",
      "510/510 - 3s - 5ms/step - accuracy: 0.7588 - loss: 0.7554 - val_accuracy: 0.7361 - val_loss: 0.8436\n",
      "Epoch 99/100\n",
      "510/510 - 3s - 5ms/step - accuracy: 0.7598 - loss: 0.7521 - val_accuracy: 0.7369 - val_loss: 0.8284\n",
      "Epoch 100/100\n",
      "510/510 - 3s - 5ms/step - accuracy: 0.7605 - loss: 0.7492 - val_accuracy: 0.7303 - val_loss: 0.8594\n"
     ]
    }
   ],
   "source": [
    "model = make_model([10]*5)\n",
    "model.compile(\n",
    "    optimizer = 'adam',\n",
    "    loss = SparseCategoricalCrossentropy(),\n",
    "    metrics = ['accuracy']    \n",
    ")\n",
    "history = model.fit(\n",
    "    aug_ds,\n",
    "    epochs=100,\n",
    "    verbose=2,\n",
    "    validation_data=dsval\n",
    ")"
   ]
  },
  {
   "cell_type": "markdown",
   "metadata": {},
   "source": [
    "Plot the training and validation accuracy versus epochs."
   ]
  },
  {
   "cell_type": "code",
   "execution_count": 28,
   "metadata": {},
   "outputs": [
    {
     "data": {
      "image/png": "[encoded data removed]",
      "text/plain": [
       "<Figure size 640x480 with 1 Axes>"
      ]
     },
     "metadata": {},
     "output_type": "display_data"
    }
   ],
   "source": [
    "history_dict = history.history\n",
    "train_acc = history_dict['accuracy']\n",
    "val_acc = history_dict['val_accuracy']\n",
    "epochs = history.epoch\n",
    "plt.plot(epochs, train_acc, 'b', epochs, val_acc, 'r')\n",
    "plt.title('Training and Validation Accuracy')\n",
    "plt.xlabel('Epochs')\n",
    "plt.show()"
   ]
  },
  {
   "cell_type": "markdown",
   "metadata": {},
   "source": [
    "Does the network seem to be overfitting?"
   ]
  },
  {
   "cell_type": "markdown",
   "metadata": {},
   "source": [
    "Use the `evalutate()` method to find the testing loss and accuracy."
   ]
  },
  {
   "cell_type": "code",
   "execution_count": 29,
   "metadata": {},
   "outputs": [
    {
     "name": "stdout",
     "output_type": "stream",
     "text": [
      "Test loss: 1.370671033859253\n",
      "Test accuracy: 0.5648000240325928\n"
     ]
    }
   ],
   "source": [
    "score = model.evaluate(dstest, verbose=0)\n",
    "print(\"Test loss:\", score[0])\n",
    "print(\"Test accuracy:\", score[1])"
   ]
  },
  {
   "cell_type": "markdown",
   "metadata": {},
   "source": [
    "Comparing training, validation and testing accurcy, is the model overfitting? Can you add layers/neurons to improve performance. Because of augmentation, can you use larger networks without overfitting?"
   ]
  },
  {
   "cell_type": "markdown",
   "metadata": {},
   "source": [
    "## Batch Normalization and Dropout\n",
    "\n",
    "In addition to data augmentation, which enlarges the dataset, batch normalization and dropout have also been used to reduce the chances of overfitting. Batch normalization was designed to improve network convergence, but it has been found to also reduce overfitting. Dropout, as described in Chapter 4, is designed to reduce overfitting.\n",
    "\n",
    "Both batch normalization and dropout can be implemented as keras layers (`layers.BatchNormalization()` and `layers.Dropout()`). In this section of the lab, you will experiment with adding these layers and testing their effectiveness. \n",
    "\n",
    "To begin, modify the `make_network()` method to incorporate dropout and/or batch normalization at the output of `Dense` layers (after the activation function) of a multilayer network (except the last layer). Put the dropout operation before batch normalization. Pass a list of arguments into the `make_model_do_bn()` method. Each element of the list should be a list containing three items: \n",
    "1. the number of neurons in the  layer, \n",
    "1. the dropout probability (see Chapter 4) (If the dropout probability is 0.0, then no dropout should be used in the layer.), \n",
    "1. a flag, `True` or `False`, indicating if batch normalization should be used in that layer. "
   ]
  },
  {
   "cell_type": "code",
   "execution_count": 32,
   "metadata": {},
   "outputs": [],
   "source": [
    "def make_model_do_bn(args):\n",
    "    model = models.Sequential()\n",
    "    model.add(layers.Flatten(input_shape=(28, 28)))\n",
    "    for neurons, dropout_prob, use_bn in args:\n",
    "        model.add(layers.Dense(neurons, activation='relu'))\n",
    "\n",
    "        if dropout_prob > 0:\n",
    "            model.add(layers.Dropout(dropout_prob))\n",
    "        \n",
    "        if use_bn:\n",
    "            model.add(layers.BatchNormalization())\n",
    "            \n",
    "    model.add(layers.Dense(10, activation='softmax'))\n",
    "    return model"
   ]
  },
  {
   "cell_type": "markdown",
   "metadata": {},
   "source": [
    "Create a model, and check that it has the correct structure with the `summary()` method."
   ]
  },
  {
   "cell_type": "code",
   "execution_count": 33,
   "metadata": {},
   "outputs": [
    {
     "name": "stderr",
     "output_type": "stream",
     "text": [
      "/home/casager/DeepLearning/NNDesignDeepLearning/.venv/lib/python3.12/site-packages/keras/src/layers/reshaping/flatten.py:37: UserWarning: Do not pass an `input_shape`/`input_dim` argument to a layer. When using Sequential models, prefer using an `Input(shape)` object as the first layer in the model instead.\n",
      "  super().__init__(**kwargs)\n"
     ]
    },
    {
     "data": {
      "text/html": [
       "<pre style=\"white-space:pre;overflow-x:auto;line-height:normal;font-family:Menlo,'DejaVu Sans Mono',consolas,'Courier New',monospace\"><span style=\"font-weight: bold\">Model: \"sequential_6\"</span>\n",
       "</pre>\n"
      ],
      "text/plain": [
       "\u001b[1mModel: \"sequential_6\"\u001b[0m\n"
      ]
     },
     "metadata": {},
     "output_type": "display_data"
    },
    {
     "data": {
      "text/html": [
       "<pre style=\"white-space:pre;overflow-x:auto;line-height:normal;font-family:Menlo,'DejaVu Sans Mono',consolas,'Courier New',monospace\">┏━━━━━━━━━━━━━━━━━━━━━━━━━━━━━━━━━┳━━━━━━━━━━━━━━━━━━━━━━━━┳━━━━━━━━━━━━━━━┓\n",
       "┃<span style=\"font-weight: bold\"> Layer (type)                    </span>┃<span style=\"font-weight: bold\"> Output Shape           </span>┃<span style=\"font-weight: bold\">       Param # </span>┃\n",
       "┡━━━━━━━━━━━━━━━━━━━━━━━━━━━━━━━━━╇━━━━━━━━━━━━━━━━━━━━━━━━╇━━━━━━━━━━━━━━━┩\n",
       "│ flatten_3 (<span style=\"color: #0087ff; text-decoration-color: #0087ff\">Flatten</span>)             │ (<span style=\"color: #00d7ff; text-decoration-color: #00d7ff\">None</span>, <span style=\"color: #00af00; text-decoration-color: #00af00\">784</span>)            │             <span style=\"color: #00af00; text-decoration-color: #00af00\">0</span> │\n",
       "├─────────────────────────────────┼────────────────────────┼───────────────┤\n",
       "│ dense_13 (<span style=\"color: #0087ff; text-decoration-color: #0087ff\">Dense</span>)                │ (<span style=\"color: #00d7ff; text-decoration-color: #00d7ff\">None</span>, <span style=\"color: #00af00; text-decoration-color: #00af00\">10</span>)             │         <span style=\"color: #00af00; text-decoration-color: #00af00\">7,850</span> │\n",
       "├─────────────────────────────────┼────────────────────────┼───────────────┤\n",
       "│ dropout (<span style=\"color: #0087ff; text-decoration-color: #0087ff\">Dropout</span>)               │ (<span style=\"color: #00d7ff; text-decoration-color: #00d7ff\">None</span>, <span style=\"color: #00af00; text-decoration-color: #00af00\">10</span>)             │             <span style=\"color: #00af00; text-decoration-color: #00af00\">0</span> │\n",
       "├─────────────────────────────────┼────────────────────────┼───────────────┤\n",
       "│ batch_normalization             │ (<span style=\"color: #00d7ff; text-decoration-color: #00d7ff\">None</span>, <span style=\"color: #00af00; text-decoration-color: #00af00\">10</span>)             │            <span style=\"color: #00af00; text-decoration-color: #00af00\">40</span> │\n",
       "│ (<span style=\"color: #0087ff; text-decoration-color: #0087ff\">BatchNormalization</span>)            │                        │               │\n",
       "├─────────────────────────────────┼────────────────────────┼───────────────┤\n",
       "│ dense_14 (<span style=\"color: #0087ff; text-decoration-color: #0087ff\">Dense</span>)                │ (<span style=\"color: #00d7ff; text-decoration-color: #00d7ff\">None</span>, <span style=\"color: #00af00; text-decoration-color: #00af00\">10</span>)             │           <span style=\"color: #00af00; text-decoration-color: #00af00\">110</span> │\n",
       "├─────────────────────────────────┼────────────────────────┼───────────────┤\n",
       "│ dropout_1 (<span style=\"color: #0087ff; text-decoration-color: #0087ff\">Dropout</span>)             │ (<span style=\"color: #00d7ff; text-decoration-color: #00d7ff\">None</span>, <span style=\"color: #00af00; text-decoration-color: #00af00\">10</span>)             │             <span style=\"color: #00af00; text-decoration-color: #00af00\">0</span> │\n",
       "├─────────────────────────────────┼────────────────────────┼───────────────┤\n",
       "│ batch_normalization_1           │ (<span style=\"color: #00d7ff; text-decoration-color: #00d7ff\">None</span>, <span style=\"color: #00af00; text-decoration-color: #00af00\">10</span>)             │            <span style=\"color: #00af00; text-decoration-color: #00af00\">40</span> │\n",
       "│ (<span style=\"color: #0087ff; text-decoration-color: #0087ff\">BatchNormalization</span>)            │                        │               │\n",
       "├─────────────────────────────────┼────────────────────────┼───────────────┤\n",
       "│ dense_15 (<span style=\"color: #0087ff; text-decoration-color: #0087ff\">Dense</span>)                │ (<span style=\"color: #00d7ff; text-decoration-color: #00d7ff\">None</span>, <span style=\"color: #00af00; text-decoration-color: #00af00\">10</span>)             │           <span style=\"color: #00af00; text-decoration-color: #00af00\">110</span> │\n",
       "├─────────────────────────────────┼────────────────────────┼───────────────┤\n",
       "│ dense_16 (<span style=\"color: #0087ff; text-decoration-color: #0087ff\">Dense</span>)                │ (<span style=\"color: #00d7ff; text-decoration-color: #00d7ff\">None</span>, <span style=\"color: #00af00; text-decoration-color: #00af00\">10</span>)             │           <span style=\"color: #00af00; text-decoration-color: #00af00\">110</span> │\n",
       "└─────────────────────────────────┴────────────────────────┴───────────────┘\n",
       "</pre>\n"
      ],
      "text/plain": [
       "┏━━━━━━━━━━━━━━━━━━━━━━━━━━━━━━━━━┳━━━━━━━━━━━━━━━━━━━━━━━━┳━━━━━━━━━━━━━━━┓\n",
       "┃\u001b[1m \u001b[0m\u001b[1mLayer (type)                   \u001b[0m\u001b[1m \u001b[0m┃\u001b[1m \u001b[0m\u001b[1mOutput Shape          \u001b[0m\u001b[1m \u001b[0m┃\u001b[1m \u001b[0m\u001b[1m      Param #\u001b[0m\u001b[1m \u001b[0m┃\n",
       "┡━━━━━━━━━━━━━━━━━━━━━━━━━━━━━━━━━╇━━━━━━━━━━━━━━━━━━━━━━━━╇━━━━━━━━━━━━━━━┩\n",
       "│ flatten_3 (\u001b[38;5;33mFlatten\u001b[0m)             │ (\u001b[38;5;45mNone\u001b[0m, \u001b[38;5;34m784\u001b[0m)            │             \u001b[38;5;34m0\u001b[0m │\n",
       "├─────────────────────────────────┼────────────────────────┼───────────────┤\n",
       "│ dense_13 (\u001b[38;5;33mDense\u001b[0m)                │ (\u001b[38;5;45mNone\u001b[0m, \u001b[38;5;34m10\u001b[0m)             │         \u001b[38;5;34m7,850\u001b[0m │\n",
       "├─────────────────────────────────┼────────────────────────┼───────────────┤\n",
       "│ dropout (\u001b[38;5;33mDropout\u001b[0m)               │ (\u001b[38;5;45mNone\u001b[0m, \u001b[38;5;34m10\u001b[0m)             │             \u001b[38;5;34m0\u001b[0m │\n",
       "├─────────────────────────────────┼────────────────────────┼───────────────┤\n",
       "│ batch_normalization             │ (\u001b[38;5;45mNone\u001b[0m, \u001b[38;5;34m10\u001b[0m)             │            \u001b[38;5;34m40\u001b[0m │\n",
       "│ (\u001b[38;5;33mBatchNormalization\u001b[0m)            │                        │               │\n",
       "├─────────────────────────────────┼────────────────────────┼───────────────┤\n",
       "│ dense_14 (\u001b[38;5;33mDense\u001b[0m)                │ (\u001b[38;5;45mNone\u001b[0m, \u001b[38;5;34m10\u001b[0m)             │           \u001b[38;5;34m110\u001b[0m │\n",
       "├─────────────────────────────────┼────────────────────────┼───────────────┤\n",
       "│ dropout_1 (\u001b[38;5;33mDropout\u001b[0m)             │ (\u001b[38;5;45mNone\u001b[0m, \u001b[38;5;34m10\u001b[0m)             │             \u001b[38;5;34m0\u001b[0m │\n",
       "├─────────────────────────────────┼────────────────────────┼───────────────┤\n",
       "│ batch_normalization_1           │ (\u001b[38;5;45mNone\u001b[0m, \u001b[38;5;34m10\u001b[0m)             │            \u001b[38;5;34m40\u001b[0m │\n",
       "│ (\u001b[38;5;33mBatchNormalization\u001b[0m)            │                        │               │\n",
       "├─────────────────────────────────┼────────────────────────┼───────────────┤\n",
       "│ dense_15 (\u001b[38;5;33mDense\u001b[0m)                │ (\u001b[38;5;45mNone\u001b[0m, \u001b[38;5;34m10\u001b[0m)             │           \u001b[38;5;34m110\u001b[0m │\n",
       "├─────────────────────────────────┼────────────────────────┼───────────────┤\n",
       "│ dense_16 (\u001b[38;5;33mDense\u001b[0m)                │ (\u001b[38;5;45mNone\u001b[0m, \u001b[38;5;34m10\u001b[0m)             │           \u001b[38;5;34m110\u001b[0m │\n",
       "└─────────────────────────────────┴────────────────────────┴───────────────┘\n"
      ]
     },
     "metadata": {},
     "output_type": "display_data"
    },
    {
     "data": {
      "text/html": [
       "<pre style=\"white-space:pre;overflow-x:auto;line-height:normal;font-family:Menlo,'DejaVu Sans Mono',consolas,'Courier New',monospace\"><span style=\"font-weight: bold\"> Total params: </span><span style=\"color: #00af00; text-decoration-color: #00af00\">8,260</span> (32.27 KB)\n",
       "</pre>\n"
      ],
      "text/plain": [
       "\u001b[1m Total params: \u001b[0m\u001b[38;5;34m8,260\u001b[0m (32.27 KB)\n"
      ]
     },
     "metadata": {},
     "output_type": "display_data"
    },
    {
     "data": {
      "text/html": [
       "<pre style=\"white-space:pre;overflow-x:auto;line-height:normal;font-family:Menlo,'DejaVu Sans Mono',consolas,'Courier New',monospace\"><span style=\"font-weight: bold\"> Trainable params: </span><span style=\"color: #00af00; text-decoration-color: #00af00\">8,220</span> (32.11 KB)\n",
       "</pre>\n"
      ],
      "text/plain": [
       "\u001b[1m Trainable params: \u001b[0m\u001b[38;5;34m8,220\u001b[0m (32.11 KB)\n"
      ]
     },
     "metadata": {},
     "output_type": "display_data"
    },
    {
     "data": {
      "text/html": [
       "<pre style=\"white-space:pre;overflow-x:auto;line-height:normal;font-family:Menlo,'DejaVu Sans Mono',consolas,'Courier New',monospace\"><span style=\"font-weight: bold\"> Non-trainable params: </span><span style=\"color: #00af00; text-decoration-color: #00af00\">40</span> (160.00 B)\n",
       "</pre>\n"
      ],
      "text/plain": [
       "\u001b[1m Non-trainable params: \u001b[0m\u001b[38;5;34m40\u001b[0m (160.00 B)\n"
      ]
     },
     "metadata": {},
     "output_type": "display_data"
    },
    {
     "name": "stdout",
     "output_type": "stream",
     "text": [
      "None\n"
     ]
    }
   ],
   "source": [
    "ARGS = [[10, 0.2, True], [10, 0.2, True], [10, 0, False]]\n",
    "model = make_model_do_bn(ARGS)\n",
    "print(model.summary())"
   ]
  },
  {
   "cell_type": "markdown",
   "metadata": {},
   "source": [
    "# Training\n",
    "\n",
    "Now train the network using the original training set (without augmentation). Use 5 hidden layers, with batch normalization used in each hidden layer, but without dropout in any layer. Use 20 neurons in each layer.  Train for 100 epochs, and use the validation data."
   ]
  },
  {
   "cell_type": "code",
   "execution_count": 36,
   "metadata": {},
   "outputs": [
    {
     "name": "stdout",
     "output_type": "stream",
     "text": [
      "Epoch 1/100\n"
     ]
    },
    {
     "name": "stderr",
     "output_type": "stream",
     "text": [
      "/home/casager/DeepLearning/NNDesignDeepLearning/.venv/lib/python3.12/site-packages/keras/src/layers/reshaping/flatten.py:37: UserWarning: Do not pass an `input_shape`/`input_dim` argument to a layer. When using Sequential models, prefer using an `Input(shape)` object as the first layer in the model instead.\n",
      "  super().__init__(**kwargs)\n"
     ]
    },
    {
     "name": "stdout",
     "output_type": "stream",
     "text": [
      "510/510 - 3s - 6ms/step - accuracy: 0.6699 - loss: 1.0504 - val_accuracy: 0.8270 - val_loss: 0.5813\n",
      "Epoch 2/100\n",
      "510/510 - 1s - 2ms/step - accuracy: 0.8450 - loss: 0.5178 - val_accuracy: 0.8590 - val_loss: 0.4663\n",
      "Epoch 3/100\n",
      "510/510 - 1s - 2ms/step - accuracy: 0.8720 - loss: 0.4232 - val_accuracy: 0.8739 - val_loss: 0.4142\n",
      "Epoch 4/100\n",
      "510/510 - 1s - 2ms/step - accuracy: 0.8847 - loss: 0.3769 - val_accuracy: 0.8841 - val_loss: 0.3815\n",
      "Epoch 5/100\n",
      "510/510 - 1s - 2ms/step - accuracy: 0.8937 - loss: 0.3476 - val_accuracy: 0.8876 - val_loss: 0.3716\n",
      "Epoch 6/100\n",
      "510/510 - 1s - 2ms/step - accuracy: 0.8995 - loss: 0.3280 - val_accuracy: 0.8862 - val_loss: 0.3719\n",
      "Epoch 7/100\n",
      "510/510 - 1s - 2ms/step - accuracy: 0.9053 - loss: 0.3120 - val_accuracy: 0.8862 - val_loss: 0.3747\n",
      "Epoch 8/100\n",
      "510/510 - 1s - 2ms/step - accuracy: 0.9094 - loss: 0.2988 - val_accuracy: 0.8881 - val_loss: 0.3701\n",
      "Epoch 9/100\n",
      "510/510 - 1s - 2ms/step - accuracy: 0.9125 - loss: 0.2872 - val_accuracy: 0.8916 - val_loss: 0.3637\n",
      "Epoch 10/100\n",
      "510/510 - 1s - 2ms/step - accuracy: 0.9157 - loss: 0.2774 - val_accuracy: 0.8914 - val_loss: 0.3678\n",
      "Epoch 11/100\n",
      "510/510 - 1s - 2ms/step - accuracy: 0.9182 - loss: 0.2681 - val_accuracy: 0.8916 - val_loss: 0.3749\n",
      "Epoch 12/100\n",
      "510/510 - 1s - 2ms/step - accuracy: 0.9199 - loss: 0.2608 - val_accuracy: 0.8924 - val_loss: 0.3737\n",
      "Epoch 13/100\n",
      "510/510 - 1s - 2ms/step - accuracy: 0.9225 - loss: 0.2540 - val_accuracy: 0.8924 - val_loss: 0.3753\n",
      "Epoch 14/100\n",
      "510/510 - 1s - 2ms/step - accuracy: 0.9241 - loss: 0.2472 - val_accuracy: 0.8924 - val_loss: 0.3724\n",
      "Epoch 15/100\n",
      "510/510 - 1s - 2ms/step - accuracy: 0.9260 - loss: 0.2421 - val_accuracy: 0.8913 - val_loss: 0.3782\n",
      "Epoch 16/100\n",
      "510/510 - 1s - 2ms/step - accuracy: 0.9279 - loss: 0.2367 - val_accuracy: 0.8923 - val_loss: 0.3765\n",
      "Epoch 17/100\n",
      "510/510 - 1s - 2ms/step - accuracy: 0.9295 - loss: 0.2315 - val_accuracy: 0.8910 - val_loss: 0.3838\n",
      "Epoch 18/100\n",
      "510/510 - 1s - 2ms/step - accuracy: 0.9311 - loss: 0.2263 - val_accuracy: 0.8937 - val_loss: 0.3797\n",
      "Epoch 19/100\n",
      "510/510 - 1s - 2ms/step - accuracy: 0.9318 - loss: 0.2231 - val_accuracy: 0.8939 - val_loss: 0.3850\n",
      "Epoch 20/100\n",
      "510/510 - 1s - 2ms/step - accuracy: 0.9336 - loss: 0.2182 - val_accuracy: 0.8921 - val_loss: 0.3883\n",
      "Epoch 21/100\n",
      "510/510 - 1s - 2ms/step - accuracy: 0.9344 - loss: 0.2149 - val_accuracy: 0.8919 - val_loss: 0.3906\n",
      "Epoch 22/100\n",
      "510/510 - 1s - 2ms/step - accuracy: 0.9368 - loss: 0.2104 - val_accuracy: 0.8893 - val_loss: 0.4030\n",
      "Epoch 23/100\n",
      "510/510 - 1s - 2ms/step - accuracy: 0.9371 - loss: 0.2073 - val_accuracy: 0.8873 - val_loss: 0.4035\n",
      "Epoch 24/100\n",
      "510/510 - 1s - 2ms/step - accuracy: 0.9384 - loss: 0.2030 - val_accuracy: 0.8898 - val_loss: 0.3976\n",
      "Epoch 25/100\n",
      "510/510 - 1s - 2ms/step - accuracy: 0.9395 - loss: 0.2005 - val_accuracy: 0.8889 - val_loss: 0.4060\n",
      "Epoch 26/100\n",
      "510/510 - 1s - 2ms/step - accuracy: 0.9404 - loss: 0.1975 - val_accuracy: 0.8887 - val_loss: 0.4092\n",
      "Epoch 27/100\n",
      "510/510 - 1s - 2ms/step - accuracy: 0.9416 - loss: 0.1944 - val_accuracy: 0.8896 - val_loss: 0.4086\n",
      "Epoch 28/100\n",
      "510/510 - 1s - 2ms/step - accuracy: 0.9423 - loss: 0.1911 - val_accuracy: 0.8886 - val_loss: 0.4160\n",
      "Epoch 29/100\n",
      "510/510 - 1s - 2ms/step - accuracy: 0.9434 - loss: 0.1886 - val_accuracy: 0.8892 - val_loss: 0.4183\n",
      "Epoch 30/100\n",
      "510/510 - 1s - 2ms/step - accuracy: 0.9440 - loss: 0.1864 - val_accuracy: 0.8897 - val_loss: 0.4185\n",
      "Epoch 31/100\n",
      "510/510 - 1s - 2ms/step - accuracy: 0.9454 - loss: 0.1840 - val_accuracy: 0.8891 - val_loss: 0.4211\n",
      "Epoch 32/100\n",
      "510/510 - 1s - 2ms/step - accuracy: 0.9459 - loss: 0.1819 - val_accuracy: 0.8908 - val_loss: 0.4256\n",
      "Epoch 33/100\n",
      "510/510 - 1s - 2ms/step - accuracy: 0.9465 - loss: 0.1794 - val_accuracy: 0.8906 - val_loss: 0.4288\n",
      "Epoch 34/100\n",
      "510/510 - 1s - 2ms/step - accuracy: 0.9476 - loss: 0.1777 - val_accuracy: 0.8883 - val_loss: 0.4390\n",
      "Epoch 35/100\n",
      "510/510 - 1s - 2ms/step - accuracy: 0.9484 - loss: 0.1745 - val_accuracy: 0.8874 - val_loss: 0.4429\n",
      "Epoch 36/100\n",
      "510/510 - 1s - 2ms/step - accuracy: 0.9479 - loss: 0.1734 - val_accuracy: 0.8880 - val_loss: 0.4425\n",
      "Epoch 37/100\n",
      "510/510 - 1s - 2ms/step - accuracy: 0.9494 - loss: 0.1710 - val_accuracy: 0.8901 - val_loss: 0.4478\n",
      "Epoch 38/100\n",
      "510/510 - 1s - 2ms/step - accuracy: 0.9495 - loss: 0.1700 - val_accuracy: 0.8890 - val_loss: 0.4499\n",
      "Epoch 39/100\n",
      "510/510 - 1s - 2ms/step - accuracy: 0.9499 - loss: 0.1670 - val_accuracy: 0.8883 - val_loss: 0.4577\n",
      "Epoch 40/100\n",
      "510/510 - 1s - 2ms/step - accuracy: 0.9521 - loss: 0.1631 - val_accuracy: 0.8887 - val_loss: 0.4643\n",
      "Epoch 41/100\n",
      "510/510 - 1s - 2ms/step - accuracy: 0.9522 - loss: 0.1615 - val_accuracy: 0.8867 - val_loss: 0.4670\n",
      "Epoch 42/100\n",
      "510/510 - 1s - 2ms/step - accuracy: 0.9521 - loss: 0.1610 - val_accuracy: 0.8881 - val_loss: 0.4724\n",
      "Epoch 43/100\n",
      "510/510 - 1s - 2ms/step - accuracy: 0.9523 - loss: 0.1608 - val_accuracy: 0.8858 - val_loss: 0.4757\n",
      "Epoch 44/100\n",
      "510/510 - 1s - 2ms/step - accuracy: 0.9528 - loss: 0.1584 - val_accuracy: 0.8850 - val_loss: 0.4808\n",
      "Epoch 45/100\n",
      "510/510 - 1s - 2ms/step - accuracy: 0.9525 - loss: 0.1575 - val_accuracy: 0.8846 - val_loss: 0.4903\n",
      "Epoch 46/100\n",
      "510/510 - 1s - 2ms/step - accuracy: 0.9535 - loss: 0.1554 - val_accuracy: 0.8848 - val_loss: 0.4969\n",
      "Epoch 47/100\n",
      "510/510 - 1s - 2ms/step - accuracy: 0.9533 - loss: 0.1554 - val_accuracy: 0.8837 - val_loss: 0.4973\n",
      "Epoch 48/100\n",
      "510/510 - 1s - 2ms/step - accuracy: 0.9538 - loss: 0.1522 - val_accuracy: 0.8844 - val_loss: 0.4911\n",
      "Epoch 49/100\n",
      "510/510 - 1s - 2ms/step - accuracy: 0.9555 - loss: 0.1496 - val_accuracy: 0.8840 - val_loss: 0.5049\n",
      "Epoch 50/100\n",
      "510/510 - 1s - 2ms/step - accuracy: 0.9555 - loss: 0.1488 - val_accuracy: 0.8837 - val_loss: 0.5144\n",
      "Epoch 51/100\n",
      "510/510 - 1s - 2ms/step - accuracy: 0.9549 - loss: 0.1496 - val_accuracy: 0.8840 - val_loss: 0.5105\n",
      "Epoch 52/100\n",
      "510/510 - 1s - 2ms/step - accuracy: 0.9560 - loss: 0.1459 - val_accuracy: 0.8843 - val_loss: 0.5156\n",
      "Epoch 53/100\n",
      "510/510 - 1s - 2ms/step - accuracy: 0.9579 - loss: 0.1428 - val_accuracy: 0.8848 - val_loss: 0.5246\n",
      "Epoch 54/100\n",
      "510/510 - 1s - 2ms/step - accuracy: 0.9575 - loss: 0.1421 - val_accuracy: 0.8809 - val_loss: 0.5289\n",
      "Epoch 55/100\n",
      "510/510 - 1s - 2ms/step - accuracy: 0.9573 - loss: 0.1425 - val_accuracy: 0.8831 - val_loss: 0.5268\n",
      "Epoch 56/100\n",
      "510/510 - 1s - 2ms/step - accuracy: 0.9579 - loss: 0.1409 - val_accuracy: 0.8814 - val_loss: 0.5280\n",
      "Epoch 57/100\n",
      "510/510 - 1s - 2ms/step - accuracy: 0.9571 - loss: 0.1400 - val_accuracy: 0.8839 - val_loss: 0.5408\n",
      "Epoch 58/100\n",
      "510/510 - 1s - 2ms/step - accuracy: 0.9584 - loss: 0.1374 - val_accuracy: 0.8803 - val_loss: 0.5492\n",
      "Epoch 59/100\n",
      "510/510 - 1s - 2ms/step - accuracy: 0.9586 - loss: 0.1369 - val_accuracy: 0.8830 - val_loss: 0.5456\n",
      "Epoch 60/100\n",
      "510/510 - 1s - 2ms/step - accuracy: 0.9588 - loss: 0.1360 - val_accuracy: 0.8784 - val_loss: 0.5546\n",
      "Epoch 61/100\n",
      "510/510 - 1s - 2ms/step - accuracy: 0.9596 - loss: 0.1342 - val_accuracy: 0.8801 - val_loss: 0.5589\n",
      "Epoch 62/100\n",
      "510/510 - 1s - 2ms/step - accuracy: 0.9602 - loss: 0.1339 - val_accuracy: 0.8797 - val_loss: 0.5615\n",
      "Epoch 63/100\n",
      "510/510 - 1s - 2ms/step - accuracy: 0.9595 - loss: 0.1341 - val_accuracy: 0.8799 - val_loss: 0.5703\n",
      "Epoch 64/100\n",
      "510/510 - 1s - 2ms/step - accuracy: 0.9602 - loss: 0.1310 - val_accuracy: 0.8804 - val_loss: 0.5598\n",
      "Epoch 65/100\n",
      "510/510 - 1s - 2ms/step - accuracy: 0.9595 - loss: 0.1309 - val_accuracy: 0.8804 - val_loss: 0.5768\n",
      "Epoch 66/100\n",
      "510/510 - 1s - 2ms/step - accuracy: 0.9611 - loss: 0.1284 - val_accuracy: 0.8820 - val_loss: 0.5644\n",
      "Epoch 67/100\n",
      "510/510 - 1s - 2ms/step - accuracy: 0.9604 - loss: 0.1299 - val_accuracy: 0.8804 - val_loss: 0.5771\n",
      "Epoch 68/100\n",
      "510/510 - 1s - 2ms/step - accuracy: 0.9618 - loss: 0.1275 - val_accuracy: 0.8792 - val_loss: 0.5821\n",
      "Epoch 69/100\n",
      "510/510 - 1s - 2ms/step - accuracy: 0.9622 - loss: 0.1257 - val_accuracy: 0.8783 - val_loss: 0.5875\n",
      "Epoch 70/100\n",
      "510/510 - 1s - 2ms/step - accuracy: 0.9625 - loss: 0.1244 - val_accuracy: 0.8776 - val_loss: 0.5880\n",
      "Epoch 71/100\n",
      "510/510 - 1s - 2ms/step - accuracy: 0.9609 - loss: 0.1258 - val_accuracy: 0.8773 - val_loss: 0.5954\n",
      "Epoch 72/100\n",
      "510/510 - 1s - 2ms/step - accuracy: 0.9624 - loss: 0.1232 - val_accuracy: 0.8790 - val_loss: 0.5939\n",
      "Epoch 73/100\n",
      "510/510 - 1s - 2ms/step - accuracy: 0.9627 - loss: 0.1224 - val_accuracy: 0.8788 - val_loss: 0.5838\n",
      "Epoch 74/100\n",
      "510/510 - 1s - 2ms/step - accuracy: 0.9637 - loss: 0.1196 - val_accuracy: 0.8784 - val_loss: 0.6054\n",
      "Epoch 75/100\n",
      "510/510 - 1s - 2ms/step - accuracy: 0.9640 - loss: 0.1199 - val_accuracy: 0.8796 - val_loss: 0.5974\n",
      "Epoch 76/100\n",
      "510/510 - 1s - 2ms/step - accuracy: 0.9632 - loss: 0.1204 - val_accuracy: 0.8788 - val_loss: 0.6024\n",
      "Epoch 77/100\n",
      "510/510 - 1s - 2ms/step - accuracy: 0.9635 - loss: 0.1197 - val_accuracy: 0.8781 - val_loss: 0.6086\n",
      "Epoch 78/100\n",
      "510/510 - 1s - 2ms/step - accuracy: 0.9639 - loss: 0.1181 - val_accuracy: 0.8780 - val_loss: 0.6140\n",
      "Epoch 79/100\n",
      "510/510 - 1s - 2ms/step - accuracy: 0.9643 - loss: 0.1178 - val_accuracy: 0.8789 - val_loss: 0.6214\n",
      "Epoch 80/100\n",
      "510/510 - 1s - 2ms/step - accuracy: 0.9644 - loss: 0.1160 - val_accuracy: 0.8789 - val_loss: 0.6175\n",
      "Epoch 81/100\n",
      "510/510 - 1s - 2ms/step - accuracy: 0.9645 - loss: 0.1170 - val_accuracy: 0.8811 - val_loss: 0.6178\n",
      "Epoch 82/100\n",
      "510/510 - 1s - 2ms/step - accuracy: 0.9659 - loss: 0.1138 - val_accuracy: 0.8777 - val_loss: 0.6288\n",
      "Epoch 83/100\n",
      "510/510 - 1s - 2ms/step - accuracy: 0.9653 - loss: 0.1132 - val_accuracy: 0.8773 - val_loss: 0.6284\n",
      "Epoch 84/100\n",
      "510/510 - 1s - 2ms/step - accuracy: 0.9658 - loss: 0.1137 - val_accuracy: 0.8773 - val_loss: 0.6318\n",
      "Epoch 85/100\n",
      "510/510 - 1s - 2ms/step - accuracy: 0.9653 - loss: 0.1143 - val_accuracy: 0.8774 - val_loss: 0.6354\n",
      "Epoch 86/100\n",
      "510/510 - 1s - 2ms/step - accuracy: 0.9653 - loss: 0.1120 - val_accuracy: 0.8787 - val_loss: 0.6365\n",
      "Epoch 87/100\n",
      "510/510 - 1s - 2ms/step - accuracy: 0.9659 - loss: 0.1120 - val_accuracy: 0.8801 - val_loss: 0.6410\n",
      "Epoch 88/100\n",
      "510/510 - 1s - 2ms/step - accuracy: 0.9668 - loss: 0.1098 - val_accuracy: 0.8793 - val_loss: 0.6387\n",
      "Epoch 89/100\n",
      "510/510 - 1s - 2ms/step - accuracy: 0.9672 - loss: 0.1078 - val_accuracy: 0.8778 - val_loss: 0.6487\n",
      "Epoch 90/100\n",
      "510/510 - 1s - 2ms/step - accuracy: 0.9658 - loss: 0.1103 - val_accuracy: 0.8803 - val_loss: 0.6494\n",
      "Epoch 91/100\n",
      "510/510 - 1s - 2ms/step - accuracy: 0.9675 - loss: 0.1069 - val_accuracy: 0.8779 - val_loss: 0.6507\n",
      "Epoch 92/100\n",
      "510/510 - 1s - 2ms/step - accuracy: 0.9680 - loss: 0.1065 - val_accuracy: 0.8797 - val_loss: 0.6654\n",
      "Epoch 93/100\n",
      "510/510 - 1s - 2ms/step - accuracy: 0.9675 - loss: 0.1063 - val_accuracy: 0.8796 - val_loss: 0.6758\n",
      "Epoch 94/100\n",
      "510/510 - 1s - 2ms/step - accuracy: 0.9684 - loss: 0.1043 - val_accuracy: 0.8769 - val_loss: 0.6753\n",
      "Epoch 95/100\n",
      "510/510 - 1s - 2ms/step - accuracy: 0.9674 - loss: 0.1060 - val_accuracy: 0.8769 - val_loss: 0.6798\n",
      "Epoch 96/100\n",
      "510/510 - 1s - 2ms/step - accuracy: 0.9684 - loss: 0.1043 - val_accuracy: 0.8730 - val_loss: 0.6930\n",
      "Epoch 97/100\n",
      "510/510 - 1s - 2ms/step - accuracy: 0.9683 - loss: 0.1040 - val_accuracy: 0.8791 - val_loss: 0.6811\n",
      "Epoch 98/100\n",
      "510/510 - 1s - 2ms/step - accuracy: 0.9701 - loss: 0.1007 - val_accuracy: 0.8773 - val_loss: 0.6838\n",
      "Epoch 99/100\n",
      "510/510 - 1s - 2ms/step - accuracy: 0.9685 - loss: 0.1033 - val_accuracy: 0.8787 - val_loss: 0.6794\n",
      "Epoch 100/100\n",
      "510/510 - 1s - 2ms/step - accuracy: 0.9684 - loss: 0.1048 - val_accuracy: 0.8761 - val_loss: 0.6989\n"
     ]
    }
   ],
   "source": [
    "ARGS = [[20, 0, True]]*5\n",
    "model = make_model_do_bn(ARGS)\n",
    "model.compile(\n",
    "    optimizer = 'adam',\n",
    "    loss = SparseCategoricalCrossentropy(),\n",
    "    metrics = ['accuracy']    \n",
    ")\n",
    "history = model.fit(\n",
    "    dstrain,\n",
    "    epochs=100,\n",
    "    verbose=2,\n",
    "    validation_data=dsval\n",
    ")"
   ]
  },
  {
   "cell_type": "markdown",
   "metadata": {},
   "source": [
    "Plot the training and validation accuracy, and check for overfitting.\n",
    "- A ton of overfitting..."
   ]
  },
  {
   "cell_type": "code",
   "execution_count": 37,
   "metadata": {},
   "outputs": [
    {
     "data": {
      "image/png": "[encoded data removed]",
      "text/plain": [
       "<Figure size 640x480 with 1 Axes>"
      ]
     },
     "metadata": {},
     "output_type": "display_data"
    }
   ],
   "source": [
    "history_dict = history.history\n",
    "train_acc = history_dict['accuracy']\n",
    "val_acc = history_dict['val_accuracy']\n",
    "epochs = history.epoch\n",
    "plt.plot(epochs, train_acc, 'b', epochs, val_acc, 'r')\n",
    "plt.title('Training and Validation Accuracy')\n",
    "plt.xlabel('Epochs')\n",
    "plt.show()"
   ]
  },
  {
   "cell_type": "markdown",
   "metadata": {},
   "source": [
    "Compute the test loss and accuracy."
   ]
  },
  {
   "cell_type": "code",
   "execution_count": 38,
   "metadata": {},
   "outputs": [
    {
     "name": "stdout",
     "output_type": "stream",
     "text": [
      "Test loss: 1.4816746711730957\n",
      "Test accuracy: 0.7728999853134155\n"
     ]
    }
   ],
   "source": [
    "score = model.evaluate(dstest, verbose=0)\n",
    "print(\"Test loss:\", score[0])\n",
    "print(\"Test accuracy:\", score[1])"
   ]
  },
  {
   "cell_type": "markdown",
   "metadata": {},
   "source": [
    "Now try using dropout. Use the same network architecture, but use a dropout probability of 0.2 in each hidden layer, but do not use batch normalization."
   ]
  },
  {
   "cell_type": "code",
   "execution_count": 40,
   "metadata": {},
   "outputs": [
    {
     "name": "stdout",
     "output_type": "stream",
     "text": [
      "Epoch 1/100\n"
     ]
    },
    {
     "name": "stderr",
     "output_type": "stream",
     "text": [
      "/home/casager/DeepLearning/NNDesignDeepLearning/.venv/lib/python3.12/site-packages/keras/src/layers/reshaping/flatten.py:37: UserWarning: Do not pass an `input_shape`/`input_dim` argument to a layer. When using Sequential models, prefer using an `Input(shape)` object as the first layer in the model instead.\n",
      "  super().__init__(**kwargs)\n"
     ]
    },
    {
     "name": "stdout",
     "output_type": "stream",
     "text": [
      "510/510 - 2s - 4ms/step - accuracy: 0.3438 - loss: 1.7722 - val_accuracy: 0.6111 - val_loss: 1.2047\n",
      "Epoch 2/100\n",
      "510/510 - 1s - 2ms/step - accuracy: 0.5479 - loss: 1.2938 - val_accuracy: 0.6862 - val_loss: 0.9218\n",
      "Epoch 3/100\n",
      "510/510 - 1s - 2ms/step - accuracy: 0.5917 - loss: 1.1566 - val_accuracy: 0.6859 - val_loss: 0.8682\n",
      "Epoch 4/100\n",
      "510/510 - 1s - 2ms/step - accuracy: 0.6062 - loss: 1.1061 - val_accuracy: 0.6944 - val_loss: 0.8451\n",
      "Epoch 5/100\n",
      "510/510 - 1s - 1ms/step - accuracy: 0.6253 - loss: 1.0526 - val_accuracy: 0.7114 - val_loss: 0.8299\n",
      "Epoch 6/100\n",
      "510/510 - 1s - 1ms/step - accuracy: 0.6393 - loss: 1.0239 - val_accuracy: 0.7302 - val_loss: 0.7925\n",
      "Epoch 7/100\n",
      "510/510 - 1s - 1ms/step - accuracy: 0.6549 - loss: 0.9965 - val_accuracy: 0.7432 - val_loss: 0.7818\n",
      "Epoch 8/100\n",
      "510/510 - 1s - 1ms/step - accuracy: 0.6783 - loss: 0.9669 - val_accuracy: 0.7652 - val_loss: 0.7527\n",
      "Epoch 9/100\n",
      "510/510 - 1s - 1ms/step - accuracy: 0.6872 - loss: 0.9432 - val_accuracy: 0.7712 - val_loss: 0.7265\n",
      "Epoch 10/100\n",
      "510/510 - 1s - 1ms/step - accuracy: 0.6934 - loss: 0.9297 - val_accuracy: 0.7724 - val_loss: 0.7204\n",
      "Epoch 11/100\n",
      "510/510 - 1s - 1ms/step - accuracy: 0.6990 - loss: 0.9159 - val_accuracy: 0.7718 - val_loss: 0.7137\n",
      "Epoch 12/100\n",
      "510/510 - 1s - 1ms/step - accuracy: 0.7028 - loss: 0.9040 - val_accuracy: 0.7742 - val_loss: 0.7118\n",
      "Epoch 13/100\n",
      "510/510 - 1s - 1ms/step - accuracy: 0.7067 - loss: 0.8958 - val_accuracy: 0.7774 - val_loss: 0.7070\n",
      "Epoch 14/100\n",
      "510/510 - 1s - 1ms/step - accuracy: 0.7119 - loss: 0.8817 - val_accuracy: 0.7818 - val_loss: 0.6885\n",
      "Epoch 15/100\n",
      "510/510 - 1s - 1ms/step - accuracy: 0.7162 - loss: 0.8641 - val_accuracy: 0.7798 - val_loss: 0.6896\n",
      "Epoch 16/100\n",
      "510/510 - 1s - 1ms/step - accuracy: 0.7130 - loss: 0.8709 - val_accuracy: 0.7852 - val_loss: 0.6829\n",
      "Epoch 17/100\n",
      "510/510 - 1s - 1ms/step - accuracy: 0.7178 - loss: 0.8552 - val_accuracy: 0.7866 - val_loss: 0.6874\n",
      "Epoch 18/100\n",
      "510/510 - 1s - 1ms/step - accuracy: 0.7161 - loss: 0.8594 - val_accuracy: 0.7874 - val_loss: 0.6634\n",
      "Epoch 19/100\n",
      "510/510 - 1s - 1ms/step - accuracy: 0.7210 - loss: 0.8450 - val_accuracy: 0.7854 - val_loss: 0.6795\n",
      "Epoch 20/100\n",
      "510/510 - 1s - 1ms/step - accuracy: 0.7240 - loss: 0.8355 - val_accuracy: 0.7890 - val_loss: 0.6646\n",
      "Epoch 21/100\n",
      "510/510 - 1s - 1ms/step - accuracy: 0.7246 - loss: 0.8406 - val_accuracy: 0.7897 - val_loss: 0.6672\n",
      "Epoch 22/100\n",
      "510/510 - 1s - 1ms/step - accuracy: 0.7254 - loss: 0.8458 - val_accuracy: 0.7871 - val_loss: 0.6836\n",
      "Epoch 23/100\n",
      "510/510 - 1s - 1ms/step - accuracy: 0.7272 - loss: 0.8276 - val_accuracy: 0.7920 - val_loss: 0.6724\n",
      "Epoch 24/100\n",
      "510/510 - 1s - 1ms/step - accuracy: 0.7275 - loss: 0.8290 - val_accuracy: 0.7910 - val_loss: 0.6551\n",
      "Epoch 25/100\n",
      "510/510 - 1s - 1ms/step - accuracy: 0.7307 - loss: 0.8191 - val_accuracy: 0.7889 - val_loss: 0.6709\n",
      "Epoch 26/100\n",
      "510/510 - 1s - 1ms/step - accuracy: 0.7329 - loss: 0.8174 - val_accuracy: 0.7949 - val_loss: 0.6458\n",
      "Epoch 27/100\n",
      "510/510 - 1s - 1ms/step - accuracy: 0.7308 - loss: 0.8213 - val_accuracy: 0.7926 - val_loss: 0.6697\n",
      "Epoch 28/100\n",
      "510/510 - 1s - 1ms/step - accuracy: 0.7314 - loss: 0.8204 - val_accuracy: 0.7919 - val_loss: 0.6566\n",
      "Epoch 29/100\n",
      "510/510 - 1s - 1ms/step - accuracy: 0.7323 - loss: 0.8146 - val_accuracy: 0.7950 - val_loss: 0.6512\n",
      "Epoch 30/100\n",
      "510/510 - 1s - 1ms/step - accuracy: 0.7339 - loss: 0.8080 - val_accuracy: 0.7928 - val_loss: 0.6590\n",
      "Epoch 31/100\n",
      "510/510 - 1s - 1ms/step - accuracy: 0.7316 - loss: 0.8085 - val_accuracy: 0.7937 - val_loss: 0.6584\n",
      "Epoch 32/100\n",
      "510/510 - 1s - 1ms/step - accuracy: 0.7339 - loss: 0.8033 - val_accuracy: 0.7922 - val_loss: 0.6533\n",
      "Epoch 33/100\n",
      "510/510 - 1s - 1ms/step - accuracy: 0.7365 - loss: 0.8029 - val_accuracy: 0.7939 - val_loss: 0.6474\n",
      "Epoch 34/100\n",
      "510/510 - 1s - 1ms/step - accuracy: 0.7368 - loss: 0.7974 - val_accuracy: 0.7921 - val_loss: 0.6702\n",
      "Epoch 35/100\n",
      "510/510 - 1s - 1ms/step - accuracy: 0.7387 - loss: 0.7975 - val_accuracy: 0.7989 - val_loss: 0.6457\n",
      "Epoch 36/100\n",
      "510/510 - 1s - 1ms/step - accuracy: 0.7400 - loss: 0.7944 - val_accuracy: 0.7972 - val_loss: 0.6547\n",
      "Epoch 37/100\n",
      "510/510 - 1s - 1ms/step - accuracy: 0.7414 - loss: 0.7921 - val_accuracy: 0.7953 - val_loss: 0.6555\n",
      "Epoch 38/100\n",
      "510/510 - 1s - 1ms/step - accuracy: 0.7399 - loss: 0.7877 - val_accuracy: 0.7969 - val_loss: 0.6667\n",
      "Epoch 39/100\n",
      "510/510 - 1s - 1ms/step - accuracy: 0.7397 - loss: 0.7892 - val_accuracy: 0.7909 - val_loss: 0.6706\n",
      "Epoch 40/100\n",
      "510/510 - 1s - 1ms/step - accuracy: 0.7411 - loss: 0.7871 - val_accuracy: 0.7923 - val_loss: 0.6624\n",
      "Epoch 41/100\n",
      "510/510 - 1s - 1ms/step - accuracy: 0.7424 - loss: 0.7839 - val_accuracy: 0.7983 - val_loss: 0.6460\n",
      "Epoch 42/100\n",
      "510/510 - 1s - 1ms/step - accuracy: 0.7430 - loss: 0.7896 - val_accuracy: 0.8002 - val_loss: 0.6569\n",
      "Epoch 43/100\n",
      "510/510 - 1s - 1ms/step - accuracy: 0.7414 - loss: 0.7873 - val_accuracy: 0.7931 - val_loss: 0.6694\n",
      "Epoch 44/100\n",
      "510/510 - 1s - 1ms/step - accuracy: 0.7435 - loss: 0.7782 - val_accuracy: 0.8018 - val_loss: 0.6444\n",
      "Epoch 45/100\n",
      "510/510 - 1s - 1ms/step - accuracy: 0.7422 - loss: 0.7811 - val_accuracy: 0.7999 - val_loss: 0.6517\n",
      "Epoch 46/100\n",
      "510/510 - 1s - 1ms/step - accuracy: 0.7429 - loss: 0.7754 - val_accuracy: 0.7960 - val_loss: 0.6586\n",
      "Epoch 47/100\n",
      "510/510 - 1s - 1ms/step - accuracy: 0.7431 - loss: 0.7782 - val_accuracy: 0.7993 - val_loss: 0.6490\n",
      "Epoch 48/100\n",
      "510/510 - 1s - 1ms/step - accuracy: 0.7455 - loss: 0.7717 - val_accuracy: 0.7954 - val_loss: 0.6569\n",
      "Epoch 49/100\n",
      "510/510 - 1s - 1ms/step - accuracy: 0.7416 - loss: 0.7798 - val_accuracy: 0.7978 - val_loss: 0.6504\n",
      "Epoch 50/100\n",
      "510/510 - 1s - 1ms/step - accuracy: 0.7450 - loss: 0.7713 - val_accuracy: 0.7967 - val_loss: 0.6536\n",
      "Epoch 51/100\n",
      "510/510 - 1s - 1ms/step - accuracy: 0.7455 - loss: 0.7664 - val_accuracy: 0.7967 - val_loss: 0.6557\n",
      "Epoch 52/100\n",
      "510/510 - 1s - 1ms/step - accuracy: 0.7449 - loss: 0.7725 - val_accuracy: 0.7994 - val_loss: 0.6433\n",
      "Epoch 53/100\n",
      "510/510 - 1s - 1ms/step - accuracy: 0.7439 - loss: 0.7778 - val_accuracy: 0.7982 - val_loss: 0.6498\n",
      "Epoch 54/100\n",
      "510/510 - 1s - 1ms/step - accuracy: 0.7468 - loss: 0.7654 - val_accuracy: 0.8000 - val_loss: 0.6460\n",
      "Epoch 55/100\n",
      "510/510 - 1s - 1ms/step - accuracy: 0.7462 - loss: 0.7690 - val_accuracy: 0.8010 - val_loss: 0.6481\n",
      "Epoch 56/100\n",
      "510/510 - 1s - 1ms/step - accuracy: 0.7474 - loss: 0.7636 - val_accuracy: 0.8019 - val_loss: 0.6700\n",
      "Epoch 57/100\n",
      "510/510 - 1s - 1ms/step - accuracy: 0.7491 - loss: 0.7546 - val_accuracy: 0.7979 - val_loss: 0.6763\n",
      "Epoch 58/100\n",
      "510/510 - 1s - 1ms/step - accuracy: 0.7489 - loss: 0.7640 - val_accuracy: 0.8001 - val_loss: 0.6845\n",
      "Epoch 59/100\n",
      "510/510 - 1s - 1ms/step - accuracy: 0.7515 - loss: 0.7544 - val_accuracy: 0.8002 - val_loss: 0.6619\n",
      "Epoch 60/100\n",
      "510/510 - 1s - 1ms/step - accuracy: 0.7524 - loss: 0.7505 - val_accuracy: 0.7991 - val_loss: 0.6639\n",
      "Epoch 61/100\n",
      "510/510 - 1s - 1ms/step - accuracy: 0.7493 - loss: 0.7574 - val_accuracy: 0.7984 - val_loss: 0.6573\n",
      "Epoch 62/100\n",
      "510/510 - 1s - 1ms/step - accuracy: 0.7492 - loss: 0.7601 - val_accuracy: 0.8004 - val_loss: 0.6641\n",
      "Epoch 63/100\n",
      "510/510 - 1s - 1ms/step - accuracy: 0.7496 - loss: 0.7592 - val_accuracy: 0.7984 - val_loss: 0.6731\n",
      "Epoch 64/100\n",
      "510/510 - 1s - 1ms/step - accuracy: 0.7495 - loss: 0.7589 - val_accuracy: 0.7961 - val_loss: 0.6687\n",
      "Epoch 65/100\n",
      "510/510 - 1s - 1ms/step - accuracy: 0.7530 - loss: 0.7478 - val_accuracy: 0.7994 - val_loss: 0.6682\n",
      "Epoch 66/100\n",
      "510/510 - 1s - 1ms/step - accuracy: 0.7494 - loss: 0.7502 - val_accuracy: 0.8012 - val_loss: 0.6664\n",
      "Epoch 67/100\n",
      "510/510 - 1s - 1ms/step - accuracy: 0.7537 - loss: 0.7515 - val_accuracy: 0.7986 - val_loss: 0.6783\n",
      "Epoch 68/100\n",
      "510/510 - 1s - 1ms/step - accuracy: 0.7536 - loss: 0.7472 - val_accuracy: 0.7999 - val_loss: 0.6792\n",
      "Epoch 69/100\n",
      "510/510 - 1s - 1ms/step - accuracy: 0.7544 - loss: 0.7460 - val_accuracy: 0.8022 - val_loss: 0.6618\n",
      "Epoch 70/100\n",
      "510/510 - 1s - 1ms/step - accuracy: 0.7542 - loss: 0.7463 - val_accuracy: 0.8021 - val_loss: 0.6654\n",
      "Epoch 71/100\n",
      "510/510 - 1s - 1ms/step - accuracy: 0.7555 - loss: 0.7448 - val_accuracy: 0.8003 - val_loss: 0.6706\n",
      "Epoch 72/100\n",
      "510/510 - 1s - 1ms/step - accuracy: 0.7577 - loss: 0.7405 - val_accuracy: 0.8017 - val_loss: 0.6655\n",
      "Epoch 73/100\n",
      "510/510 - 1s - 1ms/step - accuracy: 0.7549 - loss: 0.7403 - val_accuracy: 0.8009 - val_loss: 0.6756\n",
      "Epoch 74/100\n",
      "510/510 - 1s - 1ms/step - accuracy: 0.7567 - loss: 0.7427 - val_accuracy: 0.7994 - val_loss: 0.6959\n",
      "Epoch 75/100\n",
      "510/510 - 1s - 1ms/step - accuracy: 0.7552 - loss: 0.7468 - val_accuracy: 0.8018 - val_loss: 0.6564\n",
      "Epoch 76/100\n",
      "510/510 - 1s - 1ms/step - accuracy: 0.7571 - loss: 0.7428 - val_accuracy: 0.8072 - val_loss: 0.6659\n",
      "Epoch 77/100\n",
      "510/510 - 1s - 1ms/step - accuracy: 0.7563 - loss: 0.7407 - val_accuracy: 0.8047 - val_loss: 0.6857\n",
      "Epoch 78/100\n",
      "510/510 - 1s - 1ms/step - accuracy: 0.7551 - loss: 0.7445 - val_accuracy: 0.8050 - val_loss: 0.6714\n",
      "Epoch 79/100\n",
      "510/510 - 1s - 1ms/step - accuracy: 0.7566 - loss: 0.7395 - val_accuracy: 0.8033 - val_loss: 0.6685\n",
      "Epoch 80/100\n",
      "510/510 - 1s - 1ms/step - accuracy: 0.7598 - loss: 0.7344 - val_accuracy: 0.8037 - val_loss: 0.6706\n",
      "Epoch 81/100\n",
      "510/510 - 1s - 1ms/step - accuracy: 0.7557 - loss: 0.7371 - val_accuracy: 0.8036 - val_loss: 0.6793\n",
      "Epoch 82/100\n",
      "510/510 - 1s - 1ms/step - accuracy: 0.7584 - loss: 0.7342 - val_accuracy: 0.8010 - val_loss: 0.6567\n",
      "Epoch 83/100\n",
      "510/510 - 1s - 1ms/step - accuracy: 0.7602 - loss: 0.7296 - val_accuracy: 0.8008 - val_loss: 0.6816\n",
      "Epoch 84/100\n",
      "510/510 - 1s - 1ms/step - accuracy: 0.7602 - loss: 0.7339 - val_accuracy: 0.8011 - val_loss: 0.6874\n",
      "Epoch 85/100\n",
      "510/510 - 1s - 1ms/step - accuracy: 0.7608 - loss: 0.7280 - val_accuracy: 0.8058 - val_loss: 0.6719\n",
      "Epoch 86/100\n",
      "510/510 - 1s - 1ms/step - accuracy: 0.7607 - loss: 0.7328 - val_accuracy: 0.8009 - val_loss: 0.6948\n",
      "Epoch 87/100\n",
      "510/510 - 1s - 1ms/step - accuracy: 0.7598 - loss: 0.7304 - val_accuracy: 0.8024 - val_loss: 0.6849\n",
      "Epoch 88/100\n",
      "510/510 - 1s - 1ms/step - accuracy: 0.7579 - loss: 0.7359 - val_accuracy: 0.8018 - val_loss: 0.6942\n",
      "Epoch 89/100\n",
      "510/510 - 1s - 1ms/step - accuracy: 0.7568 - loss: 0.7356 - val_accuracy: 0.7998 - val_loss: 0.6824\n",
      "Epoch 90/100\n",
      "510/510 - 1s - 1ms/step - accuracy: 0.7617 - loss: 0.7308 - val_accuracy: 0.8023 - val_loss: 0.6750\n",
      "Epoch 91/100\n",
      "510/510 - 1s - 1ms/step - accuracy: 0.7594 - loss: 0.7263 - val_accuracy: 0.8012 - val_loss: 0.6766\n",
      "Epoch 92/100\n",
      "510/510 - 1s - 1ms/step - accuracy: 0.7599 - loss: 0.7288 - val_accuracy: 0.8002 - val_loss: 0.6967\n",
      "Epoch 93/100\n",
      "510/510 - 1s - 1ms/step - accuracy: 0.7615 - loss: 0.7258 - val_accuracy: 0.8031 - val_loss: 0.6714\n",
      "Epoch 94/100\n",
      "510/510 - 1s - 1ms/step - accuracy: 0.7614 - loss: 0.7253 - val_accuracy: 0.8007 - val_loss: 0.6851\n",
      "Epoch 95/100\n",
      "510/510 - 1s - 1ms/step - accuracy: 0.7597 - loss: 0.7309 - val_accuracy: 0.8010 - val_loss: 0.6745\n",
      "Epoch 96/100\n",
      "510/510 - 1s - 1ms/step - accuracy: 0.7637 - loss: 0.7205 - val_accuracy: 0.8043 - val_loss: 0.6759\n",
      "Epoch 97/100\n",
      "510/510 - 1s - 1ms/step - accuracy: 0.7652 - loss: 0.7244 - val_accuracy: 0.8012 - val_loss: 0.6732\n",
      "Epoch 98/100\n",
      "510/510 - 1s - 1ms/step - accuracy: 0.7637 - loss: 0.7251 - val_accuracy: 0.8046 - val_loss: 0.6824\n",
      "Epoch 99/100\n",
      "510/510 - 1s - 1ms/step - accuracy: 0.7619 - loss: 0.7279 - val_accuracy: 0.8004 - val_loss: 0.6986\n",
      "Epoch 100/100\n",
      "510/510 - 1s - 1ms/step - accuracy: 0.7646 - loss: 0.7229 - val_accuracy: 0.8037 - val_loss: 0.6908\n"
     ]
    }
   ],
   "source": [
    "ARGS = [[20, 0.2, False]]*5\n",
    "model = make_model_do_bn(ARGS)\n",
    "model.compile(\n",
    "    optimizer = 'adam',\n",
    "    loss = SparseCategoricalCrossentropy(),\n",
    "    metrics = ['accuracy']    \n",
    ")\n",
    "history = model.fit(\n",
    "    dstrain,\n",
    "    epochs=100,\n",
    "    verbose=2,\n",
    "    validation_data=dsval\n",
    ")"
   ]
  },
  {
   "cell_type": "markdown",
   "metadata": {},
   "source": [
    "Plot the training and validation accuracy. Check for overfitting. \n",
    "- Much less overfitting than BN\n"
   ]
  },
  {
   "cell_type": "code",
   "execution_count": 41,
   "metadata": {},
   "outputs": [
    {
     "data": {
      "image/png": "[encoded data removed]",
      "text/plain": [
       "<Figure size 640x480 with 1 Axes>"
      ]
     },
     "metadata": {},
     "output_type": "display_data"
    }
   ],
   "source": [
    "history_dict = history.history\n",
    "train_acc = history_dict['accuracy']\n",
    "val_acc = history_dict['val_accuracy']\n",
    "epochs = history.epoch\n",
    "plt.plot(epochs, train_acc, 'b', epochs, val_acc, 'r')\n",
    "plt.title('Training and Validation Accuracy')\n",
    "plt.xlabel('Epochs')\n",
    "plt.show()"
   ]
  },
  {
   "cell_type": "markdown",
   "metadata": {},
   "source": [
    "Calculate the testing loss and accuracy."
   ]
  },
  {
   "cell_type": "code",
   "execution_count": 42,
   "metadata": {},
   "outputs": [
    {
     "name": "stdout",
     "output_type": "stream",
     "text": [
      "Test loss: 1.1223286390304565\n",
      "Test accuracy: 0.6833999752998352\n"
     ]
    }
   ],
   "source": [
    "score = model.evaluate(dstest, verbose=0)\n",
    "print(\"Test loss:\", score[0])\n",
    "print(\"Test accuracy:\", score[1])"
   ]
  },
  {
   "cell_type": "markdown",
   "metadata": {},
   "source": [
    "## Explore Further\n",
    "\n",
    "Now you know how to use augmentation, dropout and batch normalization. With these tools, see how high you can get the test accuracy by combining these approaches. You can see that there are many different options that can be tried, and remember that you can change the optimizer and the learning rate, as well as the network architecture. Don't just randomly try different combinations. Adjust one thing at a time, and see if you can determine what effect each modification has.\n",
    "\n",
    "Here are some things to consider.\n",
    "\n",
    "1. With your experience from the first lab, without using any of the  methods from this lab, find a network that produces the largest training accuracy.\n",
    "1. Retrain the network using each of the methods introduced in this lab separately. Experiment with the dropout probability and the layers where you place dropout. Experiment with the layers where you place batch normalization. Using the methods from this lab, can  you use larger networks and increase accuracy, without overfitting?\n",
    "1. After testing each method separately, start to experiment with combinations. Augmentation can be used with all other methods, but there may be combinations of dropout and batch normalization that are not as effective.\n",
    "1. For each case that you try, plot the traning and validation accuracy to check for overfitting and to determine if you are training for enough iterations."
   ]
  }
 ],
 "metadata": {
  "kernelspec": {
   "display_name": ".venv",
   "language": "python",
   "name": "python3"
  },
  "language_info": {
   "codemirror_mode": {
    "name": "ipython",
    "version": 3
   },
   "file_extension": ".py",
   "mimetype": "text/x-python",
   "name": "python",
   "nbconvert_exporter": "python",
   "pygments_lexer": "ipython3",
   "version": "3.12.3"
  }
 },
 "nbformat": 4,
 "nbformat_minor": 4
}
